{
 "cells": [
  {
   "cell_type": "markdown",
   "metadata": {},
   "source": [
    "# Recovery of Gold in Mining\n",
    "\n",
    "\n",
    "Gold mining is a very detailed process. Mined ore undergoes primary processing to get the ore mixture or rougher feed, which is the raw material for flotation (also known as the rougher process). Gold ore mixture is fed into the float banks to obtain rougher gold concentrate and rougher tails (product residues with a low concentration of valuable metals).  This process is not completely stable.  The material post flotation is sent into purification.The rougher concentrate undergoes two stages of purification. After purification, we have the final concentrate and new tails.\n",
    "\n",
    "Demonstration of machine learning knowledge will be demonstrated by preparing, analyzing, and building a model connected to raw data of gold mining from a warehouse. The data is stored in three files:gold_recovery_train.csv(training dataset), gold_recovery_test.csv (test dataset), gold_recovery_full.csv (source dataset). The source dataset contains the training and test sets with all the features.  Some of the features that are present in the training set may be absent from the test set since measured later.\n",
    "\n",
    "Data Preparation will involve:\n",
    "1.1 Check that recovery is calculated correctly. Using the training set, calculate recovery for the rougher.output.recovery feature. Find the MAE between your calculations and the feature values. \n",
    "1.2. Analyze the features not available in the test set.\n",
    "1.3. Perform data preprocessing.\n",
    "\n",
    "Data Analyziation will involve:\n",
    "2.1. Discovery of how the concentrations of metals (Au, Ag, Pb) change depending on the purification stage.\n",
    "2.2. Comparision of the feed particle size distributions in the training set and in the test set. \n",
    "2.3. Evaluate the total concentrations of all substances at different stages: raw feed, rougher concentrate, and final concentrate (abnormalities in distribution, decisions to remove or not) \n",
    "\n",
    "Model Builiding \n",
    "3.1. Write a function to calculate the final sMAPE value.\n",
    "3.2. Train different models. Evaluate them using cross-validation. Pick the best model and test it using the test sample. Provide findings.\n",
    "\n",
    "Feature naming follows following pattern:\n",
    "[stage].[parameter_type].[parameter_name]\n",
    "Example: rougher.input.feed_ag\n",
    "\n",
    "Possible values for [stage]:\n",
    "rougher — flotation\n",
    "primary_cleaner — primary purification\n",
    "secondary_cleaner — secondary purification\n",
    "final — final characteristics\n",
    "\n",
    "Possible values for [parameter_type]:\n",
    "input — raw material parameters\n",
    "output — product parameters\n",
    "state — parameters characterizing the current state of the stage\n",
    "calculation — calculation characteristics\n",
    "\n",
    "Recovery calculated by:{[C*(F-T)]/[F* (C-T)]}*100\n",
    "where:\n",
    "C — share of gold in the concentrate right after flotation \n",
    "F — share of gold in the feed before flotation \n",
    "T — share of gold in the rougher tails right after flotation \n",
    "\n",
    "Evaluation will be performed using sMAPE(symmetric Mean Absolute Percentage Error) since it takes into takes into account the scale of both the target and the prediction. \n",
    "\n",
    "We need to predict two values:\n",
    "rougher concentrate recovery rougher.output.recovery\n",
    "final concentrate recovery final.output.recovery\n",
    "\n",
    "\n",
    "\n"
   ]
  },
  {
   "cell_type": "code",
   "execution_count": 1,
   "metadata": {},
   "outputs": [],
   "source": [
    "#import all needed libraries \n",
    "import pandas as pd\n",
    "import numpy as np\n",
    "\n",
    "#import display libraries \n",
    "import seaborn as sns\n",
    "import matplotlib.pyplot as plt\n",
    "\n",
    "#import named regression models \n",
    "from sklearn.linear_model import LinearRegression\n",
    "from sklearn.ensemble import RandomForestRegressor\n",
    "\n",
    "\n",
    "\n",
    "#import ability to split into training and testing data sets \n",
    "from sklearn.model_selection import train_test_split\n",
    "\n",
    "#import ability to evaluate accuracy of data \n",
    "from sklearn.metrics import mean_squared_error\n",
    "from sklearn.metrics import accuracy_score\n",
    "\n",
    "\n",
    "from joblib import dump\n",
    "\n",
    "#needed to compare. \n",
    "from sklearn.utils import shuffle\n",
    "from sklearn.utils import resample\n",
    "from sklearn.metrics import f1_score\n",
    "from sklearn.metrics import roc_curve\n",
    "from sklearn.metrics import roc_auc_score\n",
    "from sklearn.model_selection import GridSearchCV\n",
    "from sklearn.metrics import mean_squared_error\n"
   ]
  },
  {
   "cell_type": "code",
   "execution_count": 2,
   "metadata": {},
   "outputs": [],
   "source": [
    "gtrain=pd.read_csv('/datasets/gold_recovery_train.csv')\n",
    "gtest=pd.read_csv('/datasets/gold_recovery_test.csv')\n",
    "gfull=pd.read_csv('/datasets/gold_recovery_full.csv')"
   ]
  },
  {
   "cell_type": "markdown",
   "metadata": {},
   "source": [
    "Data Preparation"
   ]
  },
  {
   "cell_type": "code",
   "execution_count": 3,
   "metadata": {},
   "outputs": [],
   "source": [
    "golds=[gtrain, gtest, gfull]"
   ]
  },
  {
   "cell_type": "code",
   "execution_count": 4,
   "metadata": {},
   "outputs": [
    {
     "name": "stdout",
     "output_type": "stream",
     "text": [
      "Dataframe Info for or Site 0\n",
      "<class 'pandas.core.frame.DataFrame'>\n",
      "RangeIndex: 16860 entries, 0 to 16859\n",
      "Data columns (total 87 columns):\n",
      " #   Column                                              Non-Null Count  Dtype  \n",
      "---  ------                                              --------------  -----  \n",
      " 0   date                                                16860 non-null  object \n",
      " 1   final.output.concentrate_ag                         16788 non-null  float64\n",
      " 2   final.output.concentrate_pb                         16788 non-null  float64\n",
      " 3   final.output.concentrate_sol                        16490 non-null  float64\n",
      " 4   final.output.concentrate_au                         16789 non-null  float64\n",
      " 5   final.output.recovery                               15339 non-null  float64\n",
      " 6   final.output.tail_ag                                16794 non-null  float64\n",
      " 7   final.output.tail_pb                                16677 non-null  float64\n",
      " 8   final.output.tail_sol                               16715 non-null  float64\n",
      " 9   final.output.tail_au                                16794 non-null  float64\n",
      " 10  primary_cleaner.input.sulfate                       15553 non-null  float64\n",
      " 11  primary_cleaner.input.depressant                    15598 non-null  float64\n",
      " 12  primary_cleaner.input.feed_size                     16860 non-null  float64\n",
      " 13  primary_cleaner.input.xanthate                      15875 non-null  float64\n",
      " 14  primary_cleaner.output.concentrate_ag               16778 non-null  float64\n",
      " 15  primary_cleaner.output.concentrate_pb               16502 non-null  float64\n",
      " 16  primary_cleaner.output.concentrate_sol              16224 non-null  float64\n",
      " 17  primary_cleaner.output.concentrate_au               16778 non-null  float64\n",
      " 18  primary_cleaner.output.tail_ag                      16777 non-null  float64\n",
      " 19  primary_cleaner.output.tail_pb                      16761 non-null  float64\n",
      " 20  primary_cleaner.output.tail_sol                     16579 non-null  float64\n",
      " 21  primary_cleaner.output.tail_au                      16777 non-null  float64\n",
      " 22  primary_cleaner.state.floatbank8_a_air              16820 non-null  float64\n",
      " 23  primary_cleaner.state.floatbank8_a_level            16827 non-null  float64\n",
      " 24  primary_cleaner.state.floatbank8_b_air              16820 non-null  float64\n",
      " 25  primary_cleaner.state.floatbank8_b_level            16833 non-null  float64\n",
      " 26  primary_cleaner.state.floatbank8_c_air              16822 non-null  float64\n",
      " 27  primary_cleaner.state.floatbank8_c_level            16833 non-null  float64\n",
      " 28  primary_cleaner.state.floatbank8_d_air              16821 non-null  float64\n",
      " 29  primary_cleaner.state.floatbank8_d_level            16833 non-null  float64\n",
      " 30  rougher.calculation.sulfate_to_au_concentrate       16833 non-null  float64\n",
      " 31  rougher.calculation.floatbank10_sulfate_to_au_feed  16833 non-null  float64\n",
      " 32  rougher.calculation.floatbank11_sulfate_to_au_feed  16833 non-null  float64\n",
      " 33  rougher.calculation.au_pb_ratio                     15618 non-null  float64\n",
      " 34  rougher.input.feed_ag                               16778 non-null  float64\n",
      " 35  rougher.input.feed_pb                               16632 non-null  float64\n",
      " 36  rougher.input.feed_rate                             16347 non-null  float64\n",
      " 37  rougher.input.feed_size                             16443 non-null  float64\n",
      " 38  rougher.input.feed_sol                              16568 non-null  float64\n",
      " 39  rougher.input.feed_au                               16777 non-null  float64\n",
      " 40  rougher.input.floatbank10_sulfate                   15816 non-null  float64\n",
      " 41  rougher.input.floatbank10_xanthate                  16514 non-null  float64\n",
      " 42  rougher.input.floatbank11_sulfate                   16237 non-null  float64\n",
      " 43  rougher.input.floatbank11_xanthate                  14956 non-null  float64\n",
      " 44  rougher.output.concentrate_ag                       16778 non-null  float64\n",
      " 45  rougher.output.concentrate_pb                       16778 non-null  float64\n",
      " 46  rougher.output.concentrate_sol                      16698 non-null  float64\n",
      " 47  rougher.output.concentrate_au                       16778 non-null  float64\n",
      " 48  rougher.output.recovery                             14287 non-null  float64\n",
      " 49  rougher.output.tail_ag                              14610 non-null  float64\n",
      " 50  rougher.output.tail_pb                              16778 non-null  float64\n",
      " 51  rougher.output.tail_sol                             14611 non-null  float64\n",
      " 52  rougher.output.tail_au                              14611 non-null  float64\n",
      " 53  rougher.state.floatbank10_a_air                     16807 non-null  float64\n",
      " 54  rougher.state.floatbank10_a_level                   16807 non-null  float64\n",
      " 55  rougher.state.floatbank10_b_air                     16807 non-null  float64\n",
      " 56  rougher.state.floatbank10_b_level                   16807 non-null  float64\n",
      " 57  rougher.state.floatbank10_c_air                     16807 non-null  float64\n",
      " 58  rougher.state.floatbank10_c_level                   16814 non-null  float64\n",
      " 59  rougher.state.floatbank10_d_air                     16802 non-null  float64\n",
      " 60  rougher.state.floatbank10_d_level                   16809 non-null  float64\n",
      " 61  rougher.state.floatbank10_e_air                     16257 non-null  float64\n",
      " 62  rougher.state.floatbank10_e_level                   16809 non-null  float64\n",
      " 63  rougher.state.floatbank10_f_air                     16802 non-null  float64\n",
      " 64  rougher.state.floatbank10_f_level                   16802 non-null  float64\n",
      " 65  secondary_cleaner.output.tail_ag                    16776 non-null  float64\n",
      " 66  secondary_cleaner.output.tail_pb                    16764 non-null  float64\n",
      " 67  secondary_cleaner.output.tail_sol                   14874 non-null  float64\n",
      " 68  secondary_cleaner.output.tail_au                    16778 non-null  float64\n",
      " 69  secondary_cleaner.state.floatbank2_a_air            16497 non-null  float64\n",
      " 70  secondary_cleaner.state.floatbank2_a_level          16751 non-null  float64\n",
      " 71  secondary_cleaner.state.floatbank2_b_air            16705 non-null  float64\n",
      " 72  secondary_cleaner.state.floatbank2_b_level          16748 non-null  float64\n",
      " 73  secondary_cleaner.state.floatbank3_a_air            16763 non-null  float64\n",
      " 74  secondary_cleaner.state.floatbank3_a_level          16747 non-null  float64\n",
      " 75  secondary_cleaner.state.floatbank3_b_air            16752 non-null  float64\n",
      " 76  secondary_cleaner.state.floatbank3_b_level          16750 non-null  float64\n",
      " 77  secondary_cleaner.state.floatbank4_a_air            16731 non-null  float64\n",
      " 78  secondary_cleaner.state.floatbank4_a_level          16747 non-null  float64\n",
      " 79  secondary_cleaner.state.floatbank4_b_air            16768 non-null  float64\n",
      " 80  secondary_cleaner.state.floatbank4_b_level          16767 non-null  float64\n",
      " 81  secondary_cleaner.state.floatbank5_a_air            16775 non-null  float64\n",
      " 82  secondary_cleaner.state.floatbank5_a_level          16775 non-null  float64\n",
      " 83  secondary_cleaner.state.floatbank5_b_air            16775 non-null  float64\n",
      " 84  secondary_cleaner.state.floatbank5_b_level          16776 non-null  float64\n",
      " 85  secondary_cleaner.state.floatbank6_a_air            16757 non-null  float64\n",
      " 86  secondary_cleaner.state.floatbank6_a_level          16775 non-null  float64\n",
      "dtypes: float64(86), object(1)\n",
      "memory usage: 11.2+ MB\n",
      "None\n",
      "date                                            0\n",
      "final.output.concentrate_ag                    72\n",
      "final.output.concentrate_pb                    72\n",
      "final.output.concentrate_sol                  370\n",
      "final.output.concentrate_au                    71\n",
      "                                             ... \n",
      "secondary_cleaner.state.floatbank5_a_level     85\n",
      "secondary_cleaner.state.floatbank5_b_air       85\n",
      "secondary_cleaner.state.floatbank5_b_level     84\n",
      "secondary_cleaner.state.floatbank6_a_air      103\n",
      "secondary_cleaner.state.floatbank6_a_level     85\n",
      "Length: 87, dtype: int64\n",
      "Index(['date', 'final.output.concentrate_ag', 'final.output.concentrate_pb',\n",
      "       'final.output.concentrate_sol', 'final.output.concentrate_au',\n",
      "       'final.output.recovery', 'final.output.tail_ag', 'final.output.tail_pb',\n",
      "       'final.output.tail_sol', 'final.output.tail_au',\n",
      "       'primary_cleaner.input.sulfate', 'primary_cleaner.input.depressant',\n",
      "       'primary_cleaner.input.feed_size', 'primary_cleaner.input.xanthate',\n",
      "       'primary_cleaner.output.concentrate_ag',\n",
      "       'primary_cleaner.output.concentrate_pb',\n",
      "       'primary_cleaner.output.concentrate_sol',\n",
      "       'primary_cleaner.output.concentrate_au',\n",
      "       'primary_cleaner.output.tail_ag', 'primary_cleaner.output.tail_pb',\n",
      "       'primary_cleaner.output.tail_sol', 'primary_cleaner.output.tail_au',\n",
      "       'primary_cleaner.state.floatbank8_a_air',\n",
      "       'primary_cleaner.state.floatbank8_a_level',\n",
      "       'primary_cleaner.state.floatbank8_b_air',\n",
      "       'primary_cleaner.state.floatbank8_b_level',\n",
      "       'primary_cleaner.state.floatbank8_c_air',\n",
      "       'primary_cleaner.state.floatbank8_c_level',\n",
      "       'primary_cleaner.state.floatbank8_d_air',\n",
      "       'primary_cleaner.state.floatbank8_d_level',\n",
      "       'rougher.calculation.sulfate_to_au_concentrate',\n",
      "       'rougher.calculation.floatbank10_sulfate_to_au_feed',\n",
      "       'rougher.calculation.floatbank11_sulfate_to_au_feed',\n",
      "       'rougher.calculation.au_pb_ratio', 'rougher.input.feed_ag',\n",
      "       'rougher.input.feed_pb', 'rougher.input.feed_rate',\n",
      "       'rougher.input.feed_size', 'rougher.input.feed_sol',\n",
      "       'rougher.input.feed_au', 'rougher.input.floatbank10_sulfate',\n",
      "       'rougher.input.floatbank10_xanthate',\n",
      "       'rougher.input.floatbank11_sulfate',\n",
      "       'rougher.input.floatbank11_xanthate', 'rougher.output.concentrate_ag',\n",
      "       'rougher.output.concentrate_pb', 'rougher.output.concentrate_sol',\n",
      "       'rougher.output.concentrate_au', 'rougher.output.recovery',\n",
      "       'rougher.output.tail_ag', 'rougher.output.tail_pb',\n",
      "       'rougher.output.tail_sol', 'rougher.output.tail_au',\n",
      "       'rougher.state.floatbank10_a_air', 'rougher.state.floatbank10_a_level',\n",
      "       'rougher.state.floatbank10_b_air', 'rougher.state.floatbank10_b_level',\n",
      "       'rougher.state.floatbank10_c_air', 'rougher.state.floatbank10_c_level',\n",
      "       'rougher.state.floatbank10_d_air', 'rougher.state.floatbank10_d_level',\n",
      "       'rougher.state.floatbank10_e_air', 'rougher.state.floatbank10_e_level',\n",
      "       'rougher.state.floatbank10_f_air', 'rougher.state.floatbank10_f_level',\n",
      "       'secondary_cleaner.output.tail_ag', 'secondary_cleaner.output.tail_pb',\n",
      "       'secondary_cleaner.output.tail_sol', 'secondary_cleaner.output.tail_au',\n",
      "       'secondary_cleaner.state.floatbank2_a_air',\n",
      "       'secondary_cleaner.state.floatbank2_a_level',\n",
      "       'secondary_cleaner.state.floatbank2_b_air',\n",
      "       'secondary_cleaner.state.floatbank2_b_level',\n",
      "       'secondary_cleaner.state.floatbank3_a_air',\n",
      "       'secondary_cleaner.state.floatbank3_a_level',\n",
      "       'secondary_cleaner.state.floatbank3_b_air',\n",
      "       'secondary_cleaner.state.floatbank3_b_level',\n",
      "       'secondary_cleaner.state.floatbank4_a_air',\n",
      "       'secondary_cleaner.state.floatbank4_a_level',\n",
      "       'secondary_cleaner.state.floatbank4_b_air',\n",
      "       'secondary_cleaner.state.floatbank4_b_level',\n",
      "       'secondary_cleaner.state.floatbank5_a_air',\n",
      "       'secondary_cleaner.state.floatbank5_a_level',\n",
      "       'secondary_cleaner.state.floatbank5_b_air',\n",
      "       'secondary_cleaner.state.floatbank5_b_level',\n",
      "       'secondary_cleaner.state.floatbank6_a_air',\n",
      "       'secondary_cleaner.state.floatbank6_a_level'],\n",
      "      dtype='object')\n",
      "******************************************\n",
      "Dataframe Info for or Site 1\n",
      "<class 'pandas.core.frame.DataFrame'>\n",
      "RangeIndex: 5856 entries, 0 to 5855\n",
      "Data columns (total 53 columns):\n",
      " #   Column                                      Non-Null Count  Dtype  \n",
      "---  ------                                      --------------  -----  \n",
      " 0   date                                        5856 non-null   object \n",
      " 1   primary_cleaner.input.sulfate               5554 non-null   float64\n",
      " 2   primary_cleaner.input.depressant            5572 non-null   float64\n",
      " 3   primary_cleaner.input.feed_size             5856 non-null   float64\n",
      " 4   primary_cleaner.input.xanthate              5690 non-null   float64\n",
      " 5   primary_cleaner.state.floatbank8_a_air      5840 non-null   float64\n",
      " 6   primary_cleaner.state.floatbank8_a_level    5840 non-null   float64\n",
      " 7   primary_cleaner.state.floatbank8_b_air      5840 non-null   float64\n",
      " 8   primary_cleaner.state.floatbank8_b_level    5840 non-null   float64\n",
      " 9   primary_cleaner.state.floatbank8_c_air      5840 non-null   float64\n",
      " 10  primary_cleaner.state.floatbank8_c_level    5840 non-null   float64\n",
      " 11  primary_cleaner.state.floatbank8_d_air      5840 non-null   float64\n",
      " 12  primary_cleaner.state.floatbank8_d_level    5840 non-null   float64\n",
      " 13  rougher.input.feed_ag                       5840 non-null   float64\n",
      " 14  rougher.input.feed_pb                       5840 non-null   float64\n",
      " 15  rougher.input.feed_rate                     5816 non-null   float64\n",
      " 16  rougher.input.feed_size                     5834 non-null   float64\n",
      " 17  rougher.input.feed_sol                      5789 non-null   float64\n",
      " 18  rougher.input.feed_au                       5840 non-null   float64\n",
      " 19  rougher.input.floatbank10_sulfate           5599 non-null   float64\n",
      " 20  rougher.input.floatbank10_xanthate          5733 non-null   float64\n",
      " 21  rougher.input.floatbank11_sulfate           5801 non-null   float64\n",
      " 22  rougher.input.floatbank11_xanthate          5503 non-null   float64\n",
      " 23  rougher.state.floatbank10_a_air             5839 non-null   float64\n",
      " 24  rougher.state.floatbank10_a_level           5840 non-null   float64\n",
      " 25  rougher.state.floatbank10_b_air             5839 non-null   float64\n",
      " 26  rougher.state.floatbank10_b_level           5840 non-null   float64\n",
      " 27  rougher.state.floatbank10_c_air             5839 non-null   float64\n",
      " 28  rougher.state.floatbank10_c_level           5840 non-null   float64\n",
      " 29  rougher.state.floatbank10_d_air             5839 non-null   float64\n",
      " 30  rougher.state.floatbank10_d_level           5840 non-null   float64\n",
      " 31  rougher.state.floatbank10_e_air             5839 non-null   float64\n",
      " 32  rougher.state.floatbank10_e_level           5840 non-null   float64\n",
      " 33  rougher.state.floatbank10_f_air             5839 non-null   float64\n",
      " 34  rougher.state.floatbank10_f_level           5840 non-null   float64\n",
      " 35  secondary_cleaner.state.floatbank2_a_air    5836 non-null   float64\n",
      " 36  secondary_cleaner.state.floatbank2_a_level  5840 non-null   float64\n",
      " 37  secondary_cleaner.state.floatbank2_b_air    5833 non-null   float64\n",
      " 38  secondary_cleaner.state.floatbank2_b_level  5840 non-null   float64\n",
      " 39  secondary_cleaner.state.floatbank3_a_air    5822 non-null   float64\n",
      " 40  secondary_cleaner.state.floatbank3_a_level  5840 non-null   float64\n",
      " 41  secondary_cleaner.state.floatbank3_b_air    5840 non-null   float64\n",
      " 42  secondary_cleaner.state.floatbank3_b_level  5840 non-null   float64\n",
      " 43  secondary_cleaner.state.floatbank4_a_air    5840 non-null   float64\n",
      " 44  secondary_cleaner.state.floatbank4_a_level  5840 non-null   float64\n",
      " 45  secondary_cleaner.state.floatbank4_b_air    5840 non-null   float64\n",
      " 46  secondary_cleaner.state.floatbank4_b_level  5840 non-null   float64\n",
      " 47  secondary_cleaner.state.floatbank5_a_air    5840 non-null   float64\n",
      " 48  secondary_cleaner.state.floatbank5_a_level  5840 non-null   float64\n",
      " 49  secondary_cleaner.state.floatbank5_b_air    5840 non-null   float64\n",
      " 50  secondary_cleaner.state.floatbank5_b_level  5840 non-null   float64\n",
      " 51  secondary_cleaner.state.floatbank6_a_air    5840 non-null   float64\n",
      " 52  secondary_cleaner.state.floatbank6_a_level  5840 non-null   float64\n",
      "dtypes: float64(52), object(1)\n",
      "memory usage: 2.4+ MB\n",
      "None\n",
      "date                                            0\n",
      "primary_cleaner.input.sulfate                 302\n",
      "primary_cleaner.input.depressant              284\n",
      "primary_cleaner.input.feed_size                 0\n",
      "primary_cleaner.input.xanthate                166\n",
      "primary_cleaner.state.floatbank8_a_air         16\n",
      "primary_cleaner.state.floatbank8_a_level       16\n",
      "primary_cleaner.state.floatbank8_b_air         16\n",
      "primary_cleaner.state.floatbank8_b_level       16\n",
      "primary_cleaner.state.floatbank8_c_air         16\n",
      "primary_cleaner.state.floatbank8_c_level       16\n",
      "primary_cleaner.state.floatbank8_d_air         16\n",
      "primary_cleaner.state.floatbank8_d_level       16\n",
      "rougher.input.feed_ag                          16\n",
      "rougher.input.feed_pb                          16\n",
      "rougher.input.feed_rate                        40\n",
      "rougher.input.feed_size                        22\n",
      "rougher.input.feed_sol                         67\n",
      "rougher.input.feed_au                          16\n",
      "rougher.input.floatbank10_sulfate             257\n",
      "rougher.input.floatbank10_xanthate            123\n",
      "rougher.input.floatbank11_sulfate              55\n",
      "rougher.input.floatbank11_xanthate            353\n",
      "rougher.state.floatbank10_a_air                17\n",
      "rougher.state.floatbank10_a_level              16\n",
      "rougher.state.floatbank10_b_air                17\n",
      "rougher.state.floatbank10_b_level              16\n",
      "rougher.state.floatbank10_c_air                17\n",
      "rougher.state.floatbank10_c_level              16\n",
      "rougher.state.floatbank10_d_air                17\n",
      "rougher.state.floatbank10_d_level              16\n",
      "rougher.state.floatbank10_e_air                17\n",
      "rougher.state.floatbank10_e_level              16\n",
      "rougher.state.floatbank10_f_air                17\n",
      "rougher.state.floatbank10_f_level              16\n",
      "secondary_cleaner.state.floatbank2_a_air       20\n",
      "secondary_cleaner.state.floatbank2_a_level     16\n",
      "secondary_cleaner.state.floatbank2_b_air       23\n",
      "secondary_cleaner.state.floatbank2_b_level     16\n",
      "secondary_cleaner.state.floatbank3_a_air       34\n",
      "secondary_cleaner.state.floatbank3_a_level     16\n",
      "secondary_cleaner.state.floatbank3_b_air       16\n",
      "secondary_cleaner.state.floatbank3_b_level     16\n",
      "secondary_cleaner.state.floatbank4_a_air       16\n",
      "secondary_cleaner.state.floatbank4_a_level     16\n",
      "secondary_cleaner.state.floatbank4_b_air       16\n",
      "secondary_cleaner.state.floatbank4_b_level     16\n",
      "secondary_cleaner.state.floatbank5_a_air       16\n",
      "secondary_cleaner.state.floatbank5_a_level     16\n",
      "secondary_cleaner.state.floatbank5_b_air       16\n",
      "secondary_cleaner.state.floatbank5_b_level     16\n",
      "secondary_cleaner.state.floatbank6_a_air       16\n",
      "secondary_cleaner.state.floatbank6_a_level     16\n",
      "dtype: int64\n",
      "Index(['date', 'primary_cleaner.input.sulfate',\n",
      "       'primary_cleaner.input.depressant', 'primary_cleaner.input.feed_size',\n",
      "       'primary_cleaner.input.xanthate',\n",
      "       'primary_cleaner.state.floatbank8_a_air',\n",
      "       'primary_cleaner.state.floatbank8_a_level',\n",
      "       'primary_cleaner.state.floatbank8_b_air',\n",
      "       'primary_cleaner.state.floatbank8_b_level',\n",
      "       'primary_cleaner.state.floatbank8_c_air',\n",
      "       'primary_cleaner.state.floatbank8_c_level',\n",
      "       'primary_cleaner.state.floatbank8_d_air',\n",
      "       'primary_cleaner.state.floatbank8_d_level', 'rougher.input.feed_ag',\n",
      "       'rougher.input.feed_pb', 'rougher.input.feed_rate',\n",
      "       'rougher.input.feed_size', 'rougher.input.feed_sol',\n",
      "       'rougher.input.feed_au', 'rougher.input.floatbank10_sulfate',\n",
      "       'rougher.input.floatbank10_xanthate',\n",
      "       'rougher.input.floatbank11_sulfate',\n",
      "       'rougher.input.floatbank11_xanthate', 'rougher.state.floatbank10_a_air',\n",
      "       'rougher.state.floatbank10_a_level', 'rougher.state.floatbank10_b_air',\n",
      "       'rougher.state.floatbank10_b_level', 'rougher.state.floatbank10_c_air',\n",
      "       'rougher.state.floatbank10_c_level', 'rougher.state.floatbank10_d_air',\n",
      "       'rougher.state.floatbank10_d_level', 'rougher.state.floatbank10_e_air',\n",
      "       'rougher.state.floatbank10_e_level', 'rougher.state.floatbank10_f_air',\n",
      "       'rougher.state.floatbank10_f_level',\n",
      "       'secondary_cleaner.state.floatbank2_a_air',\n",
      "       'secondary_cleaner.state.floatbank2_a_level',\n",
      "       'secondary_cleaner.state.floatbank2_b_air',\n",
      "       'secondary_cleaner.state.floatbank2_b_level',\n",
      "       'secondary_cleaner.state.floatbank3_a_air',\n",
      "       'secondary_cleaner.state.floatbank3_a_level',\n",
      "       'secondary_cleaner.state.floatbank3_b_air',\n",
      "       'secondary_cleaner.state.floatbank3_b_level',\n",
      "       'secondary_cleaner.state.floatbank4_a_air',\n",
      "       'secondary_cleaner.state.floatbank4_a_level',\n",
      "       'secondary_cleaner.state.floatbank4_b_air',\n",
      "       'secondary_cleaner.state.floatbank4_b_level',\n",
      "       'secondary_cleaner.state.floatbank5_a_air',\n",
      "       'secondary_cleaner.state.floatbank5_a_level',\n",
      "       'secondary_cleaner.state.floatbank5_b_air',\n",
      "       'secondary_cleaner.state.floatbank5_b_level',\n",
      "       'secondary_cleaner.state.floatbank6_a_air',\n",
      "       'secondary_cleaner.state.floatbank6_a_level'],\n",
      "      dtype='object')\n",
      "******************************************\n",
      "Dataframe Info for or Site 2\n",
      "<class 'pandas.core.frame.DataFrame'>\n",
      "RangeIndex: 22716 entries, 0 to 22715\n",
      "Data columns (total 87 columns):\n",
      " #   Column                                              Non-Null Count  Dtype  \n",
      "---  ------                                              --------------  -----  \n",
      " 0   date                                                22716 non-null  object \n",
      " 1   final.output.concentrate_ag                         22627 non-null  float64\n",
      " 2   final.output.concentrate_pb                         22629 non-null  float64\n",
      " 3   final.output.concentrate_sol                        22331 non-null  float64\n",
      " 4   final.output.concentrate_au                         22630 non-null  float64\n",
      " 5   final.output.recovery                               20753 non-null  float64\n",
      " 6   final.output.tail_ag                                22633 non-null  float64\n",
      " 7   final.output.tail_pb                                22516 non-null  float64\n",
      " 8   final.output.tail_sol                               22445 non-null  float64\n",
      " 9   final.output.tail_au                                22635 non-null  float64\n",
      " 10  primary_cleaner.input.sulfate                       21107 non-null  float64\n",
      " 11  primary_cleaner.input.depressant                    21170 non-null  float64\n",
      " 12  primary_cleaner.input.feed_size                     22716 non-null  float64\n",
      " 13  primary_cleaner.input.xanthate                      21565 non-null  float64\n",
      " 14  primary_cleaner.output.concentrate_ag               22618 non-null  float64\n",
      " 15  primary_cleaner.output.concentrate_pb               22268 non-null  float64\n",
      " 16  primary_cleaner.output.concentrate_sol              21918 non-null  float64\n",
      " 17  primary_cleaner.output.concentrate_au               22618 non-null  float64\n",
      " 18  primary_cleaner.output.tail_ag                      22614 non-null  float64\n",
      " 19  primary_cleaner.output.tail_pb                      22594 non-null  float64\n",
      " 20  primary_cleaner.output.tail_sol                     22365 non-null  float64\n",
      " 21  primary_cleaner.output.tail_au                      22617 non-null  float64\n",
      " 22  primary_cleaner.state.floatbank8_a_air              22660 non-null  float64\n",
      " 23  primary_cleaner.state.floatbank8_a_level            22667 non-null  float64\n",
      " 24  primary_cleaner.state.floatbank8_b_air              22660 non-null  float64\n",
      " 25  primary_cleaner.state.floatbank8_b_level            22673 non-null  float64\n",
      " 26  primary_cleaner.state.floatbank8_c_air              22662 non-null  float64\n",
      " 27  primary_cleaner.state.floatbank8_c_level            22673 non-null  float64\n",
      " 28  primary_cleaner.state.floatbank8_d_air              22661 non-null  float64\n",
      " 29  primary_cleaner.state.floatbank8_d_level            22673 non-null  float64\n",
      " 30  rougher.calculation.sulfate_to_au_concentrate       22672 non-null  float64\n",
      " 31  rougher.calculation.floatbank10_sulfate_to_au_feed  22672 non-null  float64\n",
      " 32  rougher.calculation.floatbank11_sulfate_to_au_feed  22672 non-null  float64\n",
      " 33  rougher.calculation.au_pb_ratio                     21089 non-null  float64\n",
      " 34  rougher.input.feed_ag                               22618 non-null  float64\n",
      " 35  rougher.input.feed_pb                               22472 non-null  float64\n",
      " 36  rougher.input.feed_rate                             22163 non-null  float64\n",
      " 37  rougher.input.feed_size                             22277 non-null  float64\n",
      " 38  rougher.input.feed_sol                              22357 non-null  float64\n",
      " 39  rougher.input.feed_au                               22617 non-null  float64\n",
      " 40  rougher.input.floatbank10_sulfate                   21415 non-null  float64\n",
      " 41  rougher.input.floatbank10_xanthate                  22247 non-null  float64\n",
      " 42  rougher.input.floatbank11_sulfate                   22038 non-null  float64\n",
      " 43  rougher.input.floatbank11_xanthate                  20459 non-null  float64\n",
      " 44  rougher.output.concentrate_ag                       22618 non-null  float64\n",
      " 45  rougher.output.concentrate_pb                       22618 non-null  float64\n",
      " 46  rougher.output.concentrate_sol                      22526 non-null  float64\n",
      " 47  rougher.output.concentrate_au                       22618 non-null  float64\n",
      " 48  rougher.output.recovery                             19597 non-null  float64\n",
      " 49  rougher.output.tail_ag                              19979 non-null  float64\n",
      " 50  rougher.output.tail_pb                              22618 non-null  float64\n",
      " 51  rougher.output.tail_sol                             19980 non-null  float64\n",
      " 52  rougher.output.tail_au                              19980 non-null  float64\n",
      " 53  rougher.state.floatbank10_a_air                     22646 non-null  float64\n",
      " 54  rougher.state.floatbank10_a_level                   22647 non-null  float64\n",
      " 55  rougher.state.floatbank10_b_air                     22646 non-null  float64\n",
      " 56  rougher.state.floatbank10_b_level                   22647 non-null  float64\n",
      " 57  rougher.state.floatbank10_c_air                     22646 non-null  float64\n",
      " 58  rougher.state.floatbank10_c_level                   22654 non-null  float64\n",
      " 59  rougher.state.floatbank10_d_air                     22641 non-null  float64\n",
      " 60  rougher.state.floatbank10_d_level                   22649 non-null  float64\n",
      " 61  rougher.state.floatbank10_e_air                     22096 non-null  float64\n",
      " 62  rougher.state.floatbank10_e_level                   22649 non-null  float64\n",
      " 63  rougher.state.floatbank10_f_air                     22641 non-null  float64\n",
      " 64  rougher.state.floatbank10_f_level                   22642 non-null  float64\n",
      " 65  secondary_cleaner.output.tail_ag                    22616 non-null  float64\n",
      " 66  secondary_cleaner.output.tail_pb                    22600 non-null  float64\n",
      " 67  secondary_cleaner.output.tail_sol                   20501 non-null  float64\n",
      " 68  secondary_cleaner.output.tail_au                    22618 non-null  float64\n",
      " 69  secondary_cleaner.state.floatbank2_a_air            22333 non-null  float64\n",
      " 70  secondary_cleaner.state.floatbank2_a_level          22591 non-null  float64\n",
      " 71  secondary_cleaner.state.floatbank2_b_air            22538 non-null  float64\n",
      " 72  secondary_cleaner.state.floatbank2_b_level          22588 non-null  float64\n",
      " 73  secondary_cleaner.state.floatbank3_a_air            22585 non-null  float64\n",
      " 74  secondary_cleaner.state.floatbank3_a_level          22587 non-null  float64\n",
      " 75  secondary_cleaner.state.floatbank3_b_air            22592 non-null  float64\n",
      " 76  secondary_cleaner.state.floatbank3_b_level          22590 non-null  float64\n",
      " 77  secondary_cleaner.state.floatbank4_a_air            22571 non-null  float64\n",
      " 78  secondary_cleaner.state.floatbank4_a_level          22587 non-null  float64\n",
      " 79  secondary_cleaner.state.floatbank4_b_air            22608 non-null  float64\n",
      " 80  secondary_cleaner.state.floatbank4_b_level          22607 non-null  float64\n",
      " 81  secondary_cleaner.state.floatbank5_a_air            22615 non-null  float64\n",
      " 82  secondary_cleaner.state.floatbank5_a_level          22615 non-null  float64\n",
      " 83  secondary_cleaner.state.floatbank5_b_air            22615 non-null  float64\n",
      " 84  secondary_cleaner.state.floatbank5_b_level          22616 non-null  float64\n",
      " 85  secondary_cleaner.state.floatbank6_a_air            22597 non-null  float64\n",
      " 86  secondary_cleaner.state.floatbank6_a_level          22615 non-null  float64\n",
      "dtypes: float64(86), object(1)\n",
      "memory usage: 15.1+ MB\n",
      "None\n",
      "date                                            0\n",
      "final.output.concentrate_ag                    89\n",
      "final.output.concentrate_pb                    87\n",
      "final.output.concentrate_sol                  385\n",
      "final.output.concentrate_au                    86\n",
      "                                             ... \n",
      "secondary_cleaner.state.floatbank5_a_level    101\n",
      "secondary_cleaner.state.floatbank5_b_air      101\n",
      "secondary_cleaner.state.floatbank5_b_level    100\n",
      "secondary_cleaner.state.floatbank6_a_air      119\n",
      "secondary_cleaner.state.floatbank6_a_level    101\n",
      "Length: 87, dtype: int64\n",
      "Index(['date', 'final.output.concentrate_ag', 'final.output.concentrate_pb',\n",
      "       'final.output.concentrate_sol', 'final.output.concentrate_au',\n",
      "       'final.output.recovery', 'final.output.tail_ag', 'final.output.tail_pb',\n",
      "       'final.output.tail_sol', 'final.output.tail_au',\n",
      "       'primary_cleaner.input.sulfate', 'primary_cleaner.input.depressant',\n",
      "       'primary_cleaner.input.feed_size', 'primary_cleaner.input.xanthate',\n",
      "       'primary_cleaner.output.concentrate_ag',\n",
      "       'primary_cleaner.output.concentrate_pb',\n",
      "       'primary_cleaner.output.concentrate_sol',\n",
      "       'primary_cleaner.output.concentrate_au',\n",
      "       'primary_cleaner.output.tail_ag', 'primary_cleaner.output.tail_pb',\n",
      "       'primary_cleaner.output.tail_sol', 'primary_cleaner.output.tail_au',\n",
      "       'primary_cleaner.state.floatbank8_a_air',\n",
      "       'primary_cleaner.state.floatbank8_a_level',\n",
      "       'primary_cleaner.state.floatbank8_b_air',\n",
      "       'primary_cleaner.state.floatbank8_b_level',\n",
      "       'primary_cleaner.state.floatbank8_c_air',\n",
      "       'primary_cleaner.state.floatbank8_c_level',\n",
      "       'primary_cleaner.state.floatbank8_d_air',\n",
      "       'primary_cleaner.state.floatbank8_d_level',\n",
      "       'rougher.calculation.sulfate_to_au_concentrate',\n",
      "       'rougher.calculation.floatbank10_sulfate_to_au_feed',\n",
      "       'rougher.calculation.floatbank11_sulfate_to_au_feed',\n",
      "       'rougher.calculation.au_pb_ratio', 'rougher.input.feed_ag',\n",
      "       'rougher.input.feed_pb', 'rougher.input.feed_rate',\n",
      "       'rougher.input.feed_size', 'rougher.input.feed_sol',\n",
      "       'rougher.input.feed_au', 'rougher.input.floatbank10_sulfate',\n",
      "       'rougher.input.floatbank10_xanthate',\n",
      "       'rougher.input.floatbank11_sulfate',\n",
      "       'rougher.input.floatbank11_xanthate', 'rougher.output.concentrate_ag',\n",
      "       'rougher.output.concentrate_pb', 'rougher.output.concentrate_sol',\n",
      "       'rougher.output.concentrate_au', 'rougher.output.recovery',\n",
      "       'rougher.output.tail_ag', 'rougher.output.tail_pb',\n",
      "       'rougher.output.tail_sol', 'rougher.output.tail_au',\n",
      "       'rougher.state.floatbank10_a_air', 'rougher.state.floatbank10_a_level',\n",
      "       'rougher.state.floatbank10_b_air', 'rougher.state.floatbank10_b_level',\n",
      "       'rougher.state.floatbank10_c_air', 'rougher.state.floatbank10_c_level',\n",
      "       'rougher.state.floatbank10_d_air', 'rougher.state.floatbank10_d_level',\n",
      "       'rougher.state.floatbank10_e_air', 'rougher.state.floatbank10_e_level',\n",
      "       'rougher.state.floatbank10_f_air', 'rougher.state.floatbank10_f_level',\n",
      "       'secondary_cleaner.output.tail_ag', 'secondary_cleaner.output.tail_pb',\n",
      "       'secondary_cleaner.output.tail_sol', 'secondary_cleaner.output.tail_au',\n",
      "       'secondary_cleaner.state.floatbank2_a_air',\n",
      "       'secondary_cleaner.state.floatbank2_a_level',\n",
      "       'secondary_cleaner.state.floatbank2_b_air',\n",
      "       'secondary_cleaner.state.floatbank2_b_level',\n",
      "       'secondary_cleaner.state.floatbank3_a_air',\n",
      "       'secondary_cleaner.state.floatbank3_a_level',\n",
      "       'secondary_cleaner.state.floatbank3_b_air',\n",
      "       'secondary_cleaner.state.floatbank3_b_level',\n",
      "       'secondary_cleaner.state.floatbank4_a_air',\n",
      "       'secondary_cleaner.state.floatbank4_a_level',\n",
      "       'secondary_cleaner.state.floatbank4_b_air',\n",
      "       'secondary_cleaner.state.floatbank4_b_level',\n",
      "       'secondary_cleaner.state.floatbank5_a_air',\n",
      "       'secondary_cleaner.state.floatbank5_a_level',\n",
      "       'secondary_cleaner.state.floatbank5_b_air',\n",
      "       'secondary_cleaner.state.floatbank5_b_level',\n",
      "       'secondary_cleaner.state.floatbank6_a_air',\n",
      "       'secondary_cleaner.state.floatbank6_a_level'],\n",
      "      dtype='object')\n",
      "******************************************\n"
     ]
    }
   ],
   "source": [
    "#data cleaning\n",
    "for i, gold in enumerate(golds):\n",
    "    #print sample of df\n",
    "    print(f'Dataframe Info for or Site {i}')\n",
    "    print(gold.info())\n",
    "    print(gold.isna().sum())\n",
    "    print(gold.columns)\n",
    "    print('******************************************')"
   ]
  },
  {
   "cell_type": "code",
   "execution_count": 5,
   "metadata": {},
   "outputs": [
    {
     "data": {
      "text/html": [
       "<div>\n",
       "<style scoped>\n",
       "    .dataframe tbody tr th:only-of-type {\n",
       "        vertical-align: middle;\n",
       "    }\n",
       "\n",
       "    .dataframe tbody tr th {\n",
       "        vertical-align: top;\n",
       "    }\n",
       "\n",
       "    .dataframe thead th {\n",
       "        text-align: right;\n",
       "    }\n",
       "</style>\n",
       "<table border=\"1\" class=\"dataframe\">\n",
       "  <thead>\n",
       "    <tr style=\"text-align: right;\">\n",
       "      <th></th>\n",
       "      <th>date</th>\n",
       "      <th>final.output.concentrate_ag</th>\n",
       "      <th>final.output.concentrate_pb</th>\n",
       "      <th>final.output.concentrate_sol</th>\n",
       "      <th>final.output.concentrate_au</th>\n",
       "      <th>final.output.recovery</th>\n",
       "      <th>final.output.tail_ag</th>\n",
       "      <th>final.output.tail_pb</th>\n",
       "      <th>final.output.tail_sol</th>\n",
       "      <th>final.output.tail_au</th>\n",
       "      <th>...</th>\n",
       "      <th>secondary_cleaner.state.floatbank4_a_air</th>\n",
       "      <th>secondary_cleaner.state.floatbank4_a_level</th>\n",
       "      <th>secondary_cleaner.state.floatbank4_b_air</th>\n",
       "      <th>secondary_cleaner.state.floatbank4_b_level</th>\n",
       "      <th>secondary_cleaner.state.floatbank5_a_air</th>\n",
       "      <th>secondary_cleaner.state.floatbank5_a_level</th>\n",
       "      <th>secondary_cleaner.state.floatbank5_b_air</th>\n",
       "      <th>secondary_cleaner.state.floatbank5_b_level</th>\n",
       "      <th>secondary_cleaner.state.floatbank6_a_air</th>\n",
       "      <th>secondary_cleaner.state.floatbank6_a_level</th>\n",
       "    </tr>\n",
       "  </thead>\n",
       "  <tbody>\n",
       "    <tr>\n",
       "      <th>0</th>\n",
       "      <td>2016-01-15 00:00:00</td>\n",
       "      <td>6.055403</td>\n",
       "      <td>9.889648</td>\n",
       "      <td>5.507324</td>\n",
       "      <td>42.192020</td>\n",
       "      <td>70.541216</td>\n",
       "      <td>10.411962</td>\n",
       "      <td>0.895447</td>\n",
       "      <td>16.904297</td>\n",
       "      <td>2.143149</td>\n",
       "      <td>...</td>\n",
       "      <td>14.016835</td>\n",
       "      <td>-502.488007</td>\n",
       "      <td>12.099931</td>\n",
       "      <td>-504.715942</td>\n",
       "      <td>9.925633</td>\n",
       "      <td>-498.310211</td>\n",
       "      <td>8.079666</td>\n",
       "      <td>-500.470978</td>\n",
       "      <td>14.151341</td>\n",
       "      <td>-605.841980</td>\n",
       "    </tr>\n",
       "    <tr>\n",
       "      <th>1</th>\n",
       "      <td>2016-01-15 01:00:00</td>\n",
       "      <td>6.029369</td>\n",
       "      <td>9.968944</td>\n",
       "      <td>5.257781</td>\n",
       "      <td>42.701629</td>\n",
       "      <td>69.266198</td>\n",
       "      <td>10.462676</td>\n",
       "      <td>0.927452</td>\n",
       "      <td>16.634514</td>\n",
       "      <td>2.224930</td>\n",
       "      <td>...</td>\n",
       "      <td>13.992281</td>\n",
       "      <td>-505.503262</td>\n",
       "      <td>11.950531</td>\n",
       "      <td>-501.331529</td>\n",
       "      <td>10.039245</td>\n",
       "      <td>-500.169983</td>\n",
       "      <td>7.984757</td>\n",
       "      <td>-500.582168</td>\n",
       "      <td>13.998353</td>\n",
       "      <td>-599.787184</td>\n",
       "    </tr>\n",
       "    <tr>\n",
       "      <th>2</th>\n",
       "      <td>2016-01-15 02:00:00</td>\n",
       "      <td>6.055926</td>\n",
       "      <td>10.213995</td>\n",
       "      <td>5.383759</td>\n",
       "      <td>42.657501</td>\n",
       "      <td>68.116445</td>\n",
       "      <td>10.507046</td>\n",
       "      <td>0.953716</td>\n",
       "      <td>16.208849</td>\n",
       "      <td>2.257889</td>\n",
       "      <td>...</td>\n",
       "      <td>14.015015</td>\n",
       "      <td>-502.520901</td>\n",
       "      <td>11.912783</td>\n",
       "      <td>-501.133383</td>\n",
       "      <td>10.070913</td>\n",
       "      <td>-500.129135</td>\n",
       "      <td>8.013877</td>\n",
       "      <td>-500.517572</td>\n",
       "      <td>14.028663</td>\n",
       "      <td>-601.427363</td>\n",
       "    </tr>\n",
       "  </tbody>\n",
       "</table>\n",
       "<p>3 rows × 87 columns</p>\n",
       "</div>"
      ],
      "text/plain": [
       "                  date  final.output.concentrate_ag  \\\n",
       "0  2016-01-15 00:00:00                     6.055403   \n",
       "1  2016-01-15 01:00:00                     6.029369   \n",
       "2  2016-01-15 02:00:00                     6.055926   \n",
       "\n",
       "   final.output.concentrate_pb  final.output.concentrate_sol  \\\n",
       "0                     9.889648                      5.507324   \n",
       "1                     9.968944                      5.257781   \n",
       "2                    10.213995                      5.383759   \n",
       "\n",
       "   final.output.concentrate_au  final.output.recovery  final.output.tail_ag  \\\n",
       "0                    42.192020              70.541216             10.411962   \n",
       "1                    42.701629              69.266198             10.462676   \n",
       "2                    42.657501              68.116445             10.507046   \n",
       "\n",
       "   final.output.tail_pb  final.output.tail_sol  final.output.tail_au  ...  \\\n",
       "0              0.895447              16.904297              2.143149  ...   \n",
       "1              0.927452              16.634514              2.224930  ...   \n",
       "2              0.953716              16.208849              2.257889  ...   \n",
       "\n",
       "   secondary_cleaner.state.floatbank4_a_air  \\\n",
       "0                                 14.016835   \n",
       "1                                 13.992281   \n",
       "2                                 14.015015   \n",
       "\n",
       "   secondary_cleaner.state.floatbank4_a_level  \\\n",
       "0                                 -502.488007   \n",
       "1                                 -505.503262   \n",
       "2                                 -502.520901   \n",
       "\n",
       "   secondary_cleaner.state.floatbank4_b_air  \\\n",
       "0                                 12.099931   \n",
       "1                                 11.950531   \n",
       "2                                 11.912783   \n",
       "\n",
       "   secondary_cleaner.state.floatbank4_b_level  \\\n",
       "0                                 -504.715942   \n",
       "1                                 -501.331529   \n",
       "2                                 -501.133383   \n",
       "\n",
       "   secondary_cleaner.state.floatbank5_a_air  \\\n",
       "0                                  9.925633   \n",
       "1                                 10.039245   \n",
       "2                                 10.070913   \n",
       "\n",
       "   secondary_cleaner.state.floatbank5_a_level  \\\n",
       "0                                 -498.310211   \n",
       "1                                 -500.169983   \n",
       "2                                 -500.129135   \n",
       "\n",
       "   secondary_cleaner.state.floatbank5_b_air  \\\n",
       "0                                  8.079666   \n",
       "1                                  7.984757   \n",
       "2                                  8.013877   \n",
       "\n",
       "   secondary_cleaner.state.floatbank5_b_level  \\\n",
       "0                                 -500.470978   \n",
       "1                                 -500.582168   \n",
       "2                                 -500.517572   \n",
       "\n",
       "   secondary_cleaner.state.floatbank6_a_air  \\\n",
       "0                                 14.151341   \n",
       "1                                 13.998353   \n",
       "2                                 14.028663   \n",
       "\n",
       "   secondary_cleaner.state.floatbank6_a_level  \n",
       "0                                 -605.841980  \n",
       "1                                 -599.787184  \n",
       "2                                 -601.427363  \n",
       "\n",
       "[3 rows x 87 columns]"
      ]
     },
     "execution_count": 5,
     "metadata": {},
     "output_type": "execute_result"
    }
   ],
   "source": [
    "gtrain.head(3)"
   ]
  },
  {
   "cell_type": "code",
   "execution_count": 6,
   "metadata": {},
   "outputs": [
    {
     "data": {
      "text/html": [
       "<div>\n",
       "<style scoped>\n",
       "    .dataframe tbody tr th:only-of-type {\n",
       "        vertical-align: middle;\n",
       "    }\n",
       "\n",
       "    .dataframe tbody tr th {\n",
       "        vertical-align: top;\n",
       "    }\n",
       "\n",
       "    .dataframe thead th {\n",
       "        text-align: right;\n",
       "    }\n",
       "</style>\n",
       "<table border=\"1\" class=\"dataframe\">\n",
       "  <thead>\n",
       "    <tr style=\"text-align: right;\">\n",
       "      <th></th>\n",
       "      <th>date</th>\n",
       "      <th>primary_cleaner.input.sulfate</th>\n",
       "      <th>primary_cleaner.input.depressant</th>\n",
       "      <th>primary_cleaner.input.feed_size</th>\n",
       "      <th>primary_cleaner.input.xanthate</th>\n",
       "      <th>primary_cleaner.state.floatbank8_a_air</th>\n",
       "      <th>primary_cleaner.state.floatbank8_a_level</th>\n",
       "      <th>primary_cleaner.state.floatbank8_b_air</th>\n",
       "      <th>primary_cleaner.state.floatbank8_b_level</th>\n",
       "      <th>primary_cleaner.state.floatbank8_c_air</th>\n",
       "      <th>...</th>\n",
       "      <th>secondary_cleaner.state.floatbank4_a_air</th>\n",
       "      <th>secondary_cleaner.state.floatbank4_a_level</th>\n",
       "      <th>secondary_cleaner.state.floatbank4_b_air</th>\n",
       "      <th>secondary_cleaner.state.floatbank4_b_level</th>\n",
       "      <th>secondary_cleaner.state.floatbank5_a_air</th>\n",
       "      <th>secondary_cleaner.state.floatbank5_a_level</th>\n",
       "      <th>secondary_cleaner.state.floatbank5_b_air</th>\n",
       "      <th>secondary_cleaner.state.floatbank5_b_level</th>\n",
       "      <th>secondary_cleaner.state.floatbank6_a_air</th>\n",
       "      <th>secondary_cleaner.state.floatbank6_a_level</th>\n",
       "    </tr>\n",
       "  </thead>\n",
       "  <tbody>\n",
       "    <tr>\n",
       "      <th>0</th>\n",
       "      <td>2016-09-01 00:59:59</td>\n",
       "      <td>210.800909</td>\n",
       "      <td>14.993118</td>\n",
       "      <td>8.080000</td>\n",
       "      <td>1.005021</td>\n",
       "      <td>1398.981301</td>\n",
       "      <td>-500.225577</td>\n",
       "      <td>1399.144926</td>\n",
       "      <td>-499.919735</td>\n",
       "      <td>1400.102998</td>\n",
       "      <td>...</td>\n",
       "      <td>12.023554</td>\n",
       "      <td>-497.795834</td>\n",
       "      <td>8.016656</td>\n",
       "      <td>-501.289139</td>\n",
       "      <td>7.946562</td>\n",
       "      <td>-432.317850</td>\n",
       "      <td>4.872511</td>\n",
       "      <td>-500.037437</td>\n",
       "      <td>26.705889</td>\n",
       "      <td>-499.709414</td>\n",
       "    </tr>\n",
       "    <tr>\n",
       "      <th>1</th>\n",
       "      <td>2016-09-01 01:59:59</td>\n",
       "      <td>215.392455</td>\n",
       "      <td>14.987471</td>\n",
       "      <td>8.080000</td>\n",
       "      <td>0.990469</td>\n",
       "      <td>1398.777912</td>\n",
       "      <td>-500.057435</td>\n",
       "      <td>1398.055362</td>\n",
       "      <td>-499.778182</td>\n",
       "      <td>1396.151033</td>\n",
       "      <td>...</td>\n",
       "      <td>12.058140</td>\n",
       "      <td>-498.695773</td>\n",
       "      <td>8.130979</td>\n",
       "      <td>-499.634209</td>\n",
       "      <td>7.958270</td>\n",
       "      <td>-525.839648</td>\n",
       "      <td>4.878850</td>\n",
       "      <td>-500.162375</td>\n",
       "      <td>25.019940</td>\n",
       "      <td>-499.819438</td>\n",
       "    </tr>\n",
       "    <tr>\n",
       "      <th>2</th>\n",
       "      <td>2016-09-01 02:59:59</td>\n",
       "      <td>215.259946</td>\n",
       "      <td>12.884934</td>\n",
       "      <td>7.786667</td>\n",
       "      <td>0.996043</td>\n",
       "      <td>1398.493666</td>\n",
       "      <td>-500.868360</td>\n",
       "      <td>1398.860436</td>\n",
       "      <td>-499.764529</td>\n",
       "      <td>1398.075709</td>\n",
       "      <td>...</td>\n",
       "      <td>11.962366</td>\n",
       "      <td>-498.767484</td>\n",
       "      <td>8.096893</td>\n",
       "      <td>-500.827423</td>\n",
       "      <td>8.071056</td>\n",
       "      <td>-500.801673</td>\n",
       "      <td>4.905125</td>\n",
       "      <td>-499.828510</td>\n",
       "      <td>24.994862</td>\n",
       "      <td>-500.622559</td>\n",
       "    </tr>\n",
       "  </tbody>\n",
       "</table>\n",
       "<p>3 rows × 53 columns</p>\n",
       "</div>"
      ],
      "text/plain": [
       "                  date  primary_cleaner.input.sulfate  \\\n",
       "0  2016-09-01 00:59:59                     210.800909   \n",
       "1  2016-09-01 01:59:59                     215.392455   \n",
       "2  2016-09-01 02:59:59                     215.259946   \n",
       "\n",
       "   primary_cleaner.input.depressant  primary_cleaner.input.feed_size  \\\n",
       "0                         14.993118                         8.080000   \n",
       "1                         14.987471                         8.080000   \n",
       "2                         12.884934                         7.786667   \n",
       "\n",
       "   primary_cleaner.input.xanthate  primary_cleaner.state.floatbank8_a_air  \\\n",
       "0                        1.005021                             1398.981301   \n",
       "1                        0.990469                             1398.777912   \n",
       "2                        0.996043                             1398.493666   \n",
       "\n",
       "   primary_cleaner.state.floatbank8_a_level  \\\n",
       "0                               -500.225577   \n",
       "1                               -500.057435   \n",
       "2                               -500.868360   \n",
       "\n",
       "   primary_cleaner.state.floatbank8_b_air  \\\n",
       "0                             1399.144926   \n",
       "1                             1398.055362   \n",
       "2                             1398.860436   \n",
       "\n",
       "   primary_cleaner.state.floatbank8_b_level  \\\n",
       "0                               -499.919735   \n",
       "1                               -499.778182   \n",
       "2                               -499.764529   \n",
       "\n",
       "   primary_cleaner.state.floatbank8_c_air  ...  \\\n",
       "0                             1400.102998  ...   \n",
       "1                             1396.151033  ...   \n",
       "2                             1398.075709  ...   \n",
       "\n",
       "   secondary_cleaner.state.floatbank4_a_air  \\\n",
       "0                                 12.023554   \n",
       "1                                 12.058140   \n",
       "2                                 11.962366   \n",
       "\n",
       "   secondary_cleaner.state.floatbank4_a_level  \\\n",
       "0                                 -497.795834   \n",
       "1                                 -498.695773   \n",
       "2                                 -498.767484   \n",
       "\n",
       "   secondary_cleaner.state.floatbank4_b_air  \\\n",
       "0                                  8.016656   \n",
       "1                                  8.130979   \n",
       "2                                  8.096893   \n",
       "\n",
       "   secondary_cleaner.state.floatbank4_b_level  \\\n",
       "0                                 -501.289139   \n",
       "1                                 -499.634209   \n",
       "2                                 -500.827423   \n",
       "\n",
       "   secondary_cleaner.state.floatbank5_a_air  \\\n",
       "0                                  7.946562   \n",
       "1                                  7.958270   \n",
       "2                                  8.071056   \n",
       "\n",
       "   secondary_cleaner.state.floatbank5_a_level  \\\n",
       "0                                 -432.317850   \n",
       "1                                 -525.839648   \n",
       "2                                 -500.801673   \n",
       "\n",
       "   secondary_cleaner.state.floatbank5_b_air  \\\n",
       "0                                  4.872511   \n",
       "1                                  4.878850   \n",
       "2                                  4.905125   \n",
       "\n",
       "   secondary_cleaner.state.floatbank5_b_level  \\\n",
       "0                                 -500.037437   \n",
       "1                                 -500.162375   \n",
       "2                                 -499.828510   \n",
       "\n",
       "   secondary_cleaner.state.floatbank6_a_air  \\\n",
       "0                                 26.705889   \n",
       "1                                 25.019940   \n",
       "2                                 24.994862   \n",
       "\n",
       "   secondary_cleaner.state.floatbank6_a_level  \n",
       "0                                 -499.709414  \n",
       "1                                 -499.819438  \n",
       "2                                 -500.622559  \n",
       "\n",
       "[3 rows x 53 columns]"
      ]
     },
     "execution_count": 6,
     "metadata": {},
     "output_type": "execute_result"
    }
   ],
   "source": [
    "gtest.head(3)"
   ]
  },
  {
   "cell_type": "code",
   "execution_count": 7,
   "metadata": {},
   "outputs": [
    {
     "data": {
      "text/html": [
       "<div>\n",
       "<style scoped>\n",
       "    .dataframe tbody tr th:only-of-type {\n",
       "        vertical-align: middle;\n",
       "    }\n",
       "\n",
       "    .dataframe tbody tr th {\n",
       "        vertical-align: top;\n",
       "    }\n",
       "\n",
       "    .dataframe thead th {\n",
       "        text-align: right;\n",
       "    }\n",
       "</style>\n",
       "<table border=\"1\" class=\"dataframe\">\n",
       "  <thead>\n",
       "    <tr style=\"text-align: right;\">\n",
       "      <th></th>\n",
       "      <th>date</th>\n",
       "      <th>final.output.concentrate_ag</th>\n",
       "      <th>final.output.concentrate_pb</th>\n",
       "      <th>final.output.concentrate_sol</th>\n",
       "      <th>final.output.concentrate_au</th>\n",
       "      <th>final.output.recovery</th>\n",
       "      <th>final.output.tail_ag</th>\n",
       "      <th>final.output.tail_pb</th>\n",
       "      <th>final.output.tail_sol</th>\n",
       "      <th>final.output.tail_au</th>\n",
       "      <th>...</th>\n",
       "      <th>secondary_cleaner.state.floatbank4_a_air</th>\n",
       "      <th>secondary_cleaner.state.floatbank4_a_level</th>\n",
       "      <th>secondary_cleaner.state.floatbank4_b_air</th>\n",
       "      <th>secondary_cleaner.state.floatbank4_b_level</th>\n",
       "      <th>secondary_cleaner.state.floatbank5_a_air</th>\n",
       "      <th>secondary_cleaner.state.floatbank5_a_level</th>\n",
       "      <th>secondary_cleaner.state.floatbank5_b_air</th>\n",
       "      <th>secondary_cleaner.state.floatbank5_b_level</th>\n",
       "      <th>secondary_cleaner.state.floatbank6_a_air</th>\n",
       "      <th>secondary_cleaner.state.floatbank6_a_level</th>\n",
       "    </tr>\n",
       "  </thead>\n",
       "  <tbody>\n",
       "    <tr>\n",
       "      <th>0</th>\n",
       "      <td>2016-01-15 00:00:00</td>\n",
       "      <td>6.055403</td>\n",
       "      <td>9.889648</td>\n",
       "      <td>5.507324</td>\n",
       "      <td>42.192020</td>\n",
       "      <td>70.541216</td>\n",
       "      <td>10.411962</td>\n",
       "      <td>0.895447</td>\n",
       "      <td>16.904297</td>\n",
       "      <td>2.143149</td>\n",
       "      <td>...</td>\n",
       "      <td>14.016835</td>\n",
       "      <td>-502.488007</td>\n",
       "      <td>12.099931</td>\n",
       "      <td>-504.715942</td>\n",
       "      <td>9.925633</td>\n",
       "      <td>-498.310211</td>\n",
       "      <td>8.079666</td>\n",
       "      <td>-500.470978</td>\n",
       "      <td>14.151341</td>\n",
       "      <td>-605.841980</td>\n",
       "    </tr>\n",
       "    <tr>\n",
       "      <th>1</th>\n",
       "      <td>2016-01-15 01:00:00</td>\n",
       "      <td>6.029369</td>\n",
       "      <td>9.968944</td>\n",
       "      <td>5.257781</td>\n",
       "      <td>42.701629</td>\n",
       "      <td>69.266198</td>\n",
       "      <td>10.462676</td>\n",
       "      <td>0.927452</td>\n",
       "      <td>16.634514</td>\n",
       "      <td>2.224930</td>\n",
       "      <td>...</td>\n",
       "      <td>13.992281</td>\n",
       "      <td>-505.503262</td>\n",
       "      <td>11.950531</td>\n",
       "      <td>-501.331529</td>\n",
       "      <td>10.039245</td>\n",
       "      <td>-500.169983</td>\n",
       "      <td>7.984757</td>\n",
       "      <td>-500.582168</td>\n",
       "      <td>13.998353</td>\n",
       "      <td>-599.787184</td>\n",
       "    </tr>\n",
       "    <tr>\n",
       "      <th>2</th>\n",
       "      <td>2016-01-15 02:00:00</td>\n",
       "      <td>6.055926</td>\n",
       "      <td>10.213995</td>\n",
       "      <td>5.383759</td>\n",
       "      <td>42.657501</td>\n",
       "      <td>68.116445</td>\n",
       "      <td>10.507046</td>\n",
       "      <td>0.953716</td>\n",
       "      <td>16.208849</td>\n",
       "      <td>2.257889</td>\n",
       "      <td>...</td>\n",
       "      <td>14.015015</td>\n",
       "      <td>-502.520901</td>\n",
       "      <td>11.912783</td>\n",
       "      <td>-501.133383</td>\n",
       "      <td>10.070913</td>\n",
       "      <td>-500.129135</td>\n",
       "      <td>8.013877</td>\n",
       "      <td>-500.517572</td>\n",
       "      <td>14.028663</td>\n",
       "      <td>-601.427363</td>\n",
       "    </tr>\n",
       "  </tbody>\n",
       "</table>\n",
       "<p>3 rows × 87 columns</p>\n",
       "</div>"
      ],
      "text/plain": [
       "                  date  final.output.concentrate_ag  \\\n",
       "0  2016-01-15 00:00:00                     6.055403   \n",
       "1  2016-01-15 01:00:00                     6.029369   \n",
       "2  2016-01-15 02:00:00                     6.055926   \n",
       "\n",
       "   final.output.concentrate_pb  final.output.concentrate_sol  \\\n",
       "0                     9.889648                      5.507324   \n",
       "1                     9.968944                      5.257781   \n",
       "2                    10.213995                      5.383759   \n",
       "\n",
       "   final.output.concentrate_au  final.output.recovery  final.output.tail_ag  \\\n",
       "0                    42.192020              70.541216             10.411962   \n",
       "1                    42.701629              69.266198             10.462676   \n",
       "2                    42.657501              68.116445             10.507046   \n",
       "\n",
       "   final.output.tail_pb  final.output.tail_sol  final.output.tail_au  ...  \\\n",
       "0              0.895447              16.904297              2.143149  ...   \n",
       "1              0.927452              16.634514              2.224930  ...   \n",
       "2              0.953716              16.208849              2.257889  ...   \n",
       "\n",
       "   secondary_cleaner.state.floatbank4_a_air  \\\n",
       "0                                 14.016835   \n",
       "1                                 13.992281   \n",
       "2                                 14.015015   \n",
       "\n",
       "   secondary_cleaner.state.floatbank4_a_level  \\\n",
       "0                                 -502.488007   \n",
       "1                                 -505.503262   \n",
       "2                                 -502.520901   \n",
       "\n",
       "   secondary_cleaner.state.floatbank4_b_air  \\\n",
       "0                                 12.099931   \n",
       "1                                 11.950531   \n",
       "2                                 11.912783   \n",
       "\n",
       "   secondary_cleaner.state.floatbank4_b_level  \\\n",
       "0                                 -504.715942   \n",
       "1                                 -501.331529   \n",
       "2                                 -501.133383   \n",
       "\n",
       "   secondary_cleaner.state.floatbank5_a_air  \\\n",
       "0                                  9.925633   \n",
       "1                                 10.039245   \n",
       "2                                 10.070913   \n",
       "\n",
       "   secondary_cleaner.state.floatbank5_a_level  \\\n",
       "0                                 -498.310211   \n",
       "1                                 -500.169983   \n",
       "2                                 -500.129135   \n",
       "\n",
       "   secondary_cleaner.state.floatbank5_b_air  \\\n",
       "0                                  8.079666   \n",
       "1                                  7.984757   \n",
       "2                                  8.013877   \n",
       "\n",
       "   secondary_cleaner.state.floatbank5_b_level  \\\n",
       "0                                 -500.470978   \n",
       "1                                 -500.582168   \n",
       "2                                 -500.517572   \n",
       "\n",
       "   secondary_cleaner.state.floatbank6_a_air  \\\n",
       "0                                 14.151341   \n",
       "1                                 13.998353   \n",
       "2                                 14.028663   \n",
       "\n",
       "   secondary_cleaner.state.floatbank6_a_level  \n",
       "0                                 -605.841980  \n",
       "1                                 -599.787184  \n",
       "2                                 -601.427363  \n",
       "\n",
       "[3 rows x 87 columns]"
      ]
     },
     "execution_count": 7,
     "metadata": {},
     "output_type": "execute_result"
    }
   ],
   "source": [
    "gfull.head(3)"
   ]
  },
  {
   "cell_type": "code",
   "execution_count": 8,
   "metadata": {},
   "outputs": [
    {
     "data": {
      "text/html": [
       "<div>\n",
       "<style scoped>\n",
       "    .dataframe tbody tr th:only-of-type {\n",
       "        vertical-align: middle;\n",
       "    }\n",
       "\n",
       "    .dataframe tbody tr th {\n",
       "        vertical-align: top;\n",
       "    }\n",
       "\n",
       "    .dataframe thead th {\n",
       "        text-align: right;\n",
       "    }\n",
       "</style>\n",
       "<table border=\"1\" class=\"dataframe\">\n",
       "  <thead>\n",
       "    <tr style=\"text-align: right;\">\n",
       "      <th></th>\n",
       "      <th>rougher.output.recovery</th>\n",
       "      <th>recovery_check</th>\n",
       "    </tr>\n",
       "  </thead>\n",
       "  <tbody>\n",
       "    <tr>\n",
       "      <th>0</th>\n",
       "      <td>87.107763</td>\n",
       "      <td>87.107763</td>\n",
       "    </tr>\n",
       "    <tr>\n",
       "      <th>1</th>\n",
       "      <td>86.843261</td>\n",
       "      <td>86.843261</td>\n",
       "    </tr>\n",
       "    <tr>\n",
       "      <th>2</th>\n",
       "      <td>86.842308</td>\n",
       "      <td>86.842308</td>\n",
       "    </tr>\n",
       "    <tr>\n",
       "      <th>3</th>\n",
       "      <td>87.226430</td>\n",
       "      <td>87.226430</td>\n",
       "    </tr>\n",
       "    <tr>\n",
       "      <th>4</th>\n",
       "      <td>86.688794</td>\n",
       "      <td>86.688794</td>\n",
       "    </tr>\n",
       "    <tr>\n",
       "      <th>5</th>\n",
       "      <td>88.156912</td>\n",
       "      <td>88.156912</td>\n",
       "    </tr>\n",
       "    <tr>\n",
       "      <th>6</th>\n",
       "      <td>88.168065</td>\n",
       "      <td>88.168065</td>\n",
       "    </tr>\n",
       "    <tr>\n",
       "      <th>7</th>\n",
       "      <td>87.668336</td>\n",
       "      <td>87.668336</td>\n",
       "    </tr>\n",
       "    <tr>\n",
       "      <th>8</th>\n",
       "      <td>87.035862</td>\n",
       "      <td>87.035862</td>\n",
       "    </tr>\n",
       "    <tr>\n",
       "      <th>9</th>\n",
       "      <td>87.650868</td>\n",
       "      <td>87.650868</td>\n",
       "    </tr>\n",
       "  </tbody>\n",
       "</table>\n",
       "</div>"
      ],
      "text/plain": [
       "   rougher.output.recovery  recovery_check\n",
       "0                87.107763       87.107763\n",
       "1                86.843261       86.843261\n",
       "2                86.842308       86.842308\n",
       "3                87.226430       87.226430\n",
       "4                86.688794       86.688794\n",
       "5                88.156912       88.156912\n",
       "6                88.168065       88.168065\n",
       "7                87.668336       87.668336\n",
       "8                87.035862       87.035862\n",
       "9                87.650868       87.650868"
      ]
     },
     "execution_count": 8,
     "metadata": {},
     "output_type": "execute_result"
    }
   ],
   "source": [
    "#check recovery calculation in gtrain\n",
    "C=gtrain['rougher.output.concentrate_au']\n",
    "F=gtrain['rougher.input.feed_au']\n",
    "T=gtrain['rougher.output.tail_au']\n",
    "#create new column with recovery calculation \n",
    "gtrain['recovery_check']=(((C*(F-T))/(F* (C-T)))*100)\n",
    "#create dataframe of previously calculated and fresh to easily compare \n",
    "df_train_recovery=gtrain[['rougher.output.recovery','recovery_check' ]]\n",
    "df_train_recovery.head(10)"
   ]
  },
  {
   "cell_type": "code",
   "execution_count": 9,
   "metadata": {},
   "outputs": [
    {
     "name": "stdout",
     "output_type": "stream",
     "text": [
      "MEA of provided recovery and student verified recovery: 9.303415616264301e-15\n"
     ]
    }
   ],
   "source": [
    "#calculate MEA \n",
    "mea=(df_train_recovery['rougher.output.recovery']-df_train_recovery['recovery_check']).abs().mean()\n",
    "print(f'MEA of provided recovery and student verified recovery:',mea)"
   ]
  },
  {
   "cell_type": "markdown",
   "metadata": {},
   "source": [
    "The recovery calculation in the provided dataframe matches the recovery check performed.  The MEA is so miniscule (9.3e-15) which is a positive report.   "
   ]
  },
  {
   "cell_type": "code",
   "execution_count": 10,
   "metadata": {},
   "outputs": [],
   "source": [
    "#find if missing columns in training dataframe \n",
    "def missing_columns (df,reference_df):\n",
    "    missing_columns= [col for col in reference_df.columns if col not in df.columns]\n",
    "    if missing_columns:\n",
    "        print(f\"Columns which are missing between dataframes:\")\n",
    "        for col in missing_columns:\n",
    "            print(f\"={col}\")\n",
    "    else:\n",
    "        print(f\"All columns match between dataframes.\")\n",
    "    return missing_columns"
   ]
  },
  {
   "cell_type": "code",
   "execution_count": 11,
   "metadata": {},
   "outputs": [
    {
     "data": {
      "text/plain": [
       "Index(['date', 'primary_cleaner.input.sulfate',\n",
       "       'primary_cleaner.input.depressant', 'primary_cleaner.input.feed_size',\n",
       "       'primary_cleaner.input.xanthate',\n",
       "       'primary_cleaner.state.floatbank8_a_air',\n",
       "       'primary_cleaner.state.floatbank8_a_level',\n",
       "       'primary_cleaner.state.floatbank8_b_air',\n",
       "       'primary_cleaner.state.floatbank8_b_level',\n",
       "       'primary_cleaner.state.floatbank8_c_air',\n",
       "       'primary_cleaner.state.floatbank8_c_level',\n",
       "       'primary_cleaner.state.floatbank8_d_air',\n",
       "       'primary_cleaner.state.floatbank8_d_level', 'rougher.input.feed_ag',\n",
       "       'rougher.input.feed_pb', 'rougher.input.feed_rate',\n",
       "       'rougher.input.feed_size', 'rougher.input.feed_sol',\n",
       "       'rougher.input.feed_au', 'rougher.input.floatbank10_sulfate',\n",
       "       'rougher.input.floatbank10_xanthate',\n",
       "       'rougher.input.floatbank11_sulfate',\n",
       "       'rougher.input.floatbank11_xanthate', 'rougher.state.floatbank10_a_air',\n",
       "       'rougher.state.floatbank10_a_level', 'rougher.state.floatbank10_b_air',\n",
       "       'rougher.state.floatbank10_b_level', 'rougher.state.floatbank10_c_air',\n",
       "       'rougher.state.floatbank10_c_level', 'rougher.state.floatbank10_d_air',\n",
       "       'rougher.state.floatbank10_d_level', 'rougher.state.floatbank10_e_air',\n",
       "       'rougher.state.floatbank10_e_level', 'rougher.state.floatbank10_f_air',\n",
       "       'rougher.state.floatbank10_f_level',\n",
       "       'secondary_cleaner.state.floatbank2_a_air',\n",
       "       'secondary_cleaner.state.floatbank2_a_level',\n",
       "       'secondary_cleaner.state.floatbank2_b_air',\n",
       "       'secondary_cleaner.state.floatbank2_b_level',\n",
       "       'secondary_cleaner.state.floatbank3_a_air',\n",
       "       'secondary_cleaner.state.floatbank3_a_level',\n",
       "       'secondary_cleaner.state.floatbank3_b_air',\n",
       "       'secondary_cleaner.state.floatbank3_b_level',\n",
       "       'secondary_cleaner.state.floatbank4_a_air',\n",
       "       'secondary_cleaner.state.floatbank4_a_level',\n",
       "       'secondary_cleaner.state.floatbank4_b_air',\n",
       "       'secondary_cleaner.state.floatbank4_b_level',\n",
       "       'secondary_cleaner.state.floatbank5_a_air',\n",
       "       'secondary_cleaner.state.floatbank5_a_level',\n",
       "       'secondary_cleaner.state.floatbank5_b_air',\n",
       "       'secondary_cleaner.state.floatbank5_b_level',\n",
       "       'secondary_cleaner.state.floatbank6_a_air',\n",
       "       'secondary_cleaner.state.floatbank6_a_level'],\n",
       "      dtype='object')"
      ]
     },
     "execution_count": 11,
     "metadata": {},
     "output_type": "execute_result"
    }
   ],
   "source": [
    "gtest.columns"
   ]
  },
  {
   "cell_type": "code",
   "execution_count": 12,
   "metadata": {
    "scrolled": true
   },
   "outputs": [
    {
     "name": "stdout",
     "output_type": "stream",
     "text": [
      "Columns which are missing between dataframes:\n",
      "=final.output.concentrate_ag\n",
      "=final.output.concentrate_pb\n",
      "=final.output.concentrate_sol\n",
      "=final.output.concentrate_au\n",
      "=final.output.recovery\n",
      "=final.output.tail_ag\n",
      "=final.output.tail_pb\n",
      "=final.output.tail_sol\n",
      "=final.output.tail_au\n",
      "=primary_cleaner.output.concentrate_ag\n",
      "=primary_cleaner.output.concentrate_pb\n",
      "=primary_cleaner.output.concentrate_sol\n",
      "=primary_cleaner.output.concentrate_au\n",
      "=primary_cleaner.output.tail_ag\n",
      "=primary_cleaner.output.tail_pb\n",
      "=primary_cleaner.output.tail_sol\n",
      "=primary_cleaner.output.tail_au\n",
      "=rougher.calculation.sulfate_to_au_concentrate\n",
      "=rougher.calculation.floatbank10_sulfate_to_au_feed\n",
      "=rougher.calculation.floatbank11_sulfate_to_au_feed\n",
      "=rougher.calculation.au_pb_ratio\n",
      "=rougher.output.concentrate_ag\n",
      "=rougher.output.concentrate_pb\n",
      "=rougher.output.concentrate_sol\n",
      "=rougher.output.concentrate_au\n",
      "=rougher.output.recovery\n",
      "=rougher.output.tail_ag\n",
      "=rougher.output.tail_pb\n",
      "=rougher.output.tail_sol\n",
      "=rougher.output.tail_au\n",
      "=secondary_cleaner.output.tail_ag\n",
      "=secondary_cleaner.output.tail_pb\n",
      "=secondary_cleaner.output.tail_sol\n",
      "=secondary_cleaner.output.tail_au\n",
      "=recovery_check\n"
     ]
    }
   ],
   "source": [
    "missing=missing_columns(gtest,gtrain)"
   ]
  },
  {
   "cell_type": "code",
   "execution_count": 13,
   "metadata": {
    "scrolled": true
   },
   "outputs": [
    {
     "data": {
      "text/plain": [
       "['final.output.concentrate_ag',\n",
       " 'final.output.concentrate_pb',\n",
       " 'final.output.concentrate_sol',\n",
       " 'final.output.concentrate_au',\n",
       " 'final.output.tail_ag',\n",
       " 'final.output.tail_pb',\n",
       " 'final.output.tail_sol',\n",
       " 'final.output.tail_au',\n",
       " 'primary_cleaner.output.concentrate_ag',\n",
       " 'primary_cleaner.output.concentrate_pb',\n",
       " 'primary_cleaner.output.concentrate_sol',\n",
       " 'primary_cleaner.output.concentrate_au',\n",
       " 'primary_cleaner.output.tail_ag',\n",
       " 'primary_cleaner.output.tail_pb',\n",
       " 'primary_cleaner.output.tail_sol',\n",
       " 'primary_cleaner.output.tail_au',\n",
       " 'rougher.calculation.sulfate_to_au_concentrate',\n",
       " 'rougher.calculation.floatbank10_sulfate_to_au_feed',\n",
       " 'rougher.calculation.floatbank11_sulfate_to_au_feed',\n",
       " 'rougher.calculation.au_pb_ratio',\n",
       " 'rougher.output.concentrate_ag',\n",
       " 'rougher.output.concentrate_pb',\n",
       " 'rougher.output.concentrate_sol',\n",
       " 'rougher.output.concentrate_au',\n",
       " 'rougher.output.tail_ag',\n",
       " 'rougher.output.tail_pb',\n",
       " 'rougher.output.tail_sol',\n",
       " 'rougher.output.tail_au',\n",
       " 'secondary_cleaner.output.tail_ag',\n",
       " 'secondary_cleaner.output.tail_pb',\n",
       " 'secondary_cleaner.output.tail_sol',\n",
       " 'secondary_cleaner.output.tail_au',\n",
       " 'recovery_check']"
      ]
     },
     "execution_count": 13,
     "metadata": {},
     "output_type": "execute_result"
    }
   ],
   "source": [
    "#remove columns which are part of target \n",
    "missing.remove('rougher.output.recovery')\n",
    "missing.remove('final.output.recovery')\n",
    "missing"
   ]
  },
  {
   "cell_type": "code",
   "execution_count": 14,
   "metadata": {},
   "outputs": [
    {
     "name": "stdout",
     "output_type": "stream",
     "text": [
      "Columns which are missing between dataframes:\n",
      "=final.output.recovery\n",
      "=rougher.output.recovery\n"
     ]
    }
   ],
   "source": [
    "gtrain=gtrain.drop(columns=missing)\n",
    "check_missing_columns=missing_columns(gtest,gtrain)"
   ]
  },
  {
   "cell_type": "markdown",
   "metadata": {},
   "source": [
    "All missing columns have a datatype of float64. Double checked for columns to be removed.  Only mismatch remaining is the targets which were intentionally removed.  Targets must remain for machine learning at end.  "
   ]
  },
  {
   "cell_type": "code",
   "execution_count": 15,
   "metadata": {},
   "outputs": [],
   "source": [
    "#write function to merge missing columns into gtest dataframe for complete information \n",
    "def add_missing_columns(df, reference_df, missing_cols):\n",
    "    for col in missing_cols:\n",
    "        df[col] = reference_df[col]\n",
    "    return df"
   ]
  },
  {
   "cell_type": "code",
   "execution_count": 16,
   "metadata": {},
   "outputs": [
    {
     "name": "stdout",
     "output_type": "stream",
     "text": [
      "All columns match between dataframes.\n"
     ]
    }
   ],
   "source": [
    "#add missing columns to test so target exists \n",
    "gtest=add_missing_columns(gtest,gtrain,check_missing_columns)\n",
    "recheck=missing_columns(gtest,gtrain)"
   ]
  },
  {
   "cell_type": "code",
   "execution_count": 17,
   "metadata": {},
   "outputs": [],
   "source": [
    "#write function to remove columns not present in df. \n",
    "def remove_missing_columns(df, reference_df):\n",
    "    # Find columns in `df` that are not in `reference_df`\n",
    "    columns_to_remove = [col for col in df.columns if col not in reference_df.columns]\n",
    "    # Drop the missing columns\n",
    "    df = df.drop(columns=columns_to_remove, errors='ignore')\n",
    "    return df"
   ]
  },
  {
   "cell_type": "code",
   "execution_count": 18,
   "metadata": {},
   "outputs": [
    {
     "data": {
      "text/plain": [
       "0"
      ]
     },
     "execution_count": 18,
     "metadata": {},
     "output_type": "execute_result"
    }
   ],
   "source": [
    "#gtrain issues to be resolved. \n",
    "\n",
    "#change date column datatype from object\n",
    "gtrain['date']=pd.to_datetime(gtrain['date'], format='%Y/%m/%d %H:%M')\n",
    "#check for duplicate rows\n",
    "gtrain.duplicated().sum()"
   ]
  },
  {
   "cell_type": "code",
   "execution_count": 19,
   "metadata": {},
   "outputs": [
    {
     "name": "stdout",
     "output_type": "stream",
     "text": [
      "date                                          0\n",
      "final.output.recovery                         0\n",
      "primary_cleaner.input.sulfate                 0\n",
      "primary_cleaner.input.depressant              0\n",
      "primary_cleaner.input.feed_size               0\n",
      "primary_cleaner.input.xanthate                0\n",
      "primary_cleaner.state.floatbank8_a_air        0\n",
      "primary_cleaner.state.floatbank8_a_level      0\n",
      "primary_cleaner.state.floatbank8_b_air        0\n",
      "primary_cleaner.state.floatbank8_b_level      0\n",
      "primary_cleaner.state.floatbank8_c_air        0\n",
      "primary_cleaner.state.floatbank8_c_level      0\n",
      "primary_cleaner.state.floatbank8_d_air        0\n",
      "primary_cleaner.state.floatbank8_d_level      0\n",
      "rougher.input.feed_ag                         0\n",
      "rougher.input.feed_pb                         0\n",
      "rougher.input.feed_rate                       0\n",
      "rougher.input.feed_size                       0\n",
      "rougher.input.feed_sol                        0\n",
      "rougher.input.feed_au                         0\n",
      "rougher.input.floatbank10_sulfate             0\n",
      "rougher.input.floatbank10_xanthate            0\n",
      "rougher.input.floatbank11_sulfate             0\n",
      "rougher.input.floatbank11_xanthate            0\n",
      "rougher.output.recovery                       0\n",
      "rougher.state.floatbank10_a_air               0\n",
      "rougher.state.floatbank10_a_level             0\n",
      "rougher.state.floatbank10_b_air               0\n",
      "rougher.state.floatbank10_b_level             0\n",
      "rougher.state.floatbank10_c_air               0\n",
      "rougher.state.floatbank10_c_level             0\n",
      "rougher.state.floatbank10_d_air               0\n",
      "rougher.state.floatbank10_d_level             0\n",
      "rougher.state.floatbank10_e_air               0\n",
      "rougher.state.floatbank10_e_level             0\n",
      "rougher.state.floatbank10_f_air               0\n",
      "rougher.state.floatbank10_f_level             0\n",
      "secondary_cleaner.state.floatbank2_a_air      0\n",
      "secondary_cleaner.state.floatbank2_a_level    0\n",
      "secondary_cleaner.state.floatbank2_b_air      0\n",
      "secondary_cleaner.state.floatbank2_b_level    0\n",
      "secondary_cleaner.state.floatbank3_a_air      0\n",
      "secondary_cleaner.state.floatbank3_a_level    0\n",
      "secondary_cleaner.state.floatbank3_b_air      0\n",
      "secondary_cleaner.state.floatbank3_b_level    0\n",
      "secondary_cleaner.state.floatbank4_a_air      0\n",
      "secondary_cleaner.state.floatbank4_a_level    0\n",
      "secondary_cleaner.state.floatbank4_b_air      0\n",
      "secondary_cleaner.state.floatbank4_b_level    0\n",
      "secondary_cleaner.state.floatbank5_a_air      0\n",
      "secondary_cleaner.state.floatbank5_a_level    0\n",
      "secondary_cleaner.state.floatbank5_b_air      0\n",
      "secondary_cleaner.state.floatbank5_b_level    0\n",
      "secondary_cleaner.state.floatbank6_a_air      0\n",
      "secondary_cleaner.state.floatbank6_a_level    0\n",
      "dtype: int64\n"
     ]
    }
   ],
   "source": [
    "#in gtrain Find columns with missing values\n",
    "columns_with_missing = gtrain.columns[gtrain.isnull().any()].tolist()\n",
    "\n",
    "# Replace missing values with the mean of each column\n",
    "for col in columns_with_missing:\n",
    "    mean_value = gtrain[col].mean()  # Calculate mean\n",
    "    gtrain[col].fillna(mean_value, inplace=True)  # Replace NaN with mean\n",
    "\n",
    "# check all means added  \n",
    "print(gtrain.isna().sum())\n"
   ]
  },
  {
   "cell_type": "code",
   "execution_count": 20,
   "metadata": {},
   "outputs": [
    {
     "data": {
      "text/plain": [
       "0"
      ]
     },
     "execution_count": 20,
     "metadata": {},
     "output_type": "execute_result"
    }
   ],
   "source": [
    "#gtest issues to be resolved\n",
    "#change date column datatype from object\n",
    "gtest['date']=pd.to_datetime(gtest['date'], format='%Y/%m/%d %H:%M')\n",
    "#check for duplicate rows\n",
    "gtest.duplicated().sum()"
   ]
  },
  {
   "cell_type": "code",
   "execution_count": 21,
   "metadata": {},
   "outputs": [
    {
     "name": "stdout",
     "output_type": "stream",
     "text": [
      "date                                          0\n",
      "primary_cleaner.input.sulfate                 0\n",
      "primary_cleaner.input.depressant              0\n",
      "primary_cleaner.input.feed_size               0\n",
      "primary_cleaner.input.xanthate                0\n",
      "primary_cleaner.state.floatbank8_a_air        0\n",
      "primary_cleaner.state.floatbank8_a_level      0\n",
      "primary_cleaner.state.floatbank8_b_air        0\n",
      "primary_cleaner.state.floatbank8_b_level      0\n",
      "primary_cleaner.state.floatbank8_c_air        0\n",
      "primary_cleaner.state.floatbank8_c_level      0\n",
      "primary_cleaner.state.floatbank8_d_air        0\n",
      "primary_cleaner.state.floatbank8_d_level      0\n",
      "rougher.input.feed_ag                         0\n",
      "rougher.input.feed_pb                         0\n",
      "rougher.input.feed_rate                       0\n",
      "rougher.input.feed_size                       0\n",
      "rougher.input.feed_sol                        0\n",
      "rougher.input.feed_au                         0\n",
      "rougher.input.floatbank10_sulfate             0\n",
      "rougher.input.floatbank10_xanthate            0\n",
      "rougher.input.floatbank11_sulfate             0\n",
      "rougher.input.floatbank11_xanthate            0\n",
      "rougher.state.floatbank10_a_air               0\n",
      "rougher.state.floatbank10_a_level             0\n",
      "rougher.state.floatbank10_b_air               0\n",
      "rougher.state.floatbank10_b_level             0\n",
      "rougher.state.floatbank10_c_air               0\n",
      "rougher.state.floatbank10_c_level             0\n",
      "rougher.state.floatbank10_d_air               0\n",
      "rougher.state.floatbank10_d_level             0\n",
      "rougher.state.floatbank10_e_air               0\n",
      "rougher.state.floatbank10_e_level             0\n",
      "rougher.state.floatbank10_f_air               0\n",
      "rougher.state.floatbank10_f_level             0\n",
      "secondary_cleaner.state.floatbank2_a_air      0\n",
      "secondary_cleaner.state.floatbank2_a_level    0\n",
      "secondary_cleaner.state.floatbank2_b_air      0\n",
      "secondary_cleaner.state.floatbank2_b_level    0\n",
      "secondary_cleaner.state.floatbank3_a_air      0\n",
      "secondary_cleaner.state.floatbank3_a_level    0\n",
      "secondary_cleaner.state.floatbank3_b_air      0\n",
      "secondary_cleaner.state.floatbank3_b_level    0\n",
      "secondary_cleaner.state.floatbank4_a_air      0\n",
      "secondary_cleaner.state.floatbank4_a_level    0\n",
      "secondary_cleaner.state.floatbank4_b_air      0\n",
      "secondary_cleaner.state.floatbank4_b_level    0\n",
      "secondary_cleaner.state.floatbank5_a_air      0\n",
      "secondary_cleaner.state.floatbank5_a_level    0\n",
      "secondary_cleaner.state.floatbank5_b_air      0\n",
      "secondary_cleaner.state.floatbank5_b_level    0\n",
      "secondary_cleaner.state.floatbank6_a_air      0\n",
      "secondary_cleaner.state.floatbank6_a_level    0\n",
      "final.output.recovery                         0\n",
      "rougher.output.recovery                       0\n",
      "dtype: int64\n"
     ]
    }
   ],
   "source": [
    "#in gtest Find columns with missing values\n",
    "columns_with_missing = gtest.columns[gtest.isna().any()].tolist()\n",
    "\n",
    "# Replace missing values with the mean of each column\n",
    "for col in columns_with_missing:\n",
    "    mean_value = gtest[col].mean()  # Calculate mean\n",
    "    gtest[col].fillna(mean_value, inplace=True)  # Replace NaN with mean\n",
    "\n",
    "# check all means added  \n",
    "print(gtest.isna().sum())"
   ]
  },
  {
   "cell_type": "markdown",
   "metadata": {},
   "source": [
    "Data Analyzation "
   ]
  },
  {
   "cell_type": "code",
   "execution_count": 22,
   "metadata": {},
   "outputs": [
    {
     "data": {
      "image/png": "[encoded data removed]",
      "text/plain": [
       "<Figure size 640x480 with 1 Axes>"
      ]
     },
     "metadata": {},
     "output_type": "display_data"
    }
   ],
   "source": [
    "# Specify the columns you want to keep\n",
    "au_columns = ['rougher.input.feed_au', 'final.output.concentrate_au', 'final.output.tail_au', 'primary_cleaner.output.concentrate_au', 'primary_cleaner.output.tail_au', 'rougher.output.concentrate_au', 'rougher.output.tail_au', 'secondary_cleaner.output.tail_au']\n",
    "\n",
    "# Create a new DataFrame with the selected columns\n",
    "au = gfull[au_columns]\n",
    "au_mean=au\n",
    "\n",
    "\n",
    "#plt.hist(au_mean,bins=10, color='gold', edgecolor='black')\n",
    "plt.hist(au_mean['rougher.output.concentrate_au'], bins=2, color='gold', edgecolor='black', alpha=1, label='Rougher Output')\n",
    "plt.hist(au_mean['primary_cleaner.output.concentrate_au'], bins=2, color='yellow', edgecolor='black', alpha=0.6, label='Primary Cleaner')\n",
    "plt.hist(au_mean['final.output.concentrate_au'], bins=2, color='orange', edgecolor='black', alpha=0.2, label='Final Output')\n",
    "              \n",
    "# Add labels and title\n",
    "plt.title('Au Concentration Distribution')\n",
    "plt.xlabel('Concentration')\n",
    "\n",
    "# Show the plot\n",
    "plt.legend(title='Filtration Stage', loc='upper left', bbox_to_anchor=(1, 1))\n",
    "\n",
    "# Adjust layout to fit the legend\n",
    "plt.tight_layout()\n",
    "plt.show()\n"
   ]
  },
  {
   "cell_type": "markdown",
   "metadata": {},
   "source": [
    "The highest purification stage of gold is the final output.  This makes sense as the desired outcome of purification is high gold values.  The lowest gold volume is present in the product residue from the first rough purification stage (rougher.output.tail_au).  "
   ]
  },
  {
   "cell_type": "code",
   "execution_count": 23,
   "metadata": {},
   "outputs": [
    {
     "data": {
      "image/png": "[encoded data removed]",
      "text/plain": [
       "<Figure size 640x480 with 1 Axes>"
      ]
     },
     "metadata": {},
     "output_type": "display_data"
    }
   ],
   "source": [
    "ag_list = [col for col in gfull.columns if 'ag' in col]\n",
    "\n",
    "# Specify the columns you want to keep\n",
    "ag_columns = ['rougher.input.feed_ag', 'final.output.concentrate_ag', 'final.output.tail_ag', 'primary_cleaner.output.concentrate_ag', 'primary_cleaner.output.tail_ag', 'rougher.output.concentrate_ag', 'rougher.output.tail_ag', 'secondary_cleaner.output.tail_ag']\n",
    "\n",
    "# Create a new DataFrame with the selected columns\n",
    "ag = gfull[ag_columns]\n",
    "ag_mean=ag\n",
    "\n",
    "\n",
    "#plt.hist(au_mean,bins=10, color='gold', edgecolor='black')\n",
    "plt.hist(ag_mean['rougher.output.concentrate_ag'], bins=2, color='silver', edgecolor='black', alpha=1, label='Rougher Output')\n",
    "plt.hist(ag_mean['primary_cleaner.output.concentrate_ag'], bins=2, color='purple', edgecolor='black', alpha=0.6, label='Primary Cleaner')\n",
    "plt.hist(ag_mean['final.output.concentrate_ag'], bins=2, color='pink', edgecolor='black', alpha=0.2, label='Final Output')\n",
    "              \n",
    "# Add labels and title\n",
    "plt.title('Ag Concentration Distribution')\n",
    "plt.xlabel('Concentration')\n",
    "\n",
    "# Show the plot\n",
    "plt.legend(title='Filtration Stage', loc='upper left', bbox_to_anchor=(1, 1))\n",
    "\n",
    "# Adjust layout to fit the legend\n",
    "plt.tight_layout()\n",
    "plt.show()\n"
   ]
  },
  {
   "cell_type": "markdown",
   "metadata": {},
   "source": [
    "Silver's highest concentration during the purification process is the product output from the second cleaning (primary_cleaner.output.tail_ag).  Closely following is the product output from the third cleaning process (secondary_cleaner.output.tail_ag).  As the gold refining process occurs there will be less volumes of any other metals present.  The max volume present of gold is 13 while the max gold present is closer to 40.  "
   ]
  },
  {
   "cell_type": "code",
   "execution_count": 24,
   "metadata": {},
   "outputs": [
    {
     "data": {
      "image/png": "[encoded data removed]",
      "text/plain": [
       "<Figure size 640x480 with 1 Axes>"
      ]
     },
     "metadata": {},
     "output_type": "display_data"
    }
   ],
   "source": [
    "pb_list = [col for col in gfull.columns if 'pb' in col]\n",
    "\n",
    "# Specify the columns you want to keep\n",
    "pb_columns = ['rougher.input.feed_pb', 'final.output.concentrate_pb', 'final.output.tail_pb', 'primary_cleaner.output.concentrate_pb', 'primary_cleaner.output.tail_pb', 'rougher.output.concentrate_pb', 'rougher.output.tail_pb', 'secondary_cleaner.output.tail_pb']\n",
    "\n",
    "# Create a new DataFrame with the selected columns\n",
    "pb = gfull[pb_columns]\n",
    "pb_mean=pb\n",
    "\n",
    "\n",
    "#plt.hist(au_mean,bins=10, color='gold', edgecolor='black')\n",
    "plt.hist(pb_mean['rougher.output.concentrate_pb'], bins=15, color='blue', edgecolor='black', alpha=1, label='Rougher Output')\n",
    "plt.hist(pb_mean['primary_cleaner.output.concentrate_pb'], bins=15, color='orange', edgecolor='black', alpha=0.6, label='Primary Cleaner')\n",
    "plt.hist(pb_mean['final.output.concentrate_pb'], bins=15, color='yellow', edgecolor='black', alpha=0.2, label='Final Output')\n",
    "              \n",
    "# Add labels and title\n",
    "plt.title('Pb Concentration Distribution')\n",
    "plt.xlabel('Concentration')\n",
    "\n",
    "# Show the plot\n",
    "plt.legend(title='Filtration Stage', loc='upper left', bbox_to_anchor=(1, 1))\n",
    "\n",
    "# Adjust layout to fit the legend\n",
    "plt.tight_layout()\n",
    "plt.show()"
   ]
  },
  {
   "cell_type": "markdown",
   "metadata": {},
   "source": [
    "Lead's highest concentration point is in the finished stage of gold purification (final.output.concentrate_pb).  The values of lead present (9.11) are much lower than volume of gold present in final stages (about 40).  "
   ]
  },
  {
   "cell_type": "code",
   "execution_count": 25,
   "metadata": {},
   "outputs": [
    {
     "name": "stdout",
     "output_type": "stream",
     "text": [
      "['primary_cleaner.input.feed_size', 'rougher.input.feed_size']\n",
      "['primary_cleaner.input.feed_size', 'rougher.input.feed_size']\n"
     ]
    }
   ],
   "source": [
    "#Compare the feed particle size distributions in the training set and in the test set.\n",
    "train_size = [col for col in gtrain.columns if 'feed_size' in col]\n",
    "test_size = [col for col in gtest.columns if 'feed_size' in col]\n",
    "print(train_size)\n",
    "print(test_size)"
   ]
  },
  {
   "cell_type": "code",
   "execution_count": 26,
   "metadata": {},
   "outputs": [],
   "source": [
    "# Specify the columns you want to keep\n",
    "train_size_columns = ['primary_cleaner.input.feed_size', 'rougher.input.feed_size']\n",
    "test_size_columns = ['primary_cleaner.input.feed_size', 'rougher.input.feed_size']\n",
    "\n",
    "# Create a new DataFrame with the selected columns\n",
    "train_sc=gtrain[train_size_columns]\n",
    "test_sc=gtest[test_size_columns]\n",
    "\n",
    "#rename the columns to identify source\n",
    "tr_sc=train_sc.rename(columns={'primary_cleaner.input.feed_size':'Train_Primary_Cleaner', 'rougher.input.feed_size':'Train_Rough'})\n",
    "te_sc=test_sc.rename(columns={'primary_cleaner.input.feed_size':'Test_Primary_Cleaner', 'rougher.input.feed_size':'Test_Rough'})"
   ]
  },
  {
   "cell_type": "code",
   "execution_count": 27,
   "metadata": {},
   "outputs": [
    {
     "data": {
      "text/html": [
       "<div>\n",
       "<style scoped>\n",
       "    .dataframe tbody tr th:only-of-type {\n",
       "        vertical-align: middle;\n",
       "    }\n",
       "\n",
       "    .dataframe tbody tr th {\n",
       "        vertical-align: top;\n",
       "    }\n",
       "\n",
       "    .dataframe thead th {\n",
       "        text-align: right;\n",
       "    }\n",
       "</style>\n",
       "<table border=\"1\" class=\"dataframe\">\n",
       "  <thead>\n",
       "    <tr style=\"text-align: right;\">\n",
       "      <th></th>\n",
       "      <th>Train_Primary_Cleaner</th>\n",
       "      <th>Train_Rough</th>\n",
       "      <th>Test_Primary_Cleaner</th>\n",
       "      <th>Test_Rough</th>\n",
       "    </tr>\n",
       "  </thead>\n",
       "  <tbody>\n",
       "    <tr>\n",
       "      <th>0</th>\n",
       "      <td>7.25</td>\n",
       "      <td>55.486599</td>\n",
       "      <td>NaN</td>\n",
       "      <td>NaN</td>\n",
       "    </tr>\n",
       "    <tr>\n",
       "      <th>1</th>\n",
       "      <td>7.25</td>\n",
       "      <td>57.278666</td>\n",
       "      <td>NaN</td>\n",
       "      <td>NaN</td>\n",
       "    </tr>\n",
       "    <tr>\n",
       "      <th>2</th>\n",
       "      <td>7.25</td>\n",
       "      <td>57.510649</td>\n",
       "      <td>NaN</td>\n",
       "      <td>NaN</td>\n",
       "    </tr>\n",
       "    <tr>\n",
       "      <th>3</th>\n",
       "      <td>7.25</td>\n",
       "      <td>57.792734</td>\n",
       "      <td>NaN</td>\n",
       "      <td>NaN</td>\n",
       "    </tr>\n",
       "    <tr>\n",
       "      <th>4</th>\n",
       "      <td>7.25</td>\n",
       "      <td>56.047189</td>\n",
       "      <td>NaN</td>\n",
       "      <td>NaN</td>\n",
       "    </tr>\n",
       "  </tbody>\n",
       "</table>\n",
       "</div>"
      ],
      "text/plain": [
       "   Train_Primary_Cleaner  Train_Rough  Test_Primary_Cleaner  Test_Rough\n",
       "0                   7.25    55.486599                   NaN         NaN\n",
       "1                   7.25    57.278666                   NaN         NaN\n",
       "2                   7.25    57.510649                   NaN         NaN\n",
       "3                   7.25    57.792734                   NaN         NaN\n",
       "4                   7.25    56.047189                   NaN         NaN"
      ]
     },
     "execution_count": 27,
     "metadata": {},
     "output_type": "execute_result"
    }
   ],
   "source": [
    "# Concatenate the DataFrames\n",
    "feed_size = pd.concat([tr_sc, te_sc], ignore_index=True)\n",
    "\n",
    "# Check the result\n",
    "fs=feed_size\n",
    "fs.head(5)"
   ]
  },
  {
   "cell_type": "code",
   "execution_count": 28,
   "metadata": {},
   "outputs": [
    {
     "data": {
      "text/plain": [
       "<matplotlib.legend.Legend at 0x7f4fad84b610>"
      ]
     },
     "execution_count": 28,
     "metadata": {},
     "output_type": "execute_result"
    },
    {
     "data": {
      "image/png": "[encoded data removed]",
      "text/plain": [
       "<Figure size 640x480 with 1 Axes>"
      ]
     },
     "metadata": {},
     "output_type": "display_data"
    }
   ],
   "source": [
    "#visualize\n",
    "\n",
    "#plt.hist(au_mean,bins=10, color='gold', edgecolor='black')\n",
    "plt.hist(fs['Train_Primary_Cleaner'], bins=8, color='purple', edgecolor='black', alpha=1, range=[0,150], label='Train Primary Cleaner')\n",
    "plt.hist(fs['Train_Rough'], bins=8, color='pink', edgecolor='black', alpha=0.8,  range=[0,150], label='Train Rough')\n",
    "plt.hist(fs['Test_Primary_Cleaner'], bins=8, color='yellow', edgecolor='black', range=[0,150], alpha=0.6, label='Test Primary Cleaner')\n",
    "plt.hist(fs['Test_Rough'], bins=8, color='orange', edgecolor='black', alpha=0.4, range=[0,150], label='Test Rough')\n",
    "\n",
    "              \n",
    "# Add labels and title\n",
    "plt.title('Average Feed Size in Various Stages')\n",
    "plt.xlabel('Feed Size')\n",
    "\n",
    "# Show the plot\n",
    "plt.legend(title='Filtration Stage', loc='upper left', bbox_to_anchor=(1, 1))\n"
   ]
  },
  {
   "cell_type": "markdown",
   "metadata": {},
   "source": [
    "The average feed size is exactly the same according to the phase of gold purification between the two dataframes.  In boh the training and testing dataset the average feed size during primary cleaner is 7.264651.  During purification stage rough the average feed size is 55.937535.  This is an indication that the machine learning model will be well trained since similiar data is present in both dataframes. "
   ]
  },
  {
   "cell_type": "code",
   "execution_count": 29,
   "metadata": {},
   "outputs": [
    {
     "name": "stdout",
     "output_type": "stream",
     "text": [
      "Shape of the dataset before handling abnormal values: (22716, 87)\n",
      "Shape of the full dataset after handling abnormal values: (20472, 90)\n"
     ]
    }
   ],
   "source": [
    "print('Shape of the dataset before handling abnormal values:', gfull.shape)\n",
    "gfull['rougher.input.total_concentration']=gfull['rougher.input.feed_au']+gfull['rougher.input.feed_ag']+gfull['rougher.input.feed_pb']\n",
    "gfull['rougher.output.total_concentration']=gfull['rougher.output.concentrate_au']+gfull['rougher.output.concentrate_ag']+gfull['rougher.output.concentrate_pb']\n",
    "gfull['final.output.total_concentration']=gfull['final.output.concentrate_au']+gfull['final.output.concentrate_ag']+gfull['final.output.concentrate_pb']\n",
    "\n",
    "#check for abnormal values (anything where the sum of at each stage is less than or equal to 0) \n",
    "abnormal_rows=gfull[(gfull['rougher.input.total_concentration'] <= 0) | (gfull['rougher.output.total_concentration'] <= 0) | (gfull['final.output.total_concentration'] <= 0)]\n",
    "\n",
    "#remove abnormal rows \n",
    "gfull=gfull.drop(abnormal_rows.index)\n",
    "\n",
    "#check shape of dataset\n",
    "print('Shape of the full dataset after handling abnormal values:', gfull.shape)\n"
   ]
  },
  {
   "cell_type": "code",
   "execution_count": 30,
   "metadata": {},
   "outputs": [
    {
     "data": {
      "text/plain": [
       "<matplotlib.legend.Legend at 0x7f4fa46bfca0>"
      ]
     },
     "execution_count": 30,
     "metadata": {},
     "output_type": "execute_result"
    },
    {
     "data": {
      "image/png": "[encoded data removed]",
      "text/plain": [
       "<Figure size 640x480 with 1 Axes>"
      ]
     },
     "metadata": {},
     "output_type": "display_data"
    }
   ],
   "source": [
    "\n",
    "sns.kdeplot(gfull['rougher.input.total_concentration'], color='green', edgecolor='black', alpha=0.9, label='Rough Input',fill=True)\n",
    "sns.kdeplot(gfull['rougher.output.total_concentration'], color='orange', edgecolor='black', alpha=0.6, label='Rough Output', fill=True)\n",
    "sns.kdeplot(gfull['final.output.total_concentration'], color='yellow', edgecolor='black', alpha=0.3, label='Final Output', fill=True)\n",
    "# Add labels and title\n",
    "plt.title('Total Metal Concentration by Stage')\n",
    "plt.xlabel('Concentration')\n",
    "# Show the plot\n",
    "plt.legend(title='Filtration Stage', loc='upper left', bbox_to_anchor=(1, 1))\n",
    "\n"
   ]
  },
  {
   "cell_type": "code",
   "execution_count": 31,
   "metadata": {},
   "outputs": [
    {
     "name": "stderr",
     "output_type": "stream",
     "text": [
      "/tmp/ipykernel_50/2478234673.py:4: SettingWithCopyWarning: \n",
      "A value is trying to be set on a copy of a slice from a DataFrame.\n",
      "Try using .loc[row_indexer,col_indexer] = value instead\n",
      "\n",
      "See the caveats in the documentation: https://pandas.pydata.org/pandas-docs/stable/user_guide/indexing.html#returning-a-view-versus-a-copy\n",
      "  metal_concentrations['sum']=gfull['final.output.concentrate_ag'] + gfull['final.output.concentrate_au'] + gfull['final.output.concentrate_pb']\n"
     ]
    }
   ],
   "source": [
    "#pull together metal concentrations \n",
    "metal_concentrations=gfull[['final.output.concentrate_ag','final.output.concentrate_au','final.output.concentrate_pb']]\n",
    "#add a column of summation \n",
    "metal_concentrations['sum']=gfull['final.output.concentrate_ag'] + gfull['final.output.concentrate_au'] + gfull['final.output.concentrate_pb']\n",
    "\n"
   ]
  },
  {
   "cell_type": "code",
   "execution_count": 32,
   "metadata": {},
   "outputs": [],
   "source": [
    "#function for concentration of each metal at stages \n",
    "def metal_sum(df,stage, metal):\n",
    "#     metal_id=['_au','_ag','_pb']\n",
    "    total_metal=df[stage+metal]\n",
    "    print(total_metal.shape)\n",
    "    print(total_metal.head())\n",
    "    return total_metal"
   ]
  },
  {
   "cell_type": "code",
   "execution_count": 33,
   "metadata": {},
   "outputs": [
    {
     "name": "stdout",
     "output_type": "stream",
     "text": [
      "(20472,)\n",
      "0    6.486150\n",
      "1    6.478583\n",
      "2    6.362222\n",
      "3    6.118189\n",
      "4    5.663707\n",
      "Name: rougher.input.feed_au, dtype: float64\n",
      "(20472,)\n",
      "0    19.793808\n",
      "1    20.050975\n",
      "2    19.737170\n",
      "3    19.320810\n",
      "4    19.216101\n",
      "Name: rougher.output.concentrate_au, dtype: float64\n",
      "(20472,)\n",
      "0    42.192020\n",
      "1    42.701629\n",
      "2    42.657501\n",
      "3    42.689819\n",
      "4    42.774141\n",
      "Name: final.output.concentrate_au, dtype: float64\n"
     ]
    },
    {
     "data": {
      "image/png": "[encoded data removed]",
      "text/plain": [
       "<Figure size 1300x500 with 1 Axes>"
      ]
     },
     "metadata": {},
     "output_type": "display_data"
    }
   ],
   "source": [
    "#visualize Gold\n",
    "fig=plt.figure(figsize=(13,5))\n",
    "fig.suptitle('Gold Concentration by Stage (Density)',fontsize=20,y=1)\n",
    "\n",
    "sns.kdeplot(metal_sum (gfull,'rougher.input.feed', '_au'),label='Rough Input Feed',fill=True)\n",
    "sns.kdeplot(metal_sum (gfull,'rougher.output.concentrate', '_au'),label='Rough Output Concentrate', fill=True)\n",
    "sns.kdeplot(metal_sum (gfull,'final.output.concentrate', '_au'), label='Final Output Concentrate', fill=True)\n",
    "\n",
    "plt.legend(fontsize=12)\n",
    "plt.xlabel('Total Gold Concentration (%)', fontsize=12, labelpad=14)\n",
    "plt.ylabel('Density', fontsize=12,labelpad=14)\n",
    "# Add labels and title\n",
    "plt.tight_layout()\n",
    "plt.show()"
   ]
  },
  {
   "cell_type": "code",
   "execution_count": 34,
   "metadata": {},
   "outputs": [
    {
     "name": "stdout",
     "output_type": "stream",
     "text": [
      "(20472,)\n",
      "0    6.100378\n",
      "1    6.161113\n",
      "2    6.116455\n",
      "3    6.043309\n",
      "4    6.060915\n",
      "Name: rougher.input.feed_ag, dtype: float64\n",
      "(20472,)\n",
      "0    11.500771\n",
      "1    11.615865\n",
      "2    11.695753\n",
      "3    11.915047\n",
      "4    12.411054\n",
      "Name: rougher.output.concentrate_ag, dtype: float64\n",
      "(20472,)\n",
      "0    6.055403\n",
      "1    6.029369\n",
      "2    6.055926\n",
      "3    6.047977\n",
      "4    6.148599\n",
      "Name: final.output.concentrate_ag, dtype: float64\n"
     ]
    },
    {
     "data": {
      "image/png": "[encoded data removed]",
      "text/plain": [
       "<Figure size 1300x500 with 1 Axes>"
      ]
     },
     "metadata": {},
     "output_type": "display_data"
    }
   ],
   "source": [
    "#visualize Silver \n",
    "fig=plt.figure(figsize=(13,5))\n",
    "fig.suptitle('Silver Concentration by Stage (Density)',fontsize=20,y=1)\n",
    "\n",
    "sns.kdeplot(metal_sum (gfull,'rougher.input.feed', '_ag'),label='Rough Input Feed',fill=True)\n",
    "sns.kdeplot(metal_sum (gfull,'rougher.output.concentrate', '_ag'),label='Rough Output Concentrate', fill=True)\n",
    "sns.kdeplot(metal_sum (gfull,'final.output.concentrate', '_ag'), label='Final Output Concentrate', fill=True)\n",
    "\n",
    "plt.xlabel('Total Silver Concentration (%)', fontsize=12, labelpad=14)\n",
    "plt.ylabel('Density', fontsize=12,labelpad=14)\n",
    "# Add labels and title\n",
    "plt.tight_layout()\n",
    "plt.show()"
   ]
  },
  {
   "cell_type": "code",
   "execution_count": 35,
   "metadata": {},
   "outputs": [
    {
     "name": "stdout",
     "output_type": "stream",
     "text": [
      "(20472,)\n",
      "0    2.284912\n",
      "1    2.266033\n",
      "2    2.159622\n",
      "3    2.037807\n",
      "4    1.786875\n",
      "Name: rougher.input.feed_pb, dtype: float64\n",
      "(20472,)\n",
      "0    7.101074\n",
      "1    7.278807\n",
      "2    7.216833\n",
      "3    7.175616\n",
      "4    7.240205\n",
      "Name: rougher.output.concentrate_pb, dtype: float64\n",
      "(20472,)\n",
      "0     9.889648\n",
      "1     9.968944\n",
      "2    10.213995\n",
      "3     9.977019\n",
      "4    10.142511\n",
      "Name: final.output.concentrate_pb, dtype: float64\n"
     ]
    },
    {
     "data": {
      "image/png": "[encoded data removed]",
      "text/plain": [
       "<Figure size 1300x500 with 1 Axes>"
      ]
     },
     "metadata": {},
     "output_type": "display_data"
    }
   ],
   "source": [
    "#visualize Lead \n",
    "fig=plt.figure(figsize=(13,5))\n",
    "fig.suptitle('Lead Concentration by Stage (Density)',fontsize=20,y=1)\n",
    "\n",
    "sns.kdeplot(metal_sum (gfull,'rougher.input.feed', '_pb'),label='Rough Input Feed',fill=True)\n",
    "sns.kdeplot(metal_sum (gfull,'rougher.output.concentrate', '_pb'),label='Rough Output Concentrate', fill=True)\n",
    "sns.kdeplot(metal_sum (gfull,'final.output.concentrate', '_pb'), label='Final Output Concentrate', fill=True)\n",
    "\n",
    "plt.legend(fontsize=12)\n",
    "plt.xlabel('Total Lead Concentration (%)', fontsize=12, labelpad=14)\n",
    "plt.ylabel('Density', fontsize=12,labelpad=14)\n",
    "# Add labels and title\n",
    "plt.tight_layout()\n",
    "plt.show()"
   ]
  },
  {
   "cell_type": "markdown",
   "metadata": {},
   "source": [
    "Outliers are values that were in the negative or less than zero. "
   ]
  },
  {
   "cell_type": "markdown",
   "metadata": {},
   "source": [
    "Taking into consideration the total concentrations of all substances at different stages (raw feed, rougher concentrate, and final concentrate) there are values less than or equal to zero.  Since these are physical quantities being measured in gold purification having a negative value at one of the stages is an abnormality.  The full training set includes parts of the test set.  However it is not best practice to alter the test set.  This is the reason only adjusting the anomalies in the full training set.  The shape shows a difference after the edit. \n"
   ]
  },
  {
   "cell_type": "code",
   "execution_count": 36,
   "metadata": {},
   "outputs": [],
   "source": [
    "#calculate sMAPE\n",
    "import numpy as np\n",
    "\n",
    "def calculate_smape(actual, forecast):\n",
    "    # Ensure inputs are numpy arrays\n",
    "    actual = np.array(actual)\n",
    "    forecast = np.array(forecast)\n",
    "    \n",
    "    # Avoid division by zero and calculate sMAPE\n",
    "    denominator = (np.abs(actual) + np.abs(forecast)) / 2\n",
    "    nonzero_indices = denominator != 0  # Avoid division by zero\n",
    "    numerator = np.abs(forecast - actual)\n",
    "    \n",
    "    smape = np.mean(numerator[nonzero_indices] / denominator[nonzero_indices]) * 100\n",
    "    return smape"
   ]
  },
  {
   "cell_type": "code",
   "execution_count": 37,
   "metadata": {},
   "outputs": [],
   "source": [
    "#calculate final sMAPE\n",
    "def final_smape(smape_rougher, smape_final):\n",
    "    return 0.25 * smape_rougher + 0.75 * smape_final"
   ]
  },
  {
   "cell_type": "code",
   "execution_count": 38,
   "metadata": {},
   "outputs": [],
   "source": [
    "#Test best model on set subset  \n",
    "#define for training models\n",
    "fullX = gfull.drop(columns=['rougher.output.recovery', 'final.output.recovery', 'date'])\n",
    "fully = gfull[['rougher.output.recovery', 'final.output.recovery']]"
   ]
  },
  {
   "cell_type": "code",
   "execution_count": 39,
   "metadata": {},
   "outputs": [
    {
     "name": "stdout",
     "output_type": "stream",
     "text": [
      "final.output.concentrate_ag                    82\n",
      "final.output.concentrate_pb                    80\n",
      "final.output.concentrate_sol                  373\n",
      "final.output.concentrate_au                    79\n",
      "final.output.tail_ag                           75\n",
      "                                             ... \n",
      "secondary_cleaner.state.floatbank6_a_air       91\n",
      "secondary_cleaner.state.floatbank6_a_level     90\n",
      "rougher.input.total_concentration             227\n",
      "rougher.output.total_concentration             90\n",
      "final.output.total_concentration               82\n",
      "Length: 87, dtype: int64\n",
      "rougher.output.recovery    1417\n",
      "final.output.recovery       283\n",
      "dtype: int64\n",
      "final.output.concentrate_ag                   0\n",
      "final.output.concentrate_pb                   0\n",
      "final.output.concentrate_sol                  0\n",
      "final.output.concentrate_au                   0\n",
      "final.output.tail_ag                          0\n",
      "                                             ..\n",
      "secondary_cleaner.state.floatbank6_a_air      0\n",
      "secondary_cleaner.state.floatbank6_a_level    0\n",
      "rougher.input.total_concentration             0\n",
      "rougher.output.total_concentration            0\n",
      "final.output.total_concentration              0\n",
      "Length: 87, dtype: int64\n",
      "rougher.output.recovery    0\n",
      "final.output.recovery      0\n",
      "dtype: int64\n"
     ]
    }
   ],
   "source": [
    "print(fullX.isnull().sum())  # Check for NaN values in X\n",
    "print(fully.isnull().sum())  # Check for NaN values in y\n",
    "\n",
    "print(np.isinf(fullX).sum())  # Check for infinity in X\n",
    "print(np.isinf(fully).sum())  # Check for infinity in y"
   ]
  },
  {
   "cell_type": "code",
   "execution_count": 40,
   "metadata": {},
   "outputs": [],
   "source": [
    "fullX = fullX.fillna(fullX.median())  # Replace NaNs with median\n",
    "fully = fully.fillna(fully.median())  # Replace NaNs with median"
   ]
  },
  {
   "cell_type": "code",
   "execution_count": 41,
   "metadata": {},
   "outputs": [],
   "source": [
    "#define for training models\n",
    "X = gtrain.drop(columns=['rougher.output.recovery', 'final.output.recovery', 'date'])\n",
    "y = gtrain[['rougher.output.recovery', 'final.output.recovery']]"
   ]
  },
  {
   "cell_type": "code",
   "execution_count": 42,
   "metadata": {},
   "outputs": [],
   "source": [
    "#define for test model \n",
    "gX = gtest.drop(columns=['rougher.output.recovery', 'final.output.recovery','date'])\n",
    "gy = gtest[['rougher.output.recovery', 'final.output.recovery']]"
   ]
  },
  {
   "cell_type": "code",
   "execution_count": 43,
   "metadata": {},
   "outputs": [],
   "source": [
    "X = X.fillna(X.median())  # Replace NaNs with median\n",
    "y = y.fillna(y.median())  # Replace NaNs with median"
   ]
  },
  {
   "cell_type": "code",
   "execution_count": 44,
   "metadata": {},
   "outputs": [
    {
     "name": "stdout",
     "output_type": "stream",
     "text": [
      "primary_cleaner.input.sulfate                 0\n",
      "primary_cleaner.input.depressant              0\n",
      "primary_cleaner.input.feed_size               0\n",
      "primary_cleaner.input.xanthate                0\n",
      "primary_cleaner.state.floatbank8_a_air        0\n",
      "primary_cleaner.state.floatbank8_a_level      0\n",
      "primary_cleaner.state.floatbank8_b_air        0\n",
      "primary_cleaner.state.floatbank8_b_level      0\n",
      "primary_cleaner.state.floatbank8_c_air        0\n",
      "primary_cleaner.state.floatbank8_c_level      0\n",
      "primary_cleaner.state.floatbank8_d_air        0\n",
      "primary_cleaner.state.floatbank8_d_level      0\n",
      "rougher.input.feed_ag                         0\n",
      "rougher.input.feed_pb                         0\n",
      "rougher.input.feed_rate                       0\n",
      "rougher.input.feed_size                       0\n",
      "rougher.input.feed_sol                        0\n",
      "rougher.input.feed_au                         0\n",
      "rougher.input.floatbank10_sulfate             0\n",
      "rougher.input.floatbank10_xanthate            0\n",
      "rougher.input.floatbank11_sulfate             0\n",
      "rougher.input.floatbank11_xanthate            0\n",
      "rougher.state.floatbank10_a_air               0\n",
      "rougher.state.floatbank10_a_level             0\n",
      "rougher.state.floatbank10_b_air               0\n",
      "rougher.state.floatbank10_b_level             0\n",
      "rougher.state.floatbank10_c_air               0\n",
      "rougher.state.floatbank10_c_level             0\n",
      "rougher.state.floatbank10_d_air               0\n",
      "rougher.state.floatbank10_d_level             0\n",
      "rougher.state.floatbank10_e_air               0\n",
      "rougher.state.floatbank10_e_level             0\n",
      "rougher.state.floatbank10_f_air               0\n",
      "rougher.state.floatbank10_f_level             0\n",
      "secondary_cleaner.state.floatbank2_a_air      0\n",
      "secondary_cleaner.state.floatbank2_a_level    0\n",
      "secondary_cleaner.state.floatbank2_b_air      0\n",
      "secondary_cleaner.state.floatbank2_b_level    0\n",
      "secondary_cleaner.state.floatbank3_a_air      0\n",
      "secondary_cleaner.state.floatbank3_a_level    0\n",
      "secondary_cleaner.state.floatbank3_b_air      0\n",
      "secondary_cleaner.state.floatbank3_b_level    0\n",
      "secondary_cleaner.state.floatbank4_a_air      0\n",
      "secondary_cleaner.state.floatbank4_a_level    0\n",
      "secondary_cleaner.state.floatbank4_b_air      0\n",
      "secondary_cleaner.state.floatbank4_b_level    0\n",
      "secondary_cleaner.state.floatbank5_a_air      0\n",
      "secondary_cleaner.state.floatbank5_a_level    0\n",
      "secondary_cleaner.state.floatbank5_b_air      0\n",
      "secondary_cleaner.state.floatbank5_b_level    0\n",
      "secondary_cleaner.state.floatbank6_a_air      0\n",
      "secondary_cleaner.state.floatbank6_a_level    0\n",
      "dtype: int64\n",
      "rougher.output.recovery    0\n",
      "final.output.recovery      0\n",
      "dtype: int64\n",
      "primary_cleaner.input.sulfate                 0\n",
      "primary_cleaner.input.depressant              0\n",
      "primary_cleaner.input.feed_size               0\n",
      "primary_cleaner.input.xanthate                0\n",
      "primary_cleaner.state.floatbank8_a_air        0\n",
      "primary_cleaner.state.floatbank8_a_level      0\n",
      "primary_cleaner.state.floatbank8_b_air        0\n",
      "primary_cleaner.state.floatbank8_b_level      0\n",
      "primary_cleaner.state.floatbank8_c_air        0\n",
      "primary_cleaner.state.floatbank8_c_level      0\n",
      "primary_cleaner.state.floatbank8_d_air        0\n",
      "primary_cleaner.state.floatbank8_d_level      0\n",
      "rougher.input.feed_ag                         0\n",
      "rougher.input.feed_pb                         0\n",
      "rougher.input.feed_rate                       0\n",
      "rougher.input.feed_size                       0\n",
      "rougher.input.feed_sol                        0\n",
      "rougher.input.feed_au                         0\n",
      "rougher.input.floatbank10_sulfate             0\n",
      "rougher.input.floatbank10_xanthate            0\n",
      "rougher.input.floatbank11_sulfate             0\n",
      "rougher.input.floatbank11_xanthate            0\n",
      "rougher.state.floatbank10_a_air               0\n",
      "rougher.state.floatbank10_a_level             0\n",
      "rougher.state.floatbank10_b_air               0\n",
      "rougher.state.floatbank10_b_level             0\n",
      "rougher.state.floatbank10_c_air               0\n",
      "rougher.state.floatbank10_c_level             0\n",
      "rougher.state.floatbank10_d_air               0\n",
      "rougher.state.floatbank10_d_level             0\n",
      "rougher.state.floatbank10_e_air               0\n",
      "rougher.state.floatbank10_e_level             0\n",
      "rougher.state.floatbank10_f_air               0\n",
      "rougher.state.floatbank10_f_level             0\n",
      "secondary_cleaner.state.floatbank2_a_air      0\n",
      "secondary_cleaner.state.floatbank2_a_level    0\n",
      "secondary_cleaner.state.floatbank2_b_air      0\n",
      "secondary_cleaner.state.floatbank2_b_level    0\n",
      "secondary_cleaner.state.floatbank3_a_air      0\n",
      "secondary_cleaner.state.floatbank3_a_level    0\n",
      "secondary_cleaner.state.floatbank3_b_air      0\n",
      "secondary_cleaner.state.floatbank3_b_level    0\n",
      "secondary_cleaner.state.floatbank4_a_air      0\n",
      "secondary_cleaner.state.floatbank4_a_level    0\n",
      "secondary_cleaner.state.floatbank4_b_air      0\n",
      "secondary_cleaner.state.floatbank4_b_level    0\n",
      "secondary_cleaner.state.floatbank5_a_air      0\n",
      "secondary_cleaner.state.floatbank5_a_level    0\n",
      "secondary_cleaner.state.floatbank5_b_air      0\n",
      "secondary_cleaner.state.floatbank5_b_level    0\n",
      "secondary_cleaner.state.floatbank6_a_air      0\n",
      "secondary_cleaner.state.floatbank6_a_level    0\n",
      "dtype: int64\n",
      "rougher.output.recovery    0\n",
      "final.output.recovery      0\n",
      "dtype: int64\n"
     ]
    }
   ],
   "source": [
    "print(X.isnull().sum())  # Check for NaN values in X\n",
    "print(y.isnull().sum())  # Check for NaN values in y\n",
    "\n",
    "print(np.isinf(X).sum())  # Check for infinity in X\n",
    "print(np.isinf(y).sum())  # Check for infinity in y\n"
   ]
  },
  {
   "cell_type": "code",
   "execution_count": 45,
   "metadata": {},
   "outputs": [
    {
     "name": "stdout",
     "output_type": "stream",
     "text": [
      "primary_cleaner.input.sulfate                 0\n",
      "primary_cleaner.input.depressant              0\n",
      "primary_cleaner.input.feed_size               0\n",
      "primary_cleaner.input.xanthate                0\n",
      "primary_cleaner.state.floatbank8_a_air        0\n",
      "primary_cleaner.state.floatbank8_a_level      0\n",
      "primary_cleaner.state.floatbank8_b_air        0\n",
      "primary_cleaner.state.floatbank8_b_level      0\n",
      "primary_cleaner.state.floatbank8_c_air        0\n",
      "primary_cleaner.state.floatbank8_c_level      0\n",
      "primary_cleaner.state.floatbank8_d_air        0\n",
      "primary_cleaner.state.floatbank8_d_level      0\n",
      "rougher.input.feed_ag                         0\n",
      "rougher.input.feed_pb                         0\n",
      "rougher.input.feed_rate                       0\n",
      "rougher.input.feed_size                       0\n",
      "rougher.input.feed_sol                        0\n",
      "rougher.input.feed_au                         0\n",
      "rougher.input.floatbank10_sulfate             0\n",
      "rougher.input.floatbank10_xanthate            0\n",
      "rougher.input.floatbank11_sulfate             0\n",
      "rougher.input.floatbank11_xanthate            0\n",
      "rougher.state.floatbank10_a_air               0\n",
      "rougher.state.floatbank10_a_level             0\n",
      "rougher.state.floatbank10_b_air               0\n",
      "rougher.state.floatbank10_b_level             0\n",
      "rougher.state.floatbank10_c_air               0\n",
      "rougher.state.floatbank10_c_level             0\n",
      "rougher.state.floatbank10_d_air               0\n",
      "rougher.state.floatbank10_d_level             0\n",
      "rougher.state.floatbank10_e_air               0\n",
      "rougher.state.floatbank10_e_level             0\n",
      "rougher.state.floatbank10_f_air               0\n",
      "rougher.state.floatbank10_f_level             0\n",
      "secondary_cleaner.state.floatbank2_a_air      0\n",
      "secondary_cleaner.state.floatbank2_a_level    0\n",
      "secondary_cleaner.state.floatbank2_b_air      0\n",
      "secondary_cleaner.state.floatbank2_b_level    0\n",
      "secondary_cleaner.state.floatbank3_a_air      0\n",
      "secondary_cleaner.state.floatbank3_a_level    0\n",
      "secondary_cleaner.state.floatbank3_b_air      0\n",
      "secondary_cleaner.state.floatbank3_b_level    0\n",
      "secondary_cleaner.state.floatbank4_a_air      0\n",
      "secondary_cleaner.state.floatbank4_a_level    0\n",
      "secondary_cleaner.state.floatbank4_b_air      0\n",
      "secondary_cleaner.state.floatbank4_b_level    0\n",
      "secondary_cleaner.state.floatbank5_a_air      0\n",
      "secondary_cleaner.state.floatbank5_a_level    0\n",
      "secondary_cleaner.state.floatbank5_b_air      0\n",
      "secondary_cleaner.state.floatbank5_b_level    0\n",
      "secondary_cleaner.state.floatbank6_a_air      0\n",
      "secondary_cleaner.state.floatbank6_a_level    0\n",
      "dtype: int64\n",
      "rougher.output.recovery    0\n",
      "final.output.recovery      0\n",
      "dtype: int64\n",
      "primary_cleaner.input.sulfate                 0\n",
      "primary_cleaner.input.depressant              0\n",
      "primary_cleaner.input.feed_size               0\n",
      "primary_cleaner.input.xanthate                0\n",
      "primary_cleaner.state.floatbank8_a_air        0\n",
      "primary_cleaner.state.floatbank8_a_level      0\n",
      "primary_cleaner.state.floatbank8_b_air        0\n",
      "primary_cleaner.state.floatbank8_b_level      0\n",
      "primary_cleaner.state.floatbank8_c_air        0\n",
      "primary_cleaner.state.floatbank8_c_level      0\n",
      "primary_cleaner.state.floatbank8_d_air        0\n",
      "primary_cleaner.state.floatbank8_d_level      0\n",
      "rougher.input.feed_ag                         0\n",
      "rougher.input.feed_pb                         0\n",
      "rougher.input.feed_rate                       0\n",
      "rougher.input.feed_size                       0\n",
      "rougher.input.feed_sol                        0\n",
      "rougher.input.feed_au                         0\n",
      "rougher.input.floatbank10_sulfate             0\n",
      "rougher.input.floatbank10_xanthate            0\n",
      "rougher.input.floatbank11_sulfate             0\n",
      "rougher.input.floatbank11_xanthate            0\n",
      "rougher.state.floatbank10_a_air               0\n",
      "rougher.state.floatbank10_a_level             0\n",
      "rougher.state.floatbank10_b_air               0\n",
      "rougher.state.floatbank10_b_level             0\n",
      "rougher.state.floatbank10_c_air               0\n",
      "rougher.state.floatbank10_c_level             0\n",
      "rougher.state.floatbank10_d_air               0\n",
      "rougher.state.floatbank10_d_level             0\n",
      "rougher.state.floatbank10_e_air               0\n",
      "rougher.state.floatbank10_e_level             0\n",
      "rougher.state.floatbank10_f_air               0\n",
      "rougher.state.floatbank10_f_level             0\n",
      "secondary_cleaner.state.floatbank2_a_air      0\n",
      "secondary_cleaner.state.floatbank2_a_level    0\n",
      "secondary_cleaner.state.floatbank2_b_air      0\n",
      "secondary_cleaner.state.floatbank2_b_level    0\n",
      "secondary_cleaner.state.floatbank3_a_air      0\n",
      "secondary_cleaner.state.floatbank3_a_level    0\n",
      "secondary_cleaner.state.floatbank3_b_air      0\n",
      "secondary_cleaner.state.floatbank3_b_level    0\n",
      "secondary_cleaner.state.floatbank4_a_air      0\n",
      "secondary_cleaner.state.floatbank4_a_level    0\n",
      "secondary_cleaner.state.floatbank4_b_air      0\n",
      "secondary_cleaner.state.floatbank4_b_level    0\n",
      "secondary_cleaner.state.floatbank5_a_air      0\n",
      "secondary_cleaner.state.floatbank5_a_level    0\n",
      "secondary_cleaner.state.floatbank5_b_air      0\n",
      "secondary_cleaner.state.floatbank5_b_level    0\n",
      "secondary_cleaner.state.floatbank6_a_air      0\n",
      "secondary_cleaner.state.floatbank6_a_level    0\n",
      "dtype: int64\n",
      "rougher.output.recovery    0\n",
      "final.output.recovery      0\n",
      "dtype: int64\n"
     ]
    }
   ],
   "source": [
    "print(gX.isnull().sum())  # Check for NaN values in X\n",
    "print(gy.isnull().sum())  # Check for NaN values in y\n",
    "\n",
    "print(np.isinf(gX).sum())  # Check for infinity in X\n",
    "print(np.isinf(gy).sum())  # Check for infinity in y"
   ]
  },
  {
   "cell_type": "markdown",
   "metadata": {},
   "source": [
    "#Select best model"
   ]
  },
  {
   "cell_type": "code",
   "execution_count": 46,
   "metadata": {},
   "outputs": [
    {
     "name": "stdout",
     "output_type": "stream",
     "text": [
      "Full Training df Set Linear Regression sMAPE: 12.16%\n"
     ]
    }
   ],
   "source": [
    "from sklearn.model_selection import cross_val_predict\n",
    "\n",
    "# Linear Regression\n",
    "lr_model = LinearRegression()\n",
    "lr_model.fit(X, y)\n",
    "y_pred_lr = cross_val_predict(lr_model, X, y, cv=5)\n",
    "smape_lr = calculate_smape(y, y_pred_lr)\n",
    "print(f\"Full Training df Set Linear Regression sMAPE: {smape_lr:.2f}%\")"
   ]
  },
  {
   "cell_type": "markdown",
   "metadata": {},
   "source": [
    "#remove use of full data to be able to test the model later"
   ]
  },
  {
   "cell_type": "code",
   "execution_count": 47,
   "metadata": {},
   "outputs": [
    {
     "name": "stdout",
     "output_type": "stream",
     "text": [
      "Training Set Random Forest sMAPE: 11.49%\n"
     ]
    }
   ],
   "source": [
    "# Random Forest Regressor\n",
    "rf_model = RandomForestRegressor(n_estimators=200, random_state=42)\n",
    "rf_model.fit(X, y)\n",
    "y_pred_rf = cross_val_predict(rf_model, X, y, cv=5)\n",
    "smape_rf = calculate_smape(y, y_pred_rf)\n",
    "print(f\"Training Set Random Forest sMAPE: {smape_rf:.2f}%\")"
   ]
  },
  {
   "cell_type": "markdown",
   "metadata": {},
   "source": [
    "The random forest seems to be the better model based on the lower sMAPE value. A lower percentage indicates that the model's predictions are closer to the actual values, meaning it is performing well.This will be used to evaluate the test model "
   ]
  },
  {
   "cell_type": "markdown",
   "metadata": {},
   "source": [
    "Optimize parameters and run best model (Random Forest) on training set. "
   ]
  },
  {
   "cell_type": "code",
   "execution_count": 48,
   "metadata": {},
   "outputs": [
    {
     "name": "stdout",
     "output_type": "stream",
     "text": [
      "Best Random Forest Parameters for Traing df: {'max_depth': 10, 'n_estimators': 100}\n"
     ]
    }
   ],
   "source": [
    "#find best parameters for Random Forest \n",
    "param_grid = {\n",
    "    'n_estimators': [100, 200],\n",
    "    'max_depth': [None, 10, 20],\n",
    "}\n",
    "\n",
    "rf_grid_search = GridSearchCV(RandomForestRegressor(random_state=42), param_grid, cv=5)\n",
    "rf_grid_search.fit(X, y)\n",
    "\n",
    "best_rf_model = rf_grid_search.best_estimator_\n",
    "print(\"Best Random Forest Parameters for Traing df:\", rf_grid_search.best_params_)"
   ]
  },
  {
   "cell_type": "code",
   "execution_count": 49,
   "metadata": {},
   "outputs": [
    {
     "name": "stdout",
     "output_type": "stream",
     "text": [
      "Test Dataframe Random Forest sMAPE for rougher.output.recovery: 10.67%\n"
     ]
    }
   ],
   "source": [
    "# Random Forest Regressor\n",
    "rf_model = RandomForestRegressor(n_estimators=100, random_state=42, max_depth=10)\n",
    "rf_model.fit(X, y)\n",
    "y_pred_rf = cross_val_predict(rf_model, X, y, cv=5)\n",
    "smape_rf_rough = calculate_smape(y, y_pred_rf)\n",
    "print(f\"Test Dataframe Random Forest sMAPE for rougher.output.recovery: {smape_rf_rough:.2f}%\")"
   ]
  },
  {
   "cell_type": "code",
   "execution_count": 50,
   "metadata": {},
   "outputs": [],
   "source": [
    "#use optimized parameters to run on test set"
   ]
  },
  {
   "cell_type": "code",
   "execution_count": 51,
   "metadata": {},
   "outputs": [
    {
     "name": "stdout",
     "output_type": "stream",
     "text": [
      "Test Dataframe Random Forest sMAPE for final.output.recovery: 15.25%\n"
     ]
    }
   ],
   "source": [
    "from sklearn.model_selection import cross_val_predict\n",
    "\n",
    "# Random Forest Regressor\n",
    "y_pred_rf = cross_val_predict(rf_model, gX, gy, cv=5)\n",
    "smape_rf_final = calculate_smape(gy, y_pred_rf)\n",
    "print(f\"Test Dataframe Random Forest sMAPE for final.output.recovery: {smape_rf_final:.2f}%\")"
   ]
  },
  {
   "cell_type": "code",
   "execution_count": 52,
   "metadata": {},
   "outputs": [
    {
     "name": "stdout",
     "output_type": "stream",
     "text": [
      "Final sMAPE of Test Dataframe using Random Forest: 14.10%\n"
     ]
    }
   ],
   "source": [
    "#calculate final sMAPE\n",
    "complete_smape = final_smape(smape_rf_rough, smape_rf_final)\n",
    "print(f\"Final sMAPE of Test Dataframe using Random Forest: {complete_smape:.2f}%\")\n"
   ]
  },
  {
   "cell_type": "markdown",
   "metadata": {},
   "source": [
    "#### Conclusion of Recovery of Gold in Mining \n",
    "\n",
    "After importing three raw data files from a gold mining company work began to build a model to predict rougher concentrate (recovery rougher.output.recovery) and final concentrate recovery (final.output.recovery). Recovery was verified to be calculated correctly.  In the training set the MAE between calculations and the feature values was so miniscule (9.3e-15). Some features were noted to not be available in the test set (35 columns).  These column values were merge in from the full raw data file.  \n",
    "\n",
    "Some trends were noticed regarding elements throughout the gold purification process.  Golds highest concentration was at the end of the process; indicating a successful purification process.  Silver's highest concentration during the purification process is the product output from the second cleaning (primary_cleaner.output.tail_ag).  The presence of both lead and silver through the purification process was minority volumes. The average feed size is exactly the same according to the phase of gold purification between the two dataframes.  This is an indication that the machine learning model will be well trained since similiar data is present in both dataframes. \n",
    "\n",
    "Discovery was made that the best model to use was a Random Forest Regressor.  In testing the training model this achieved the low sMAPE value of 10.67%. The variables were then redefined to match the test set dataframe.  The optimization random forest regressor for 'roughter.output.recovery' and 'final.output.recovery' resulted in a sMAPE value of 15.24%. Both of these values were used to calculate the final sMAPE value of 0.141%. This model proficiently predicts gold recovery, helping to optimize production and eliminate unprofitable parameters. This effort paves the way for improved operational efficiency."
   ]
  }
 ],
 "metadata": {
  "ExecuteTimeLog": [
   {
    "duration": 3,
    "start_time": "2024-12-28T00:43:11.521Z"
   },
   {
    "duration": 2677,
    "start_time": "2024-12-28T00:47:54.390Z"
   },
   {
    "duration": 977,
    "start_time": "2024-12-28T01:14:54.535Z"
   },
   {
    "duration": 526,
    "start_time": "2024-12-28T01:14:55.514Z"
   },
   {
    "duration": 0,
    "start_time": "2024-12-28T01:14:56.042Z"
   },
   {
    "duration": 0,
    "start_time": "2024-12-28T01:14:56.043Z"
   },
   {
    "duration": 60,
    "start_time": "2024-12-28T01:18:33.148Z"
   },
   {
    "duration": 418,
    "start_time": "2024-12-28T01:19:34.170Z"
   },
   {
    "duration": 566,
    "start_time": "2024-12-28T01:20:32.445Z"
   },
   {
    "duration": 14,
    "start_time": "2024-12-28T01:20:33.917Z"
   },
   {
    "duration": 3,
    "start_time": "2024-12-28T01:20:43.374Z"
   },
   {
    "duration": 57,
    "start_time": "2024-12-28T01:20:44.082Z"
   },
   {
    "duration": 16,
    "start_time": "2024-12-28T01:24:43.016Z"
   },
   {
    "duration": 33,
    "start_time": "2024-12-28T01:25:03.488Z"
   },
   {
    "duration": 42,
    "start_time": "2024-12-28T01:43:33.901Z"
   },
   {
    "duration": 22,
    "start_time": "2024-12-28T02:05:27.515Z"
   },
   {
    "duration": 17,
    "start_time": "2024-12-28T02:05:56.721Z"
   },
   {
    "duration": 18,
    "start_time": "2024-12-28T02:07:49.879Z"
   },
   {
    "duration": 457,
    "start_time": "2024-12-28T02:08:46.794Z"
   },
   {
    "duration": 7,
    "start_time": "2024-12-28T02:10:33.587Z"
   },
   {
    "duration": 22,
    "start_time": "2024-12-28T02:10:39.677Z"
   },
   {
    "duration": 10,
    "start_time": "2024-12-28T02:11:07.525Z"
   },
   {
    "duration": 10,
    "start_time": "2024-12-28T02:25:03.331Z"
   },
   {
    "duration": 7,
    "start_time": "2024-12-28T02:39:51.225Z"
   },
   {
    "duration": 8,
    "start_time": "2024-12-28T02:42:05.371Z"
   },
   {
    "duration": 10,
    "start_time": "2024-12-28T02:43:18.024Z"
   },
   {
    "duration": 4,
    "start_time": "2024-12-28T02:43:23.378Z"
   },
   {
    "duration": 5,
    "start_time": "2024-12-28T02:55:25.294Z"
   },
   {
    "duration": 4,
    "start_time": "2024-12-28T02:55:37.102Z"
   },
   {
    "duration": 3,
    "start_time": "2024-12-28T02:55:48.573Z"
   },
   {
    "duration": 14,
    "start_time": "2024-12-28T02:55:49.580Z"
   },
   {
    "duration": 961,
    "start_time": "2024-12-28T02:56:02.793Z"
   },
   {
    "duration": 505,
    "start_time": "2024-12-28T02:56:03.756Z"
   },
   {
    "duration": 3,
    "start_time": "2024-12-28T02:56:04.262Z"
   },
   {
    "duration": 48,
    "start_time": "2024-12-28T02:56:04.268Z"
   },
   {
    "duration": 16,
    "start_time": "2024-12-28T02:56:04.318Z"
   },
   {
    "duration": 13,
    "start_time": "2024-12-28T02:56:04.335Z"
   },
   {
    "duration": 14,
    "start_time": "2024-12-28T02:56:04.350Z"
   },
   {
    "duration": 14,
    "start_time": "2024-12-28T02:56:04.365Z"
   },
   {
    "duration": 30,
    "start_time": "2024-12-28T02:56:04.380Z"
   },
   {
    "duration": 3,
    "start_time": "2024-12-28T02:56:04.413Z"
   },
   {
    "duration": 237,
    "start_time": "2024-12-28T02:56:04.418Z"
   },
   {
    "duration": 0,
    "start_time": "2024-12-28T02:56:04.656Z"
   },
   {
    "duration": 28,
    "start_time": "2024-12-28T02:56:15.900Z"
   },
   {
    "duration": 15,
    "start_time": "2024-12-28T02:59:43.648Z"
   },
   {
    "duration": 14,
    "start_time": "2024-12-28T03:00:57.122Z"
   },
   {
    "duration": 939,
    "start_time": "2024-12-28T03:05:42.087Z"
   },
   {
    "duration": 503,
    "start_time": "2024-12-28T03:05:43.028Z"
   },
   {
    "duration": 3,
    "start_time": "2024-12-28T03:05:43.535Z"
   },
   {
    "duration": 39,
    "start_time": "2024-12-28T03:05:43.541Z"
   },
   {
    "duration": 29,
    "start_time": "2024-12-28T03:05:43.583Z"
   },
   {
    "duration": 14,
    "start_time": "2024-12-28T03:05:43.614Z"
   },
   {
    "duration": 16,
    "start_time": "2024-12-28T03:05:43.630Z"
   },
   {
    "duration": 15,
    "start_time": "2024-12-28T03:05:43.648Z"
   },
   {
    "duration": 4,
    "start_time": "2024-12-28T03:05:43.664Z"
   },
   {
    "duration": 38,
    "start_time": "2024-12-28T03:05:43.671Z"
   },
   {
    "duration": 3,
    "start_time": "2024-12-28T03:05:43.710Z"
   },
   {
    "duration": 249,
    "start_time": "2024-12-28T03:05:43.714Z"
   },
   {
    "duration": 0,
    "start_time": "2024-12-28T03:05:43.965Z"
   },
   {
    "duration": 3,
    "start_time": "2024-12-28T03:06:13.951Z"
   },
   {
    "duration": 4,
    "start_time": "2024-12-28T03:07:29.857Z"
   },
   {
    "duration": 4,
    "start_time": "2024-12-28T03:07:50.766Z"
   },
   {
    "duration": 16,
    "start_time": "2024-12-28T03:23:43.870Z"
   },
   {
    "duration": 22,
    "start_time": "2024-12-28T03:23:58.337Z"
   },
   {
    "duration": 938,
    "start_time": "2024-12-28T03:24:39.286Z"
   },
   {
    "duration": 531,
    "start_time": "2024-12-28T03:24:40.227Z"
   },
   {
    "duration": 2,
    "start_time": "2024-12-28T03:24:40.760Z"
   },
   {
    "duration": 44,
    "start_time": "2024-12-28T03:24:40.765Z"
   },
   {
    "duration": 17,
    "start_time": "2024-12-28T03:24:40.812Z"
   },
   {
    "duration": 13,
    "start_time": "2024-12-28T03:24:40.830Z"
   },
   {
    "duration": 15,
    "start_time": "2024-12-28T03:24:40.845Z"
   },
   {
    "duration": 14,
    "start_time": "2024-12-28T03:24:40.861Z"
   },
   {
    "duration": 35,
    "start_time": "2024-12-28T03:24:40.876Z"
   },
   {
    "duration": 3,
    "start_time": "2024-12-28T03:24:40.912Z"
   },
   {
    "duration": 3,
    "start_time": "2024-12-28T03:24:40.917Z"
   },
   {
    "duration": 3,
    "start_time": "2024-12-28T03:24:40.922Z"
   },
   {
    "duration": 253,
    "start_time": "2024-12-28T03:24:40.926Z"
   },
   {
    "duration": 0,
    "start_time": "2024-12-28T03:24:41.181Z"
   },
   {
    "duration": 4,
    "start_time": "2024-12-28T03:26:12.767Z"
   },
   {
    "duration": 3,
    "start_time": "2024-12-28T03:26:13.987Z"
   },
   {
    "duration": 3,
    "start_time": "2024-12-28T03:26:14.603Z"
   },
   {
    "duration": 3,
    "start_time": "2024-12-28T03:26:15.214Z"
   },
   {
    "duration": 20,
    "start_time": "2024-12-28T03:26:16.090Z"
   },
   {
    "duration": 20,
    "start_time": "2024-12-28T03:26:31.854Z"
   },
   {
    "duration": 3,
    "start_time": "2024-12-28T03:30:10.663Z"
   },
   {
    "duration": 3,
    "start_time": "2024-12-28T03:30:11.341Z"
   },
   {
    "duration": 3,
    "start_time": "2024-12-28T03:30:11.944Z"
   },
   {
    "duration": 19,
    "start_time": "2024-12-28T03:30:12.685Z"
   },
   {
    "duration": 21,
    "start_time": "2024-12-28T03:32:17.964Z"
   },
   {
    "duration": 3,
    "start_time": "2024-12-28T03:35:28.523Z"
   },
   {
    "duration": 3,
    "start_time": "2024-12-28T03:35:29.558Z"
   },
   {
    "duration": 4,
    "start_time": "2024-12-28T03:35:30.772Z"
   },
   {
    "duration": 19,
    "start_time": "2024-12-28T03:35:31.366Z"
   },
   {
    "duration": 5,
    "start_time": "2024-12-28T03:45:41.914Z"
   },
   {
    "duration": 129,
    "start_time": "2024-12-28T03:46:52.751Z"
   },
   {
    "duration": 6,
    "start_time": "2024-12-28T03:47:46.730Z"
   },
   {
    "duration": 9,
    "start_time": "2024-12-28T03:48:53.527Z"
   },
   {
    "duration": 12,
    "start_time": "2024-12-28T03:49:08.143Z"
   },
   {
    "duration": 5,
    "start_time": "2024-12-28T03:54:17.417Z"
   },
   {
    "duration": 4,
    "start_time": "2024-12-28T03:54:30.701Z"
   },
   {
    "duration": 4,
    "start_time": "2024-12-28T04:06:18.842Z"
   },
   {
    "duration": 5,
    "start_time": "2024-12-28T04:08:18.934Z"
   },
   {
    "duration": 15,
    "start_time": "2024-12-28T04:08:32.837Z"
   },
   {
    "duration": 28,
    "start_time": "2024-12-28T04:09:24.772Z"
   },
   {
    "duration": 97,
    "start_time": "2024-12-28T04:11:31.703Z"
   },
   {
    "duration": 17,
    "start_time": "2024-12-28T04:11:37.723Z"
   },
   {
    "duration": 15,
    "start_time": "2024-12-28T04:12:26.576Z"
   },
   {
    "duration": 973,
    "start_time": "2024-12-28T04:18:18.198Z"
   },
   {
    "duration": 515,
    "start_time": "2024-12-28T04:18:19.174Z"
   },
   {
    "duration": 2,
    "start_time": "2024-12-28T04:18:19.691Z"
   },
   {
    "duration": 47,
    "start_time": "2024-12-28T04:18:19.695Z"
   },
   {
    "duration": 19,
    "start_time": "2024-12-28T04:18:19.746Z"
   },
   {
    "duration": 17,
    "start_time": "2024-12-28T04:18:19.767Z"
   },
   {
    "duration": 39,
    "start_time": "2024-12-28T04:18:19.785Z"
   },
   {
    "duration": 17,
    "start_time": "2024-12-28T04:18:19.826Z"
   },
   {
    "duration": 4,
    "start_time": "2024-12-28T04:18:19.844Z"
   },
   {
    "duration": 3,
    "start_time": "2024-12-28T04:18:19.850Z"
   },
   {
    "duration": 5,
    "start_time": "2024-12-28T04:18:19.854Z"
   },
   {
    "duration": 3,
    "start_time": "2024-12-28T04:18:19.861Z"
   },
   {
    "duration": 45,
    "start_time": "2024-12-28T04:18:19.866Z"
   },
   {
    "duration": 3,
    "start_time": "2024-12-28T04:18:19.914Z"
   },
   {
    "duration": 0,
    "start_time": "2024-12-28T04:18:19.919Z"
   },
   {
    "duration": 0,
    "start_time": "2024-12-28T04:18:19.920Z"
   },
   {
    "duration": 5,
    "start_time": "2024-12-28T04:18:37.072Z"
   },
   {
    "duration": 29,
    "start_time": "2024-12-28T04:18:37.854Z"
   },
   {
    "duration": 12,
    "start_time": "2024-12-28T04:22:33.769Z"
   },
   {
    "duration": 4,
    "start_time": "2024-12-28T04:37:10.887Z"
   },
   {
    "duration": 647,
    "start_time": "2024-12-28T04:41:17.282Z"
   },
   {
    "duration": 45,
    "start_time": "2024-12-28T04:41:55.335Z"
   },
   {
    "duration": 7,
    "start_time": "2024-12-28T04:43:55.442Z"
   },
   {
    "duration": 33,
    "start_time": "2024-12-28T04:44:16.883Z"
   },
   {
    "duration": 33,
    "start_time": "2024-12-28T04:44:40.517Z"
   },
   {
    "duration": 14,
    "start_time": "2024-12-28T04:54:03.044Z"
   },
   {
    "duration": 369,
    "start_time": "2024-12-28T04:55:53.696Z"
   },
   {
    "duration": 4,
    "start_time": "2024-12-28T05:02:26.584Z"
   },
   {
    "duration": 4,
    "start_time": "2024-12-28T05:06:00.620Z"
   },
   {
    "duration": 39,
    "start_time": "2024-12-28T05:06:21.035Z"
   },
   {
    "duration": 10,
    "start_time": "2024-12-28T05:08:18.626Z"
   },
   {
    "duration": 13,
    "start_time": "2024-12-28T05:08:30.502Z"
   },
   {
    "duration": 13,
    "start_time": "2024-12-28T05:18:14.374Z"
   },
   {
    "duration": 9,
    "start_time": "2024-12-28T05:18:47.325Z"
   },
   {
    "duration": 131,
    "start_time": "2024-12-28T05:24:00.822Z"
   },
   {
    "duration": 132,
    "start_time": "2024-12-28T05:32:25.686Z"
   },
   {
    "duration": 117,
    "start_time": "2024-12-28T05:35:47.638Z"
   },
   {
    "duration": 719,
    "start_time": "2024-12-28T05:39:00.407Z"
   },
   {
    "duration": 147,
    "start_time": "2024-12-28T05:39:13.056Z"
   },
   {
    "duration": 130,
    "start_time": "2024-12-28T05:41:01.281Z"
   },
   {
    "duration": 139,
    "start_time": "2024-12-28T05:41:49.004Z"
   },
   {
    "duration": 134,
    "start_time": "2024-12-28T05:42:29.965Z"
   },
   {
    "duration": 9,
    "start_time": "2024-12-28T05:44:31.602Z"
   },
   {
    "duration": 9,
    "start_time": "2024-12-28T05:44:44.641Z"
   },
   {
    "duration": 135,
    "start_time": "2024-12-28T05:45:31.005Z"
   },
   {
    "duration": 139,
    "start_time": "2024-12-28T05:45:45.097Z"
   },
   {
    "duration": 24,
    "start_time": "2024-12-28T05:46:07.716Z"
   },
   {
    "duration": 26,
    "start_time": "2024-12-28T05:46:17.216Z"
   },
   {
    "duration": 141,
    "start_time": "2024-12-28T05:48:18.454Z"
   },
   {
    "duration": 141,
    "start_time": "2024-12-28T05:51:19.531Z"
   },
   {
    "duration": 4,
    "start_time": "2024-12-28T05:52:18.120Z"
   },
   {
    "duration": 149,
    "start_time": "2024-12-28T05:53:16.905Z"
   },
   {
    "duration": 166,
    "start_time": "2024-12-28T05:54:31.873Z"
   },
   {
    "duration": 967,
    "start_time": "2024-12-28T05:55:08.736Z"
   },
   {
    "duration": 515,
    "start_time": "2024-12-28T05:55:09.706Z"
   },
   {
    "duration": 3,
    "start_time": "2024-12-28T05:55:10.222Z"
   },
   {
    "duration": 40,
    "start_time": "2024-12-28T05:55:10.228Z"
   },
   {
    "duration": 16,
    "start_time": "2024-12-28T05:55:10.269Z"
   },
   {
    "duration": 31,
    "start_time": "2024-12-28T05:55:10.287Z"
   },
   {
    "duration": 13,
    "start_time": "2024-12-28T05:55:10.321Z"
   },
   {
    "duration": 13,
    "start_time": "2024-12-28T05:55:10.335Z"
   },
   {
    "duration": 4,
    "start_time": "2024-12-28T05:55:10.350Z"
   },
   {
    "duration": 3,
    "start_time": "2024-12-28T05:55:10.357Z"
   },
   {
    "duration": 4,
    "start_time": "2024-12-28T05:55:10.362Z"
   },
   {
    "duration": 2,
    "start_time": "2024-12-28T05:55:10.368Z"
   },
   {
    "duration": 52,
    "start_time": "2024-12-28T05:55:10.372Z"
   },
   {
    "duration": 32,
    "start_time": "2024-12-28T05:55:10.425Z"
   },
   {
    "duration": 25,
    "start_time": "2024-12-28T05:55:10.459Z"
   },
   {
    "duration": 50,
    "start_time": "2024-12-28T05:55:10.486Z"
   },
   {
    "duration": 11,
    "start_time": "2024-12-28T05:55:10.538Z"
   },
   {
    "duration": 240,
    "start_time": "2024-12-28T05:55:10.551Z"
   },
   {
    "duration": 0,
    "start_time": "2024-12-28T05:55:10.793Z"
   },
   {
    "duration": 0,
    "start_time": "2024-12-28T05:55:10.794Z"
   },
   {
    "duration": 0,
    "start_time": "2024-12-28T05:55:10.795Z"
   },
   {
    "duration": 952,
    "start_time": "2024-12-28T05:55:39.084Z"
   },
   {
    "duration": 510,
    "start_time": "2024-12-28T05:55:40.039Z"
   },
   {
    "duration": 3,
    "start_time": "2024-12-28T05:55:40.551Z"
   },
   {
    "duration": 52,
    "start_time": "2024-12-28T05:55:40.557Z"
   },
   {
    "duration": 17,
    "start_time": "2024-12-28T05:55:40.610Z"
   },
   {
    "duration": 14,
    "start_time": "2024-12-28T05:55:40.629Z"
   },
   {
    "duration": 13,
    "start_time": "2024-12-28T05:55:40.644Z"
   },
   {
    "duration": 13,
    "start_time": "2024-12-28T05:55:40.659Z"
   },
   {
    "duration": 3,
    "start_time": "2024-12-28T05:55:40.674Z"
   },
   {
    "duration": 2,
    "start_time": "2024-12-28T05:55:40.711Z"
   },
   {
    "duration": 4,
    "start_time": "2024-12-28T05:55:40.715Z"
   },
   {
    "duration": 3,
    "start_time": "2024-12-28T05:55:40.721Z"
   },
   {
    "duration": 18,
    "start_time": "2024-12-28T05:55:40.725Z"
   },
   {
    "duration": 32,
    "start_time": "2024-12-28T05:55:40.744Z"
   },
   {
    "duration": 54,
    "start_time": "2024-12-28T05:55:40.777Z"
   },
   {
    "duration": 32,
    "start_time": "2024-12-28T05:55:40.833Z"
   },
   {
    "duration": 11,
    "start_time": "2024-12-28T05:55:40.868Z"
   },
   {
    "duration": 250,
    "start_time": "2024-12-28T05:55:40.881Z"
   },
   {
    "duration": 0,
    "start_time": "2024-12-28T05:55:41.133Z"
   },
   {
    "duration": 0,
    "start_time": "2024-12-28T05:55:41.134Z"
   },
   {
    "duration": 0,
    "start_time": "2024-12-28T05:55:41.135Z"
   },
   {
    "duration": 17,
    "start_time": "2024-12-28T05:56:02.868Z"
   },
   {
    "duration": 148,
    "start_time": "2024-12-28T05:56:39.144Z"
   },
   {
    "duration": 137,
    "start_time": "2024-12-28T05:56:48.089Z"
   },
   {
    "duration": 125,
    "start_time": "2024-12-28T05:56:54.142Z"
   },
   {
    "duration": 2773,
    "start_time": "2024-12-28T14:38:56.561Z"
   },
   {
    "duration": 600,
    "start_time": "2024-12-28T14:38:59.337Z"
   },
   {
    "duration": 3,
    "start_time": "2024-12-28T14:38:59.938Z"
   },
   {
    "duration": 41,
    "start_time": "2024-12-28T14:38:59.943Z"
   },
   {
    "duration": 16,
    "start_time": "2024-12-28T14:38:59.986Z"
   },
   {
    "duration": 36,
    "start_time": "2024-12-28T14:39:00.004Z"
   },
   {
    "duration": 14,
    "start_time": "2024-12-28T14:39:00.041Z"
   },
   {
    "duration": 14,
    "start_time": "2024-12-28T14:39:00.057Z"
   },
   {
    "duration": 5,
    "start_time": "2024-12-28T14:39:00.073Z"
   },
   {
    "duration": 3,
    "start_time": "2024-12-28T14:39:00.079Z"
   },
   {
    "duration": 3,
    "start_time": "2024-12-28T14:39:00.085Z"
   },
   {
    "duration": 3,
    "start_time": "2024-12-28T14:39:00.090Z"
   },
   {
    "duration": 54,
    "start_time": "2024-12-28T14:39:00.094Z"
   },
   {
    "duration": 33,
    "start_time": "2024-12-28T14:39:00.152Z"
   },
   {
    "duration": 45,
    "start_time": "2024-12-28T14:39:00.186Z"
   },
   {
    "duration": 33,
    "start_time": "2024-12-28T14:39:00.233Z"
   },
   {
    "duration": 14,
    "start_time": "2024-12-28T14:39:00.267Z"
   },
   {
    "duration": 240,
    "start_time": "2024-12-28T14:39:00.283Z"
   },
   {
    "duration": 150,
    "start_time": "2024-12-28T14:39:00.525Z"
   },
   {
    "duration": 140,
    "start_time": "2024-12-28T14:39:00.677Z"
   },
   {
    "duration": 2,
    "start_time": "2024-12-28T14:39:00.819Z"
   },
   {
    "duration": 4,
    "start_time": "2024-12-28T14:40:18.358Z"
   },
   {
    "duration": 3,
    "start_time": "2024-12-28T14:40:58.506Z"
   },
   {
    "duration": 7,
    "start_time": "2024-12-28T14:52:09.066Z"
   },
   {
    "duration": 4,
    "start_time": "2024-12-28T14:52:21.897Z"
   },
   {
    "duration": 5,
    "start_time": "2024-12-28T14:53:25.358Z"
   },
   {
    "duration": 7,
    "start_time": "2024-12-28T14:53:31.685Z"
   },
   {
    "duration": 249,
    "start_time": "2024-12-28T15:03:27.535Z"
   },
   {
    "duration": 15,
    "start_time": "2024-12-28T15:03:38.262Z"
   },
   {
    "duration": 17,
    "start_time": "2024-12-28T15:03:50.594Z"
   },
   {
    "duration": 21,
    "start_time": "2024-12-28T15:06:23.659Z"
   },
   {
    "duration": 12,
    "start_time": "2024-12-28T15:06:31.040Z"
   },
   {
    "duration": 11,
    "start_time": "2024-12-28T15:07:09.109Z"
   },
   {
    "duration": 17,
    "start_time": "2024-12-28T15:08:04.324Z"
   },
   {
    "duration": 6,
    "start_time": "2024-12-28T15:08:29.757Z"
   },
   {
    "duration": 10,
    "start_time": "2024-12-28T15:08:50.647Z"
   },
   {
    "duration": 9,
    "start_time": "2024-12-30T19:24:14.968Z"
   },
   {
    "duration": 154,
    "start_time": "2024-12-30T19:24:38.673Z"
   },
   {
    "duration": 2575,
    "start_time": "2024-12-30T19:24:48.063Z"
   },
   {
    "duration": 621,
    "start_time": "2024-12-30T19:24:50.640Z"
   },
   {
    "duration": 2,
    "start_time": "2024-12-30T19:24:51.265Z"
   },
   {
    "duration": 44,
    "start_time": "2024-12-30T19:24:51.269Z"
   },
   {
    "duration": 18,
    "start_time": "2024-12-30T19:24:51.315Z"
   },
   {
    "duration": 14,
    "start_time": "2024-12-30T19:24:51.335Z"
   },
   {
    "duration": 13,
    "start_time": "2024-12-30T19:24:51.351Z"
   },
   {
    "duration": 32,
    "start_time": "2024-12-30T19:24:51.366Z"
   },
   {
    "duration": 3,
    "start_time": "2024-12-30T19:24:51.400Z"
   },
   {
    "duration": 3,
    "start_time": "2024-12-30T19:24:51.406Z"
   },
   {
    "duration": 4,
    "start_time": "2024-12-30T19:24:51.410Z"
   },
   {
    "duration": 3,
    "start_time": "2024-12-30T19:24:51.416Z"
   },
   {
    "duration": 17,
    "start_time": "2024-12-30T19:24:51.420Z"
   },
   {
    "duration": 69,
    "start_time": "2024-12-30T19:24:51.439Z"
   },
   {
    "duration": 25,
    "start_time": "2024-12-30T19:24:51.510Z"
   },
   {
    "duration": 33,
    "start_time": "2024-12-30T19:24:51.537Z"
   },
   {
    "duration": 11,
    "start_time": "2024-12-30T19:24:51.587Z"
   },
   {
    "duration": 162,
    "start_time": "2024-12-30T19:24:51.601Z"
   },
   {
    "duration": 197,
    "start_time": "2024-12-30T19:24:51.764Z"
   },
   {
    "duration": 133,
    "start_time": "2024-12-30T19:24:51.963Z"
   },
   {
    "duration": 4,
    "start_time": "2024-12-30T19:24:52.098Z"
   },
   {
    "duration": 11,
    "start_time": "2024-12-30T19:24:52.104Z"
   },
   {
    "duration": 584,
    "start_time": "2024-12-30T19:26:32.742Z"
   },
   {
    "duration": 13,
    "start_time": "2024-12-30T19:26:47.866Z"
   },
   {
    "duration": 11,
    "start_time": "2024-12-30T19:28:58.267Z"
   },
   {
    "duration": 8,
    "start_time": "2024-12-30T19:29:09.394Z"
   },
   {
    "duration": 11,
    "start_time": "2024-12-30T19:29:28.590Z"
   },
   {
    "duration": 3,
    "start_time": "2024-12-30T19:31:33.569Z"
   },
   {
    "duration": 7,
    "start_time": "2024-12-30T19:31:56.138Z"
   },
   {
    "duration": 6,
    "start_time": "2024-12-30T19:32:08.421Z"
   },
   {
    "duration": 7,
    "start_time": "2024-12-30T19:38:45.774Z"
   },
   {
    "duration": 128,
    "start_time": "2024-12-30T19:40:08.319Z"
   },
   {
    "duration": 968,
    "start_time": "2024-12-30T19:43:09.916Z"
   },
   {
    "duration": 477,
    "start_time": "2024-12-30T19:43:10.886Z"
   },
   {
    "duration": 3,
    "start_time": "2024-12-30T19:43:11.364Z"
   },
   {
    "duration": 48,
    "start_time": "2024-12-30T19:43:11.369Z"
   },
   {
    "duration": 16,
    "start_time": "2024-12-30T19:43:11.420Z"
   },
   {
    "duration": 13,
    "start_time": "2024-12-30T19:43:11.438Z"
   },
   {
    "duration": 36,
    "start_time": "2024-12-30T19:43:11.452Z"
   },
   {
    "duration": 14,
    "start_time": "2024-12-30T19:43:11.489Z"
   },
   {
    "duration": 4,
    "start_time": "2024-12-30T19:43:11.505Z"
   },
   {
    "duration": 4,
    "start_time": "2024-12-30T19:43:11.510Z"
   },
   {
    "duration": 3,
    "start_time": "2024-12-30T19:43:11.515Z"
   },
   {
    "duration": 3,
    "start_time": "2024-12-30T19:43:11.520Z"
   },
   {
    "duration": 16,
    "start_time": "2024-12-30T19:43:11.526Z"
   },
   {
    "duration": 70,
    "start_time": "2024-12-30T19:43:11.545Z"
   },
   {
    "duration": 26,
    "start_time": "2024-12-30T19:43:11.616Z"
   },
   {
    "duration": 46,
    "start_time": "2024-12-30T19:43:11.644Z"
   },
   {
    "duration": 11,
    "start_time": "2024-12-30T19:43:11.692Z"
   },
   {
    "duration": 172,
    "start_time": "2024-12-30T19:43:11.704Z"
   },
   {
    "duration": 151,
    "start_time": "2024-12-30T19:43:11.877Z"
   },
   {
    "duration": 139,
    "start_time": "2024-12-30T19:43:12.030Z"
   },
   {
    "duration": 4,
    "start_time": "2024-12-30T19:43:12.170Z"
   },
   {
    "duration": 13,
    "start_time": "2024-12-30T19:43:12.176Z"
   },
   {
    "duration": 7,
    "start_time": "2024-12-30T19:43:12.190Z"
   },
   {
    "duration": 160668,
    "start_time": "2024-12-30T19:43:12.198Z"
   },
   {
    "duration": 137,
    "start_time": "2024-12-30T19:47:59.813Z"
   },
   {
    "duration": 290,
    "start_time": "2024-12-30T19:48:46.058Z"
   },
   {
    "duration": 110,
    "start_time": "2024-12-30T19:49:08.140Z"
   },
   {
    "duration": 165797,
    "start_time": "2024-12-30T19:49:16.557Z"
   },
   {
    "duration": 7,
    "start_time": "2024-12-30T20:21:50.169Z"
   },
   {
    "duration": 109,
    "start_time": "2024-12-30T20:22:16.068Z"
   },
   {
    "duration": 7,
    "start_time": "2024-12-30T20:31:33.949Z"
   },
   {
    "duration": 2599,
    "start_time": "2024-12-31T03:53:53.773Z"
   },
   {
    "duration": 600,
    "start_time": "2024-12-31T03:53:56.375Z"
   },
   {
    "duration": 2,
    "start_time": "2024-12-31T03:53:56.977Z"
   },
   {
    "duration": 49,
    "start_time": "2024-12-31T03:53:56.982Z"
   },
   {
    "duration": 16,
    "start_time": "2024-12-31T03:53:57.033Z"
   },
   {
    "duration": 14,
    "start_time": "2024-12-31T03:53:57.051Z"
   },
   {
    "duration": 14,
    "start_time": "2024-12-31T03:53:57.066Z"
   },
   {
    "duration": 33,
    "start_time": "2024-12-31T03:53:57.081Z"
   },
   {
    "duration": 4,
    "start_time": "2024-12-31T03:53:57.116Z"
   },
   {
    "duration": 3,
    "start_time": "2024-12-31T03:53:57.122Z"
   },
   {
    "duration": 4,
    "start_time": "2024-12-31T03:53:57.127Z"
   },
   {
    "duration": 3,
    "start_time": "2024-12-31T03:53:57.132Z"
   },
   {
    "duration": 17,
    "start_time": "2024-12-31T03:53:57.136Z"
   },
   {
    "duration": 71,
    "start_time": "2024-12-31T03:53:57.154Z"
   },
   {
    "duration": 26,
    "start_time": "2024-12-31T03:53:57.227Z"
   },
   {
    "duration": 104,
    "start_time": "2024-12-31T03:53:57.255Z"
   },
   {
    "duration": 15,
    "start_time": "2024-12-31T03:53:57.360Z"
   },
   {
    "duration": 173,
    "start_time": "2024-12-31T03:53:57.377Z"
   },
   {
    "duration": 153,
    "start_time": "2024-12-31T03:53:57.552Z"
   },
   {
    "duration": 145,
    "start_time": "2024-12-31T03:53:57.712Z"
   },
   {
    "duration": 3,
    "start_time": "2024-12-31T03:53:57.859Z"
   },
   {
    "duration": 5,
    "start_time": "2024-12-31T03:53:57.864Z"
   },
   {
    "duration": 7,
    "start_time": "2024-12-31T03:53:57.870Z"
   },
   {
    "duration": 131,
    "start_time": "2024-12-31T03:53:57.879Z"
   },
   {
    "duration": 6,
    "start_time": "2024-12-31T03:53:58.012Z"
   },
   {
    "duration": 701,
    "start_time": "2024-12-31T04:15:40.321Z"
   },
   {
    "duration": 64,
    "start_time": "2024-12-31T04:16:07.090Z"
   },
   {
    "duration": 54,
    "start_time": "2024-12-31T04:17:32.283Z"
   },
   {
    "duration": 14,
    "start_time": "2024-12-31T04:19:10.931Z"
   },
   {
    "duration": 3,
    "start_time": "2024-12-31T04:33:32.102Z"
   },
   {
    "duration": 4,
    "start_time": "2024-12-31T04:35:34.505Z"
   },
   {
    "duration": 3,
    "start_time": "2024-12-31T04:35:35.064Z"
   },
   {
    "duration": 17,
    "start_time": "2024-12-31T04:35:35.690Z"
   },
   {
    "duration": 1315,
    "start_time": "2024-12-31T04:35:54.274Z"
   },
   {
    "duration": 0,
    "start_time": "2024-12-31T04:35:55.593Z"
   },
   {
    "duration": 0,
    "start_time": "2024-12-31T04:35:55.594Z"
   },
   {
    "duration": 0,
    "start_time": "2024-12-31T04:35:55.595Z"
   },
   {
    "duration": 0,
    "start_time": "2024-12-31T04:35:55.596Z"
   },
   {
    "duration": 0,
    "start_time": "2024-12-31T04:35:55.598Z"
   },
   {
    "duration": 0,
    "start_time": "2024-12-31T04:35:55.598Z"
   },
   {
    "duration": 0,
    "start_time": "2024-12-31T04:35:55.599Z"
   },
   {
    "duration": 0,
    "start_time": "2024-12-31T04:35:55.599Z"
   },
   {
    "duration": 0,
    "start_time": "2024-12-31T04:35:55.609Z"
   },
   {
    "duration": 0,
    "start_time": "2024-12-31T04:35:55.610Z"
   },
   {
    "duration": 0,
    "start_time": "2024-12-31T04:35:55.612Z"
   },
   {
    "duration": 0,
    "start_time": "2024-12-31T04:35:55.613Z"
   },
   {
    "duration": 0,
    "start_time": "2024-12-31T04:35:55.614Z"
   },
   {
    "duration": 0,
    "start_time": "2024-12-31T04:35:55.615Z"
   },
   {
    "duration": 0,
    "start_time": "2024-12-31T04:35:55.616Z"
   },
   {
    "duration": 0,
    "start_time": "2024-12-31T04:35:55.617Z"
   },
   {
    "duration": 0,
    "start_time": "2024-12-31T04:35:55.618Z"
   },
   {
    "duration": 0,
    "start_time": "2024-12-31T04:35:55.620Z"
   },
   {
    "duration": 0,
    "start_time": "2024-12-31T04:35:55.621Z"
   },
   {
    "duration": 0,
    "start_time": "2024-12-31T04:35:55.622Z"
   },
   {
    "duration": 0,
    "start_time": "2024-12-31T04:35:55.623Z"
   },
   {
    "duration": 0,
    "start_time": "2024-12-31T04:35:55.624Z"
   },
   {
    "duration": 0,
    "start_time": "2024-12-31T04:35:55.625Z"
   },
   {
    "duration": 0,
    "start_time": "2024-12-31T04:35:55.626Z"
   },
   {
    "duration": 0,
    "start_time": "2024-12-31T04:35:55.627Z"
   },
   {
    "duration": 0,
    "start_time": "2024-12-31T04:35:55.628Z"
   },
   {
    "duration": 0,
    "start_time": "2024-12-31T04:35:55.629Z"
   },
   {
    "duration": 17,
    "start_time": "2024-12-31T04:57:54.639Z"
   },
   {
    "duration": 3,
    "start_time": "2024-12-31T05:00:38.221Z"
   },
   {
    "duration": 582,
    "start_time": "2024-12-31T05:00:38.227Z"
   },
   {
    "duration": 3,
    "start_time": "2024-12-31T05:00:38.811Z"
   },
   {
    "duration": 42,
    "start_time": "2024-12-31T05:00:38.817Z"
   },
   {
    "duration": 19,
    "start_time": "2024-12-31T05:00:38.862Z"
   },
   {
    "duration": 39,
    "start_time": "2024-12-31T05:00:38.883Z"
   },
   {
    "duration": 16,
    "start_time": "2024-12-31T05:00:38.924Z"
   },
   {
    "duration": 26,
    "start_time": "2024-12-31T05:00:38.942Z"
   },
   {
    "duration": 5,
    "start_time": "2024-12-31T05:00:38.971Z"
   },
   {
    "duration": 4,
    "start_time": "2024-12-31T05:00:38.977Z"
   },
   {
    "duration": 5,
    "start_time": "2024-12-31T05:00:38.983Z"
   },
   {
    "duration": 3,
    "start_time": "2024-12-31T05:00:39.010Z"
   },
   {
    "duration": 20,
    "start_time": "2024-12-31T05:00:39.015Z"
   },
   {
    "duration": 42,
    "start_time": "2024-12-31T05:00:39.039Z"
   },
   {
    "duration": 51,
    "start_time": "2024-12-31T05:00:39.083Z"
   },
   {
    "duration": 37,
    "start_time": "2024-12-31T05:00:39.138Z"
   },
   {
    "duration": 13,
    "start_time": "2024-12-31T05:00:39.177Z"
   },
   {
    "duration": 189,
    "start_time": "2024-12-31T05:00:39.192Z"
   },
   {
    "duration": 160,
    "start_time": "2024-12-31T05:00:39.383Z"
   },
   {
    "duration": 154,
    "start_time": "2024-12-31T05:00:39.545Z"
   },
   {
    "duration": 5,
    "start_time": "2024-12-31T05:00:39.709Z"
   },
   {
    "duration": 6,
    "start_time": "2024-12-31T05:00:39.716Z"
   },
   {
    "duration": 7,
    "start_time": "2024-12-31T05:00:39.724Z"
   },
   {
    "duration": 157,
    "start_time": "2024-12-31T05:00:39.734Z"
   },
   {
    "duration": 21,
    "start_time": "2024-12-31T05:00:39.893Z"
   },
   {
    "duration": 6,
    "start_time": "2024-12-31T05:00:39.915Z"
   },
   {
    "duration": 3,
    "start_time": "2024-12-31T05:00:39.923Z"
   },
   {
    "duration": 23,
    "start_time": "2024-12-31T05:00:39.928Z"
   },
   {
    "duration": 1059,
    "start_time": "2024-12-31T05:05:00.828Z"
   },
   {
    "duration": 523,
    "start_time": "2024-12-31T05:05:01.892Z"
   },
   {
    "duration": 2,
    "start_time": "2024-12-31T05:05:02.417Z"
   },
   {
    "duration": 49,
    "start_time": "2024-12-31T05:05:02.421Z"
   },
   {
    "duration": 35,
    "start_time": "2024-12-31T05:05:02.473Z"
   },
   {
    "duration": 18,
    "start_time": "2024-12-31T05:05:02.511Z"
   },
   {
    "duration": 18,
    "start_time": "2024-12-31T05:05:02.531Z"
   },
   {
    "duration": 14,
    "start_time": "2024-12-31T05:05:02.551Z"
   },
   {
    "duration": 5,
    "start_time": "2024-12-31T05:05:02.567Z"
   },
   {
    "duration": 3,
    "start_time": "2024-12-31T05:05:02.574Z"
   },
   {
    "duration": 33,
    "start_time": "2024-12-31T05:05:02.578Z"
   },
   {
    "duration": 4,
    "start_time": "2024-12-31T05:05:02.613Z"
   },
   {
    "duration": 18,
    "start_time": "2024-12-31T05:05:02.619Z"
   },
   {
    "duration": 41,
    "start_time": "2024-12-31T05:05:02.641Z"
   },
   {
    "duration": 28,
    "start_time": "2024-12-31T05:05:02.709Z"
   },
   {
    "duration": 42,
    "start_time": "2024-12-31T05:05:02.739Z"
   },
   {
    "duration": 30,
    "start_time": "2024-12-31T05:05:02.783Z"
   },
   {
    "duration": 175,
    "start_time": "2024-12-31T05:05:02.815Z"
   },
   {
    "duration": 160,
    "start_time": "2024-12-31T05:05:02.993Z"
   },
   {
    "duration": 150,
    "start_time": "2024-12-31T05:05:03.155Z"
   },
   {
    "duration": 4,
    "start_time": "2024-12-31T05:05:03.310Z"
   },
   {
    "duration": 6,
    "start_time": "2024-12-31T05:05:03.317Z"
   },
   {
    "duration": 8,
    "start_time": "2024-12-31T05:05:03.324Z"
   },
   {
    "duration": 146,
    "start_time": "2024-12-31T05:05:03.334Z"
   },
   {
    "duration": 16,
    "start_time": "2024-12-31T05:05:03.484Z"
   },
   {
    "duration": 4,
    "start_time": "2024-12-31T05:05:03.509Z"
   },
   {
    "duration": 4,
    "start_time": "2024-12-31T05:05:03.515Z"
   },
   {
    "duration": 6,
    "start_time": "2024-12-31T05:05:03.520Z"
   },
   {
    "duration": 4,
    "start_time": "2024-12-31T05:05:03.527Z"
   },
   {
    "duration": 0,
    "start_time": "2024-12-31T05:05:03.533Z"
   },
   {
    "duration": 1,
    "start_time": "2024-12-31T05:05:03.534Z"
   },
   {
    "duration": 0,
    "start_time": "2024-12-31T05:05:03.536Z"
   },
   {
    "duration": 4,
    "start_time": "2024-12-31T05:07:41.065Z"
   },
   {
    "duration": 694,
    "start_time": "2024-12-31T05:08:23.897Z"
   },
   {
    "duration": 17,
    "start_time": "2024-12-31T05:08:24.697Z"
   },
   {
    "duration": 5,
    "start_time": "2024-12-31T05:08:48.019Z"
   },
   {
    "duration": 234,
    "start_time": "2024-12-31T05:08:48.851Z"
   },
   {
    "duration": 64,
    "start_time": "2024-12-31T05:09:15.515Z"
   },
   {
    "duration": 4,
    "start_time": "2024-12-31T05:10:24.593Z"
   },
   {
    "duration": 694,
    "start_time": "2024-12-31T05:10:27.442Z"
   },
   {
    "duration": 560,
    "start_time": "2024-12-31T05:11:12.268Z"
   },
   {
    "duration": 1143,
    "start_time": "2024-12-31T05:11:26.667Z"
   },
   {
    "duration": 522,
    "start_time": "2024-12-31T05:11:27.814Z"
   },
   {
    "duration": 4,
    "start_time": "2024-12-31T05:11:28.340Z"
   },
   {
    "duration": 71,
    "start_time": "2024-12-31T05:11:28.345Z"
   },
   {
    "duration": 23,
    "start_time": "2024-12-31T05:11:28.420Z"
   },
   {
    "duration": 14,
    "start_time": "2024-12-31T05:11:28.445Z"
   },
   {
    "duration": 20,
    "start_time": "2024-12-31T05:11:28.461Z"
   },
   {
    "duration": 36,
    "start_time": "2024-12-31T05:11:28.484Z"
   },
   {
    "duration": 6,
    "start_time": "2024-12-31T05:11:28.522Z"
   },
   {
    "duration": 3,
    "start_time": "2024-12-31T05:11:28.530Z"
   },
   {
    "duration": 4,
    "start_time": "2024-12-31T05:11:28.534Z"
   },
   {
    "duration": 3,
    "start_time": "2024-12-31T05:11:28.539Z"
   },
   {
    "duration": 18,
    "start_time": "2024-12-31T05:11:28.543Z"
   },
   {
    "duration": 71,
    "start_time": "2024-12-31T05:11:28.564Z"
   },
   {
    "duration": 27,
    "start_time": "2024-12-31T05:11:28.637Z"
   },
   {
    "duration": 49,
    "start_time": "2024-12-31T05:11:28.667Z"
   },
   {
    "duration": 17,
    "start_time": "2024-12-31T05:11:28.718Z"
   },
   {
    "duration": 173,
    "start_time": "2024-12-31T05:11:28.737Z"
   },
   {
    "duration": 142,
    "start_time": "2024-12-31T05:11:28.912Z"
   },
   {
    "duration": 141,
    "start_time": "2024-12-31T05:11:29.056Z"
   },
   {
    "duration": 8,
    "start_time": "2024-12-31T05:11:29.200Z"
   },
   {
    "duration": 6,
    "start_time": "2024-12-31T05:11:29.210Z"
   },
   {
    "duration": 8,
    "start_time": "2024-12-31T05:11:29.217Z"
   },
   {
    "duration": 123,
    "start_time": "2024-12-31T05:11:29.226Z"
   },
   {
    "duration": 18,
    "start_time": "2024-12-31T05:11:29.351Z"
   },
   {
    "duration": 4,
    "start_time": "2024-12-31T05:11:29.371Z"
   },
   {
    "duration": 4,
    "start_time": "2024-12-31T05:11:29.378Z"
   },
   {
    "duration": 4,
    "start_time": "2024-12-31T05:11:29.385Z"
   },
   {
    "duration": 20,
    "start_time": "2024-12-31T05:11:29.391Z"
   },
   {
    "duration": 501,
    "start_time": "2024-12-31T05:11:29.413Z"
   },
   {
    "duration": 345,
    "start_time": "2024-12-31T05:11:29.915Z"
   },
   {
    "duration": 0,
    "start_time": "2024-12-31T05:11:30.262Z"
   },
   {
    "duration": 1002,
    "start_time": "2024-12-31T05:14:46.566Z"
   },
   {
    "duration": 517,
    "start_time": "2024-12-31T05:14:47.571Z"
   },
   {
    "duration": 3,
    "start_time": "2024-12-31T05:14:48.089Z"
   },
   {
    "duration": 48,
    "start_time": "2024-12-31T05:14:48.094Z"
   },
   {
    "duration": 16,
    "start_time": "2024-12-31T05:14:48.145Z"
   },
   {
    "duration": 14,
    "start_time": "2024-12-31T05:14:48.162Z"
   },
   {
    "duration": 31,
    "start_time": "2024-12-31T05:14:48.178Z"
   },
   {
    "duration": 12,
    "start_time": "2024-12-31T05:14:48.212Z"
   },
   {
    "duration": 4,
    "start_time": "2024-12-31T05:14:48.225Z"
   },
   {
    "duration": 3,
    "start_time": "2024-12-31T05:14:48.231Z"
   },
   {
    "duration": 4,
    "start_time": "2024-12-31T05:14:48.236Z"
   },
   {
    "duration": 3,
    "start_time": "2024-12-31T05:14:48.242Z"
   },
   {
    "duration": 17,
    "start_time": "2024-12-31T05:14:48.246Z"
   },
   {
    "duration": 63,
    "start_time": "2024-12-31T05:14:48.267Z"
   },
   {
    "duration": 26,
    "start_time": "2024-12-31T05:14:48.332Z"
   },
   {
    "duration": 50,
    "start_time": "2024-12-31T05:14:48.360Z"
   },
   {
    "duration": 11,
    "start_time": "2024-12-31T05:14:48.411Z"
   },
   {
    "duration": 164,
    "start_time": "2024-12-31T05:14:48.424Z"
   },
   {
    "duration": 148,
    "start_time": "2024-12-31T05:14:48.590Z"
   },
   {
    "duration": 136,
    "start_time": "2024-12-31T05:14:48.740Z"
   },
   {
    "duration": 3,
    "start_time": "2024-12-31T05:14:48.878Z"
   },
   {
    "duration": 4,
    "start_time": "2024-12-31T05:14:48.883Z"
   },
   {
    "duration": 22,
    "start_time": "2024-12-31T05:14:48.889Z"
   },
   {
    "duration": 117,
    "start_time": "2024-12-31T05:14:48.912Z"
   },
   {
    "duration": 13,
    "start_time": "2024-12-31T05:14:49.031Z"
   },
   {
    "duration": 3,
    "start_time": "2024-12-31T05:14:49.045Z"
   },
   {
    "duration": 3,
    "start_time": "2024-12-31T05:14:49.050Z"
   },
   {
    "duration": 4,
    "start_time": "2024-12-31T05:14:49.055Z"
   },
   {
    "duration": 3,
    "start_time": "2024-12-31T05:14:49.061Z"
   },
   {
    "duration": 651,
    "start_time": "2024-12-31T05:14:49.066Z"
   },
   {
    "duration": 734030,
    "start_time": "2024-12-31T05:14:49.719Z"
   },
   {
    "duration": 52326,
    "start_time": "2024-12-31T05:27:03.751Z"
   },
   {
    "duration": 209088,
    "start_time": "2024-12-31T05:32:09.781Z"
   },
   {
    "duration": 4,
    "start_time": "2024-12-31T05:44:39.985Z"
   },
   {
    "duration": 935104,
    "start_time": "2024-12-31T05:44:41.334Z"
   },
   {
    "duration": 272257,
    "start_time": "2024-12-31T06:02:13.954Z"
   },
   {
    "duration": 159,
    "start_time": "2024-12-31T19:59:03.347Z"
   },
   {
    "duration": 2711,
    "start_time": "2024-12-31T20:00:01.285Z"
   },
   {
    "duration": 651,
    "start_time": "2024-12-31T20:00:03.998Z"
   },
   {
    "duration": 5,
    "start_time": "2024-12-31T20:00:12.841Z"
   },
   {
    "duration": 51,
    "start_time": "2024-12-31T20:00:13.397Z"
   },
   {
    "duration": 17,
    "start_time": "2024-12-31T20:00:18.507Z"
   },
   {
    "duration": 16,
    "start_time": "2024-12-31T20:00:22.065Z"
   },
   {
    "duration": 15,
    "start_time": "2024-12-31T20:00:22.691Z"
   },
   {
    "duration": 5,
    "start_time": "2024-12-31T20:00:50.011Z"
   },
   {
    "duration": 606,
    "start_time": "2024-12-31T20:00:50.018Z"
   },
   {
    "duration": 3,
    "start_time": "2024-12-31T20:00:50.626Z"
   },
   {
    "duration": 45,
    "start_time": "2024-12-31T20:00:50.631Z"
   },
   {
    "duration": 31,
    "start_time": "2024-12-31T20:00:50.678Z"
   },
   {
    "duration": 15,
    "start_time": "2024-12-31T20:00:50.711Z"
   },
   {
    "duration": 14,
    "start_time": "2024-12-31T20:00:50.729Z"
   },
   {
    "duration": 14,
    "start_time": "2024-12-31T20:00:50.745Z"
   },
   {
    "duration": 7,
    "start_time": "2024-12-31T20:00:50.762Z"
   },
   {
    "duration": 5,
    "start_time": "2024-12-31T20:00:50.772Z"
   },
   {
    "duration": 3,
    "start_time": "2024-12-31T20:00:50.779Z"
   },
   {
    "duration": 25,
    "start_time": "2024-12-31T20:00:50.785Z"
   },
   {
    "duration": 18,
    "start_time": "2024-12-31T20:00:50.812Z"
   },
   {
    "duration": 33,
    "start_time": "2024-12-31T20:00:50.831Z"
   },
   {
    "duration": 43,
    "start_time": "2024-12-31T20:00:50.867Z"
   },
   {
    "duration": 41,
    "start_time": "2024-12-31T20:00:50.911Z"
   },
   {
    "duration": 13,
    "start_time": "2024-12-31T20:00:50.954Z"
   },
   {
    "duration": 3,
    "start_time": "2024-12-31T20:01:28.087Z"
   },
   {
    "duration": 2,
    "start_time": "2024-12-31T20:01:28.686Z"
   },
   {
    "duration": 5,
    "start_time": "2024-12-31T20:01:51.199Z"
   },
   {
    "duration": 65945,
    "start_time": "2024-12-31T20:01:52.687Z"
   },
   {
    "duration": 4,
    "start_time": "2024-12-31T20:04:01.107Z"
   },
   {
    "duration": 315634,
    "start_time": "2024-12-31T20:04:01.987Z"
   },
   {
    "duration": 4,
    "start_time": "2024-12-31T20:10:15.856Z"
   },
   {
    "duration": 2733,
    "start_time": "2025-01-01T04:49:56.031Z"
   },
   {
    "duration": 602,
    "start_time": "2025-01-01T04:49:58.766Z"
   },
   {
    "duration": 3,
    "start_time": "2025-01-01T04:49:59.370Z"
   },
   {
    "duration": 42,
    "start_time": "2025-01-01T04:49:59.375Z"
   },
   {
    "duration": 16,
    "start_time": "2025-01-01T04:49:59.421Z"
   },
   {
    "duration": 13,
    "start_time": "2025-01-01T04:49:59.439Z"
   },
   {
    "duration": 13,
    "start_time": "2025-01-01T04:49:59.454Z"
   },
   {
    "duration": 38,
    "start_time": "2025-01-01T04:49:59.469Z"
   },
   {
    "duration": 4,
    "start_time": "2025-01-01T04:49:59.509Z"
   },
   {
    "duration": 3,
    "start_time": "2025-01-01T04:49:59.515Z"
   },
   {
    "duration": 4,
    "start_time": "2025-01-01T04:49:59.520Z"
   },
   {
    "duration": 3,
    "start_time": "2025-01-01T04:49:59.527Z"
   },
   {
    "duration": 17,
    "start_time": "2025-01-01T04:49:59.532Z"
   },
   {
    "duration": 54,
    "start_time": "2025-01-01T04:49:59.551Z"
   },
   {
    "duration": 20,
    "start_time": "2025-01-01T04:50:11.575Z"
   },
   {
    "duration": 2786,
    "start_time": "2025-01-06T00:46:54.437Z"
   },
   {
    "duration": 643,
    "start_time": "2025-01-06T00:46:57.225Z"
   },
   {
    "duration": 4,
    "start_time": "2025-01-06T00:46:57.869Z"
   },
   {
    "duration": 48,
    "start_time": "2025-01-06T00:46:57.876Z"
   },
   {
    "duration": 16,
    "start_time": "2025-01-06T00:46:57.928Z"
   },
   {
    "duration": 14,
    "start_time": "2025-01-06T00:46:57.946Z"
   },
   {
    "duration": 14,
    "start_time": "2025-01-06T00:46:57.962Z"
   },
   {
    "duration": 39,
    "start_time": "2025-01-06T00:46:57.977Z"
   },
   {
    "duration": 4,
    "start_time": "2025-01-06T00:46:58.018Z"
   },
   {
    "duration": 7,
    "start_time": "2025-01-06T00:46:58.024Z"
   },
   {
    "duration": 4,
    "start_time": "2025-01-06T00:46:58.034Z"
   },
   {
    "duration": 3,
    "start_time": "2025-01-06T00:46:58.040Z"
   },
   {
    "duration": 5,
    "start_time": "2025-01-06T00:46:58.045Z"
   },
   {
    "duration": 0,
    "start_time": "2025-01-06T00:46:58.052Z"
   },
   {
    "duration": 4,
    "start_time": "2025-01-06T00:47:04.871Z"
   },
   {
    "duration": 285,
    "start_time": "2025-01-06T00:47:05.627Z"
   },
   {
    "duration": 4,
    "start_time": "2025-01-06T00:47:47.317Z"
   },
   {
    "duration": 4,
    "start_time": "2025-01-06T00:49:52.696Z"
   },
   {
    "duration": 4,
    "start_time": "2025-01-06T00:54:15.046Z"
   },
   {
    "duration": 23,
    "start_time": "2025-01-06T00:55:47.143Z"
   },
   {
    "duration": 17,
    "start_time": "2025-01-06T00:55:48.095Z"
   },
   {
    "duration": 22,
    "start_time": "2025-01-06T00:55:59.381Z"
   },
   {
    "duration": 15,
    "start_time": "2025-01-06T00:55:59.880Z"
   },
   {
    "duration": 263,
    "start_time": "2025-01-06T00:56:06.588Z"
   },
   {
    "duration": 6,
    "start_time": "2025-01-06T00:57:08.478Z"
   },
   {
    "duration": 104,
    "start_time": "2025-01-06T00:57:17.668Z"
   },
   {
    "duration": 37,
    "start_time": "2025-01-06T00:59:15.269Z"
   },
   {
    "duration": 1012,
    "start_time": "2025-01-06T00:59:31.384Z"
   },
   {
    "duration": 527,
    "start_time": "2025-01-06T00:59:32.399Z"
   },
   {
    "duration": 2,
    "start_time": "2025-01-06T00:59:32.928Z"
   },
   {
    "duration": 41,
    "start_time": "2025-01-06T00:59:32.932Z"
   },
   {
    "duration": 17,
    "start_time": "2025-01-06T00:59:32.976Z"
   },
   {
    "duration": 32,
    "start_time": "2025-01-06T00:59:32.994Z"
   },
   {
    "duration": 14,
    "start_time": "2025-01-06T00:59:33.028Z"
   },
   {
    "duration": 14,
    "start_time": "2025-01-06T00:59:33.043Z"
   },
   {
    "duration": 5,
    "start_time": "2025-01-06T00:59:33.058Z"
   },
   {
    "duration": 3,
    "start_time": "2025-01-06T00:59:33.064Z"
   },
   {
    "duration": 4,
    "start_time": "2025-01-06T00:59:33.069Z"
   },
   {
    "duration": 3,
    "start_time": "2025-01-06T00:59:33.074Z"
   },
   {
    "duration": 3,
    "start_time": "2025-01-06T00:59:33.111Z"
   },
   {
    "duration": 5,
    "start_time": "2025-01-06T00:59:33.118Z"
   },
   {
    "duration": 70,
    "start_time": "2025-01-06T00:59:33.124Z"
   },
   {
    "duration": 31,
    "start_time": "2025-01-06T00:59:33.196Z"
   },
   {
    "duration": 23,
    "start_time": "2025-01-06T00:59:33.229Z"
   },
   {
    "duration": 17,
    "start_time": "2025-01-06T00:59:33.253Z"
   },
   {
    "duration": 575,
    "start_time": "2025-01-06T00:59:33.272Z"
   },
   {
    "duration": 17,
    "start_time": "2025-01-06T01:01:04.481Z"
   },
   {
    "duration": 5,
    "start_time": "2025-01-06T01:01:15.664Z"
   },
   {
    "duration": 4,
    "start_time": "2025-01-06T01:07:49.936Z"
   },
   {
    "duration": 4,
    "start_time": "2025-01-06T01:08:00.783Z"
   },
   {
    "duration": 2632,
    "start_time": "2025-01-06T04:03:41.610Z"
   },
   {
    "duration": 619,
    "start_time": "2025-01-06T04:03:44.244Z"
   },
   {
    "duration": 14,
    "start_time": "2025-01-06T04:03:44.864Z"
   },
   {
    "duration": 39,
    "start_time": "2025-01-06T04:03:44.879Z"
   },
   {
    "duration": 74,
    "start_time": "2025-01-06T04:03:44.920Z"
   },
   {
    "duration": 14,
    "start_time": "2025-01-06T04:03:44.996Z"
   },
   {
    "duration": 14,
    "start_time": "2025-01-06T04:03:45.012Z"
   },
   {
    "duration": 14,
    "start_time": "2025-01-06T04:03:45.027Z"
   },
   {
    "duration": 29,
    "start_time": "2025-01-06T04:03:45.043Z"
   },
   {
    "duration": 4,
    "start_time": "2025-01-06T04:03:45.073Z"
   },
   {
    "duration": 4,
    "start_time": "2025-01-06T04:03:45.078Z"
   },
   {
    "duration": 3,
    "start_time": "2025-01-06T04:03:45.083Z"
   },
   {
    "duration": 3,
    "start_time": "2025-01-06T04:03:45.088Z"
   },
   {
    "duration": 5,
    "start_time": "2025-01-06T04:03:45.094Z"
   },
   {
    "duration": 58,
    "start_time": "2025-01-06T04:03:54.995Z"
   },
   {
    "duration": 19,
    "start_time": "2025-01-06T04:03:56.109Z"
   },
   {
    "duration": 23,
    "start_time": "2025-01-06T04:04:02.199Z"
   },
   {
    "duration": 15,
    "start_time": "2025-01-06T04:04:03.048Z"
   },
   {
    "duration": 5,
    "start_time": "2025-01-06T04:04:08.681Z"
   },
   {
    "duration": 5,
    "start_time": "2025-01-06T04:04:36.414Z"
   },
   {
    "duration": 549,
    "start_time": "2025-01-06T04:04:47.124Z"
   },
   {
    "duration": 31,
    "start_time": "2025-01-06T04:06:06.823Z"
   },
   {
    "duration": 34,
    "start_time": "2025-01-06T04:06:47.587Z"
   },
   {
    "duration": 6,
    "start_time": "2025-01-06T04:09:06.399Z"
   },
   {
    "duration": 15,
    "start_time": "2025-01-06T04:15:31.959Z"
   },
   {
    "duration": 7,
    "start_time": "2025-01-06T04:15:41.628Z"
   },
   {
    "duration": 3,
    "start_time": "2025-01-06T04:16:09.180Z"
   },
   {
    "duration": 3,
    "start_time": "2025-01-06T04:16:15.128Z"
   },
   {
    "duration": 4,
    "start_time": "2025-01-06T04:16:22.979Z"
   },
   {
    "duration": 4,
    "start_time": "2025-01-06T04:16:57.158Z"
   },
   {
    "duration": 32,
    "start_time": "2025-01-06T04:17:33.182Z"
   },
   {
    "duration": 3,
    "start_time": "2025-01-06T04:20:22.499Z"
   },
   {
    "duration": 4,
    "start_time": "2025-01-06T04:21:24.648Z"
   },
   {
    "duration": 529,
    "start_time": "2025-01-06T04:21:24.655Z"
   },
   {
    "duration": 3,
    "start_time": "2025-01-06T04:21:25.185Z"
   },
   {
    "duration": 41,
    "start_time": "2025-01-06T04:21:25.189Z"
   },
   {
    "duration": 14,
    "start_time": "2025-01-06T04:21:25.233Z"
   },
   {
    "duration": 33,
    "start_time": "2025-01-06T04:21:25.249Z"
   },
   {
    "duration": 13,
    "start_time": "2025-01-06T04:21:25.285Z"
   },
   {
    "duration": 14,
    "start_time": "2025-01-06T04:21:25.300Z"
   },
   {
    "duration": 4,
    "start_time": "2025-01-06T04:21:25.316Z"
   },
   {
    "duration": 3,
    "start_time": "2025-01-06T04:21:25.322Z"
   },
   {
    "duration": 3,
    "start_time": "2025-01-06T04:21:25.327Z"
   },
   {
    "duration": 39,
    "start_time": "2025-01-06T04:21:25.332Z"
   },
   {
    "duration": 3,
    "start_time": "2025-01-06T04:21:25.373Z"
   },
   {
    "duration": 5,
    "start_time": "2025-01-06T04:21:25.379Z"
   },
   {
    "duration": 58,
    "start_time": "2025-01-06T04:21:25.386Z"
   },
   {
    "duration": 38,
    "start_time": "2025-01-06T04:21:25.446Z"
   },
   {
    "duration": 21,
    "start_time": "2025-01-06T04:21:25.486Z"
   },
   {
    "duration": 16,
    "start_time": "2025-01-06T04:21:25.509Z"
   },
   {
    "duration": 4,
    "start_time": "2025-01-06T04:21:25.526Z"
   },
   {
    "duration": 3,
    "start_time": "2025-01-06T04:21:25.532Z"
   },
   {
    "duration": 3,
    "start_time": "2025-01-06T04:21:30.844Z"
   },
   {
    "duration": 4,
    "start_time": "2025-01-06T04:21:44.172Z"
   },
   {
    "duration": 32,
    "start_time": "2025-01-06T04:21:55.254Z"
   },
   {
    "duration": 34,
    "start_time": "2025-01-06T04:24:21.384Z"
   },
   {
    "duration": 3,
    "start_time": "2025-01-06T04:31:08.197Z"
   },
   {
    "duration": 507,
    "start_time": "2025-01-06T04:31:08.203Z"
   },
   {
    "duration": 2,
    "start_time": "2025-01-06T04:31:08.712Z"
   },
   {
    "duration": 41,
    "start_time": "2025-01-06T04:31:08.716Z"
   },
   {
    "duration": 22,
    "start_time": "2025-01-06T04:31:08.760Z"
   },
   {
    "duration": 14,
    "start_time": "2025-01-06T04:31:08.784Z"
   },
   {
    "duration": 13,
    "start_time": "2025-01-06T04:31:08.800Z"
   },
   {
    "duration": 15,
    "start_time": "2025-01-06T04:31:08.814Z"
   },
   {
    "duration": 3,
    "start_time": "2025-01-06T04:31:08.831Z"
   },
   {
    "duration": 35,
    "start_time": "2025-01-06T04:31:08.836Z"
   },
   {
    "duration": 4,
    "start_time": "2025-01-06T04:31:08.872Z"
   },
   {
    "duration": 3,
    "start_time": "2025-01-06T04:31:08.877Z"
   },
   {
    "duration": 3,
    "start_time": "2025-01-06T04:31:08.882Z"
   },
   {
    "duration": 5,
    "start_time": "2025-01-06T04:31:08.888Z"
   },
   {
    "duration": 6,
    "start_time": "2025-01-06T04:31:28.369Z"
   },
   {
    "duration": 3,
    "start_time": "2025-01-06T04:31:51.845Z"
   },
   {
    "duration": 509,
    "start_time": "2025-01-06T04:31:51.851Z"
   },
   {
    "duration": 7,
    "start_time": "2025-01-06T04:31:52.363Z"
   },
   {
    "duration": 36,
    "start_time": "2025-01-06T04:31:52.372Z"
   },
   {
    "duration": 14,
    "start_time": "2025-01-06T04:31:52.411Z"
   },
   {
    "duration": 14,
    "start_time": "2025-01-06T04:31:52.427Z"
   },
   {
    "duration": 34,
    "start_time": "2025-01-06T04:31:52.443Z"
   },
   {
    "duration": 11,
    "start_time": "2025-01-06T04:31:52.479Z"
   },
   {
    "duration": 3,
    "start_time": "2025-01-06T04:31:52.492Z"
   },
   {
    "duration": 3,
    "start_time": "2025-01-06T04:31:52.497Z"
   },
   {
    "duration": 4,
    "start_time": "2025-01-06T04:31:52.501Z"
   },
   {
    "duration": 4,
    "start_time": "2025-01-06T04:31:52.506Z"
   },
   {
    "duration": 4,
    "start_time": "2025-01-06T04:31:52.511Z"
   },
   {
    "duration": 4,
    "start_time": "2025-01-06T04:31:52.518Z"
   },
   {
    "duration": 98,
    "start_time": "2025-01-06T04:31:52.524Z"
   },
   {
    "duration": 20,
    "start_time": "2025-01-06T04:31:52.624Z"
   },
   {
    "duration": 39,
    "start_time": "2025-01-06T04:31:52.646Z"
   },
   {
    "duration": 16,
    "start_time": "2025-01-06T04:31:52.686Z"
   },
   {
    "duration": 4,
    "start_time": "2025-01-06T04:31:52.703Z"
   },
   {
    "duration": 33,
    "start_time": "2025-01-06T04:31:56.104Z"
   },
   {
    "duration": 4,
    "start_time": "2025-01-06T04:32:57.932Z"
   },
   {
    "duration": 5,
    "start_time": "2025-01-06T05:15:37.431Z"
   },
   {
    "duration": 3,
    "start_time": "2025-01-06T05:17:31.198Z"
   },
   {
    "duration": 1007,
    "start_time": "2025-01-06T05:18:23.888Z"
   },
   {
    "duration": 510,
    "start_time": "2025-01-06T05:18:24.897Z"
   },
   {
    "duration": 3,
    "start_time": "2025-01-06T05:18:25.408Z"
   },
   {
    "duration": 42,
    "start_time": "2025-01-06T05:18:25.413Z"
   },
   {
    "duration": 16,
    "start_time": "2025-01-06T05:18:25.470Z"
   },
   {
    "duration": 14,
    "start_time": "2025-01-06T05:18:25.488Z"
   },
   {
    "duration": 14,
    "start_time": "2025-01-06T05:18:25.504Z"
   },
   {
    "duration": 13,
    "start_time": "2025-01-06T05:18:25.520Z"
   },
   {
    "duration": 35,
    "start_time": "2025-01-06T05:18:25.535Z"
   },
   {
    "duration": 3,
    "start_time": "2025-01-06T05:18:25.573Z"
   },
   {
    "duration": 3,
    "start_time": "2025-01-06T05:18:25.578Z"
   },
   {
    "duration": 3,
    "start_time": "2025-01-06T05:18:25.582Z"
   },
   {
    "duration": 3,
    "start_time": "2025-01-06T05:18:25.587Z"
   },
   {
    "duration": 5,
    "start_time": "2025-01-06T05:18:25.591Z"
   },
   {
    "duration": 72,
    "start_time": "2025-01-06T05:18:25.598Z"
   },
   {
    "duration": 17,
    "start_time": "2025-01-06T05:18:25.672Z"
   },
   {
    "duration": 23,
    "start_time": "2025-01-06T05:18:25.691Z"
   },
   {
    "duration": 16,
    "start_time": "2025-01-06T05:18:25.715Z"
   },
   {
    "duration": 5,
    "start_time": "2025-01-06T05:18:25.732Z"
   },
   {
    "duration": 31,
    "start_time": "2025-01-06T05:18:25.739Z"
   },
   {
    "duration": 4,
    "start_time": "2025-01-06T05:18:25.772Z"
   },
   {
    "duration": 562,
    "start_time": "2025-01-06T05:18:25.778Z"
   },
   {
    "duration": 0,
    "start_time": "2025-01-06T05:18:26.343Z"
   },
   {
    "duration": 0,
    "start_time": "2025-01-06T05:18:26.345Z"
   },
   {
    "duration": 0,
    "start_time": "2025-01-06T05:18:26.346Z"
   },
   {
    "duration": 0,
    "start_time": "2025-01-06T05:18:26.347Z"
   },
   {
    "duration": 0,
    "start_time": "2025-01-06T05:18:26.348Z"
   },
   {
    "duration": 0,
    "start_time": "2025-01-06T05:18:26.350Z"
   },
   {
    "duration": 0,
    "start_time": "2025-01-06T05:18:26.350Z"
   },
   {
    "duration": 0,
    "start_time": "2025-01-06T05:18:26.352Z"
   },
   {
    "duration": 0,
    "start_time": "2025-01-06T05:18:26.352Z"
   },
   {
    "duration": 0,
    "start_time": "2025-01-06T05:18:26.353Z"
   },
   {
    "duration": 0,
    "start_time": "2025-01-06T05:18:26.371Z"
   },
   {
    "duration": 0,
    "start_time": "2025-01-06T05:18:26.372Z"
   },
   {
    "duration": 0,
    "start_time": "2025-01-06T05:18:26.374Z"
   },
   {
    "duration": 0,
    "start_time": "2025-01-06T05:18:26.375Z"
   },
   {
    "duration": 1,
    "start_time": "2025-01-06T05:18:26.376Z"
   },
   {
    "duration": 0,
    "start_time": "2025-01-06T05:18:26.378Z"
   },
   {
    "duration": 0,
    "start_time": "2025-01-06T05:18:26.379Z"
   },
   {
    "duration": 0,
    "start_time": "2025-01-06T05:18:26.380Z"
   },
   {
    "duration": 0,
    "start_time": "2025-01-06T05:18:26.384Z"
   },
   {
    "duration": 0,
    "start_time": "2025-01-06T05:18:26.386Z"
   },
   {
    "duration": 130,
    "start_time": "2025-01-06T05:27:10.138Z"
   },
   {
    "duration": 113,
    "start_time": "2025-01-06T05:29:24.172Z"
   },
   {
    "duration": 35,
    "start_time": "2025-01-06T05:29:53.998Z"
   },
   {
    "duration": 118,
    "start_time": "2025-01-06T05:30:05.390Z"
   },
   {
    "duration": 116,
    "start_time": "2025-01-06T05:31:44.838Z"
   },
   {
    "duration": 221,
    "start_time": "2025-01-06T05:32:01.782Z"
   },
   {
    "duration": 235,
    "start_time": "2025-01-06T05:32:27.042Z"
   },
   {
    "duration": 1201,
    "start_time": "2025-01-06T05:35:00.429Z"
   },
   {
    "duration": 123,
    "start_time": "2025-01-06T05:35:36.877Z"
   },
   {
    "duration": 28,
    "start_time": "2025-01-06T05:39:02.782Z"
   },
   {
    "duration": 25,
    "start_time": "2025-01-06T05:39:36.607Z"
   },
   {
    "duration": 1051,
    "start_time": "2025-01-06T05:40:26.501Z"
   },
   {
    "duration": 505,
    "start_time": "2025-01-06T05:40:27.554Z"
   },
   {
    "duration": 3,
    "start_time": "2025-01-06T05:40:28.061Z"
   },
   {
    "duration": 41,
    "start_time": "2025-01-06T05:40:28.065Z"
   },
   {
    "duration": 16,
    "start_time": "2025-01-06T05:40:28.110Z"
   },
   {
    "duration": 14,
    "start_time": "2025-01-06T05:40:28.128Z"
   },
   {
    "duration": 38,
    "start_time": "2025-01-06T05:40:28.144Z"
   },
   {
    "duration": 14,
    "start_time": "2025-01-06T05:40:28.183Z"
   },
   {
    "duration": 4,
    "start_time": "2025-01-06T05:40:28.199Z"
   },
   {
    "duration": 4,
    "start_time": "2025-01-06T05:40:28.204Z"
   },
   {
    "duration": 3,
    "start_time": "2025-01-06T05:40:28.210Z"
   },
   {
    "duration": 2,
    "start_time": "2025-01-06T05:40:28.215Z"
   },
   {
    "duration": 3,
    "start_time": "2025-01-06T05:40:28.219Z"
   },
   {
    "duration": 5,
    "start_time": "2025-01-06T05:40:28.226Z"
   },
   {
    "duration": 45,
    "start_time": "2025-01-06T05:40:28.270Z"
   },
   {
    "duration": 20,
    "start_time": "2025-01-06T05:40:28.318Z"
   },
   {
    "duration": 40,
    "start_time": "2025-01-06T05:40:28.341Z"
   },
   {
    "duration": 15,
    "start_time": "2025-01-06T05:40:28.383Z"
   },
   {
    "duration": 4,
    "start_time": "2025-01-06T05:40:28.399Z"
   },
   {
    "duration": 4,
    "start_time": "2025-01-06T05:40:28.405Z"
   },
   {
    "duration": 3,
    "start_time": "2025-01-06T05:40:28.411Z"
   },
   {
    "duration": 270,
    "start_time": "2025-01-06T05:40:28.416Z"
   },
   {
    "duration": 22,
    "start_time": "2025-01-06T05:41:32.078Z"
   },
   {
    "duration": 578,
    "start_time": "2025-01-06T05:42:09.304Z"
   },
   {
    "duration": 123,
    "start_time": "2025-01-06T05:42:37.821Z"
   },
   {
    "duration": 123,
    "start_time": "2025-01-06T05:43:06.726Z"
   },
   {
    "duration": 208,
    "start_time": "2025-01-06T05:43:30.871Z"
   },
   {
    "duration": 123,
    "start_time": "2025-01-06T05:43:58.096Z"
   },
   {
    "duration": 125,
    "start_time": "2025-01-06T05:44:42.761Z"
   },
   {
    "duration": 215,
    "start_time": "2025-01-06T05:46:36.189Z"
   },
   {
    "duration": 310,
    "start_time": "2025-01-06T05:56:20.721Z"
   },
   {
    "duration": 141,
    "start_time": "2025-01-06T05:57:01.112Z"
   },
   {
    "duration": 160,
    "start_time": "2025-01-06T05:59:12.120Z"
   },
   {
    "duration": 161,
    "start_time": "2025-01-06T05:59:59.525Z"
   },
   {
    "duration": 7,
    "start_time": "2025-01-06T06:05:20.042Z"
   },
   {
    "duration": 572,
    "start_time": "2025-01-06T06:05:47.390Z"
   },
   {
    "duration": 255,
    "start_time": "2025-01-06T06:06:27.416Z"
   },
   {
    "duration": 147,
    "start_time": "2025-01-06T06:07:10.407Z"
   },
   {
    "duration": 188,
    "start_time": "2025-01-06T06:07:29.960Z"
   },
   {
    "duration": 155,
    "start_time": "2025-01-06T06:07:50.286Z"
   },
   {
    "duration": 162,
    "start_time": "2025-01-06T06:09:03.464Z"
   },
   {
    "duration": 254,
    "start_time": "2025-01-06T06:10:57.876Z"
   },
   {
    "duration": 250,
    "start_time": "2025-01-06T06:12:05.192Z"
   },
   {
    "duration": 384,
    "start_time": "2025-01-06T06:13:05.497Z"
   },
   {
    "duration": 245,
    "start_time": "2025-01-06T06:13:21.911Z"
   },
   {
    "duration": 4,
    "start_time": "2025-01-06T06:14:45.100Z"
   },
   {
    "duration": 498,
    "start_time": "2025-01-06T06:14:45.106Z"
   },
   {
    "duration": 3,
    "start_time": "2025-01-06T06:14:45.606Z"
   },
   {
    "duration": 39,
    "start_time": "2025-01-06T06:14:45.611Z"
   },
   {
    "duration": 31,
    "start_time": "2025-01-06T06:14:45.652Z"
   },
   {
    "duration": 14,
    "start_time": "2025-01-06T06:14:45.684Z"
   },
   {
    "duration": 14,
    "start_time": "2025-01-06T06:14:45.699Z"
   },
   {
    "duration": 14,
    "start_time": "2025-01-06T06:14:45.715Z"
   },
   {
    "duration": 3,
    "start_time": "2025-01-06T06:14:45.731Z"
   },
   {
    "duration": 35,
    "start_time": "2025-01-06T06:14:45.736Z"
   },
   {
    "duration": 4,
    "start_time": "2025-01-06T06:14:45.773Z"
   },
   {
    "duration": 2,
    "start_time": "2025-01-06T06:14:45.779Z"
   },
   {
    "duration": 3,
    "start_time": "2025-01-06T06:14:45.785Z"
   },
   {
    "duration": 4,
    "start_time": "2025-01-06T06:14:45.790Z"
   },
   {
    "duration": 43,
    "start_time": "2025-01-06T06:14:45.796Z"
   },
   {
    "duration": 46,
    "start_time": "2025-01-06T06:14:45.840Z"
   },
   {
    "duration": 22,
    "start_time": "2025-01-06T06:14:45.888Z"
   },
   {
    "duration": 16,
    "start_time": "2025-01-06T06:14:45.912Z"
   },
   {
    "duration": 4,
    "start_time": "2025-01-06T06:14:45.929Z"
   },
   {
    "duration": 4,
    "start_time": "2025-01-06T06:14:45.935Z"
   },
   {
    "duration": 4,
    "start_time": "2025-01-06T06:14:45.970Z"
   },
   {
    "duration": 270,
    "start_time": "2025-01-06T06:14:45.976Z"
   },
   {
    "duration": 301,
    "start_time": "2025-01-06T06:14:46.247Z"
   },
   {
    "duration": 299,
    "start_time": "2025-01-06T06:14:46.551Z"
   },
   {
    "duration": 3,
    "start_time": "2025-01-06T06:14:46.852Z"
   },
   {
    "duration": 7,
    "start_time": "2025-01-06T06:14:46.870Z"
   },
   {
    "duration": 12,
    "start_time": "2025-01-06T06:14:46.878Z"
   },
   {
    "duration": 156,
    "start_time": "2025-01-06T06:14:46.891Z"
   },
   {
    "duration": 168,
    "start_time": "2025-01-06T06:20:33.555Z"
   },
   {
    "duration": 163,
    "start_time": "2025-01-06T06:21:18.307Z"
   },
   {
    "duration": 219,
    "start_time": "2025-01-06T06:22:07.270Z"
   },
   {
    "duration": 17,
    "start_time": "2025-01-06T06:23:55.683Z"
   },
   {
    "duration": 163,
    "start_time": "2025-01-06T06:28:09.013Z"
   },
   {
    "duration": 8,
    "start_time": "2025-01-06T06:31:27.187Z"
   },
   {
    "duration": 580,
    "start_time": "2025-01-06T06:31:27.198Z"
   },
   {
    "duration": 5,
    "start_time": "2025-01-06T06:31:27.782Z"
   },
   {
    "duration": 48,
    "start_time": "2025-01-06T06:31:27.792Z"
   },
   {
    "duration": 14,
    "start_time": "2025-01-06T06:31:27.842Z"
   },
   {
    "duration": 24,
    "start_time": "2025-01-06T06:31:27.857Z"
   },
   {
    "duration": 13,
    "start_time": "2025-01-06T06:31:27.882Z"
   },
   {
    "duration": 14,
    "start_time": "2025-01-06T06:31:27.897Z"
   },
   {
    "duration": 4,
    "start_time": "2025-01-06T06:31:27.913Z"
   },
   {
    "duration": 4,
    "start_time": "2025-01-06T06:31:27.920Z"
   },
   {
    "duration": 7,
    "start_time": "2025-01-06T06:31:27.926Z"
   },
   {
    "duration": 5,
    "start_time": "2025-01-06T06:31:27.935Z"
   },
   {
    "duration": 3,
    "start_time": "2025-01-06T06:31:27.970Z"
   },
   {
    "duration": 5,
    "start_time": "2025-01-06T06:31:27.975Z"
   },
   {
    "duration": 51,
    "start_time": "2025-01-06T06:31:27.981Z"
   },
   {
    "duration": 45,
    "start_time": "2025-01-06T06:31:28.034Z"
   },
   {
    "duration": 31,
    "start_time": "2025-01-06T06:31:28.081Z"
   },
   {
    "duration": 20,
    "start_time": "2025-01-06T06:31:28.114Z"
   },
   {
    "duration": 9,
    "start_time": "2025-01-06T06:31:28.137Z"
   },
   {
    "duration": 23,
    "start_time": "2025-01-06T06:31:28.148Z"
   },
   {
    "duration": 4,
    "start_time": "2025-01-06T06:31:28.173Z"
   },
   {
    "duration": 260,
    "start_time": "2025-01-06T06:31:28.179Z"
   },
   {
    "duration": 303,
    "start_time": "2025-01-06T06:31:28.441Z"
   },
   {
    "duration": 285,
    "start_time": "2025-01-06T06:31:28.746Z"
   },
   {
    "duration": 4,
    "start_time": "2025-01-06T06:31:29.033Z"
   },
   {
    "duration": 5,
    "start_time": "2025-01-06T06:31:29.039Z"
   },
   {
    "duration": 28,
    "start_time": "2025-01-06T06:31:29.046Z"
   },
   {
    "duration": 198,
    "start_time": "2025-01-06T06:31:29.079Z"
   },
   {
    "duration": 15,
    "start_time": "2025-01-06T06:31:29.279Z"
   },
   {
    "duration": 217,
    "start_time": "2025-01-06T06:31:29.296Z"
   },
   {
    "duration": 3,
    "start_time": "2025-01-06T06:31:29.515Z"
   },
   {
    "duration": 3,
    "start_time": "2025-01-06T06:31:29.520Z"
   },
   {
    "duration": 3,
    "start_time": "2025-01-06T06:31:29.525Z"
   },
   {
    "duration": 64,
    "start_time": "2025-01-06T06:31:29.530Z"
   },
   {
    "duration": 0,
    "start_time": "2025-01-06T06:31:29.595Z"
   },
   {
    "duration": 0,
    "start_time": "2025-01-06T06:31:29.596Z"
   },
   {
    "duration": 0,
    "start_time": "2025-01-06T06:31:29.598Z"
   },
   {
    "duration": 43,
    "start_time": "2025-01-06T06:32:33.764Z"
   },
   {
    "duration": 6,
    "start_time": "2025-01-06T06:33:26.439Z"
   },
   {
    "duration": 309,
    "start_time": "2025-01-06T06:33:31.301Z"
   },
   {
    "duration": 10,
    "start_time": "2025-01-06T06:36:37.430Z"
   },
   {
    "duration": 5,
    "start_time": "2025-01-06T06:38:41.147Z"
   },
   {
    "duration": 850,
    "start_time": "2025-01-06T06:38:42.242Z"
   },
   {
    "duration": 3659805,
    "start_time": "2025-01-06T06:38:47.535Z"
   },
   {
    "duration": 2686,
    "start_time": "2025-01-06T13:24:14.942Z"
   },
   {
    "duration": 635,
    "start_time": "2025-01-06T13:24:17.631Z"
   },
   {
    "duration": 3,
    "start_time": "2025-01-06T13:24:18.267Z"
   },
   {
    "duration": 40,
    "start_time": "2025-01-06T13:24:18.271Z"
   },
   {
    "duration": 71,
    "start_time": "2025-01-06T13:24:18.331Z"
   },
   {
    "duration": 13,
    "start_time": "2025-01-06T13:24:18.404Z"
   },
   {
    "duration": 25,
    "start_time": "2025-01-06T13:24:18.419Z"
   },
   {
    "duration": 19,
    "start_time": "2025-01-06T13:24:18.445Z"
   },
   {
    "duration": 3,
    "start_time": "2025-01-06T13:24:18.466Z"
   },
   {
    "duration": 4,
    "start_time": "2025-01-06T13:24:18.471Z"
   },
   {
    "duration": 4,
    "start_time": "2025-01-06T13:24:18.477Z"
   },
   {
    "duration": 3,
    "start_time": "2025-01-06T13:24:18.482Z"
   },
   {
    "duration": 3,
    "start_time": "2025-01-06T13:24:18.486Z"
   },
   {
    "duration": 39,
    "start_time": "2025-01-06T13:24:18.493Z"
   },
   {
    "duration": 42,
    "start_time": "2025-01-06T13:24:18.534Z"
   },
   {
    "duration": 17,
    "start_time": "2025-01-06T13:24:18.578Z"
   },
   {
    "duration": 43,
    "start_time": "2025-01-06T13:24:18.597Z"
   },
   {
    "duration": 15,
    "start_time": "2025-01-06T13:24:18.642Z"
   },
   {
    "duration": 4,
    "start_time": "2025-01-06T13:24:18.659Z"
   },
   {
    "duration": 4,
    "start_time": "2025-01-06T13:24:18.665Z"
   },
   {
    "duration": 4,
    "start_time": "2025-01-06T13:24:18.670Z"
   },
   {
    "duration": 307,
    "start_time": "2025-01-06T13:24:18.676Z"
   },
   {
    "duration": 251,
    "start_time": "2025-01-06T13:24:18.985Z"
   },
   {
    "duration": 243,
    "start_time": "2025-01-06T13:24:19.238Z"
   },
   {
    "duration": 4,
    "start_time": "2025-01-06T13:24:19.483Z"
   },
   {
    "duration": 5,
    "start_time": "2025-01-06T13:24:19.489Z"
   },
   {
    "duration": 8,
    "start_time": "2025-01-06T13:24:19.495Z"
   },
   {
    "duration": 167,
    "start_time": "2025-01-06T13:24:19.504Z"
   },
   {
    "duration": 20,
    "start_time": "2025-01-06T13:24:19.672Z"
   },
   {
    "duration": 166,
    "start_time": "2025-01-06T13:24:19.694Z"
   },
   {
    "duration": 5,
    "start_time": "2025-01-06T13:24:19.862Z"
   },
   {
    "duration": 5,
    "start_time": "2025-01-06T13:24:19.868Z"
   },
   {
    "duration": 4,
    "start_time": "2025-01-06T13:24:19.874Z"
   },
   {
    "duration": 6,
    "start_time": "2025-01-06T13:24:19.881Z"
   },
   {
    "duration": 11,
    "start_time": "2025-01-06T13:24:19.889Z"
   },
   {
    "duration": 32,
    "start_time": "2025-01-06T13:24:19.902Z"
   },
   {
    "duration": 904,
    "start_time": "2025-01-06T13:24:19.936Z"
   },
   {
    "duration": 918031,
    "start_time": "2025-01-06T13:24:20.842Z"
   },
   {
    "duration": 0,
    "start_time": "2025-01-06T13:39:38.875Z"
   },
   {
    "duration": 0,
    "start_time": "2025-01-06T13:39:38.877Z"
   },
   {
    "duration": 0,
    "start_time": "2025-01-06T13:39:38.878Z"
   },
   {
    "duration": 0,
    "start_time": "2025-01-06T13:39:38.880Z"
   },
   {
    "duration": 0,
    "start_time": "2025-01-06T13:39:38.881Z"
   },
   {
    "duration": 1,
    "start_time": "2025-01-06T13:39:38.882Z"
   },
   {
    "duration": 0,
    "start_time": "2025-01-06T13:39:38.884Z"
   },
   {
    "duration": 1108689,
    "start_time": "2025-01-06T13:39:45.794Z"
   },
   {
    "duration": 796,
    "start_time": "2025-01-06T14:00:47.661Z"
   },
   {
    "duration": 5,
    "start_time": "2025-01-06T14:03:05.229Z"
   },
   {
    "duration": 988,
    "start_time": "2025-01-06T15:54:22.579Z"
   },
   {
    "duration": 510,
    "start_time": "2025-01-06T15:54:23.569Z"
   },
   {
    "duration": 3,
    "start_time": "2025-01-06T15:54:24.080Z"
   },
   {
    "duration": 47,
    "start_time": "2025-01-06T15:54:24.085Z"
   },
   {
    "duration": 17,
    "start_time": "2025-01-06T15:54:24.135Z"
   },
   {
    "duration": 14,
    "start_time": "2025-01-06T15:54:24.153Z"
   },
   {
    "duration": 15,
    "start_time": "2025-01-06T15:54:24.168Z"
   },
   {
    "duration": 14,
    "start_time": "2025-01-06T15:54:24.184Z"
   },
   {
    "duration": 34,
    "start_time": "2025-01-06T15:54:24.200Z"
   },
   {
    "duration": 4,
    "start_time": "2025-01-06T15:54:24.236Z"
   },
   {
    "duration": 4,
    "start_time": "2025-01-06T15:54:24.241Z"
   },
   {
    "duration": 4,
    "start_time": "2025-01-06T15:54:24.247Z"
   },
   {
    "duration": 3,
    "start_time": "2025-01-06T15:54:24.252Z"
   },
   {
    "duration": 6,
    "start_time": "2025-01-06T15:54:24.260Z"
   },
   {
    "duration": 72,
    "start_time": "2025-01-06T15:54:24.268Z"
   },
   {
    "duration": 17,
    "start_time": "2025-01-06T15:54:24.342Z"
   },
   {
    "duration": 22,
    "start_time": "2025-01-06T15:54:24.361Z"
   },
   {
    "duration": 15,
    "start_time": "2025-01-06T15:54:24.385Z"
   },
   {
    "duration": 31,
    "start_time": "2025-01-06T15:54:24.401Z"
   },
   {
    "duration": 4,
    "start_time": "2025-01-06T15:54:24.434Z"
   },
   {
    "duration": 4,
    "start_time": "2025-01-06T15:54:24.440Z"
   },
   {
    "duration": 249,
    "start_time": "2025-01-06T15:54:24.445Z"
   },
   {
    "duration": 261,
    "start_time": "2025-01-06T15:54:24.695Z"
   },
   {
    "duration": 219,
    "start_time": "2025-01-06T15:54:24.958Z"
   },
   {
    "duration": 4,
    "start_time": "2025-01-06T15:54:25.178Z"
   },
   {
    "duration": 6,
    "start_time": "2025-01-06T15:54:25.183Z"
   },
   {
    "duration": 8,
    "start_time": "2025-01-06T15:54:25.190Z"
   },
   {
    "duration": 183,
    "start_time": "2025-01-06T15:54:25.199Z"
   },
   {
    "duration": 17,
    "start_time": "2025-01-06T15:54:25.384Z"
   },
   {
    "duration": 149,
    "start_time": "2025-01-06T15:54:25.402Z"
   },
   {
    "duration": 3,
    "start_time": "2025-01-06T15:54:25.553Z"
   },
   {
    "duration": 3,
    "start_time": "2025-01-06T15:54:25.558Z"
   },
   {
    "duration": 5,
    "start_time": "2025-01-06T15:54:25.562Z"
   },
   {
    "duration": 935,
    "start_time": "2025-01-06T15:54:25.568Z"
   },
   {
    "duration": 0,
    "start_time": "2025-01-06T15:54:26.505Z"
   },
   {
    "duration": 0,
    "start_time": "2025-01-06T15:54:26.507Z"
   },
   {
    "duration": 0,
    "start_time": "2025-01-06T15:54:26.508Z"
   },
   {
    "duration": 0,
    "start_time": "2025-01-06T15:54:26.509Z"
   },
   {
    "duration": 0,
    "start_time": "2025-01-06T15:54:26.511Z"
   },
   {
    "duration": 0,
    "start_time": "2025-01-06T15:54:26.512Z"
   },
   {
    "duration": 0,
    "start_time": "2025-01-06T15:54:26.513Z"
   },
   {
    "duration": 0,
    "start_time": "2025-01-06T15:54:26.531Z"
   },
   {
    "duration": 0,
    "start_time": "2025-01-06T15:54:26.533Z"
   },
   {
    "duration": 0,
    "start_time": "2025-01-06T15:54:26.534Z"
   },
   {
    "duration": 0,
    "start_time": "2025-01-06T15:54:26.535Z"
   },
   {
    "duration": 5,
    "start_time": "2025-01-06T16:04:42.637Z"
   },
   {
    "duration": 11,
    "start_time": "2025-01-06T16:04:54.028Z"
   },
   {
    "duration": 6,
    "start_time": "2025-01-06T16:04:58.198Z"
   },
   {
    "duration": 909,
    "start_time": "2025-01-06T16:05:10.832Z"
   },
   {
    "duration": 1112349,
    "start_time": "2025-01-06T16:05:15.262Z"
   },
   {
    "duration": 4,
    "start_time": "2025-01-06T16:28:03.538Z"
   },
   {
    "duration": 40,
    "start_time": "2025-01-06T16:38:58.137Z"
   },
   {
    "duration": 5,
    "start_time": "2025-01-06T16:44:21.298Z"
   },
   {
    "duration": 1018,
    "start_time": "2025-01-06T16:56:26.661Z"
   },
   {
    "duration": 521,
    "start_time": "2025-01-06T16:56:27.682Z"
   },
   {
    "duration": 3,
    "start_time": "2025-01-06T16:56:28.204Z"
   },
   {
    "duration": 49,
    "start_time": "2025-01-06T16:56:28.209Z"
   },
   {
    "duration": 17,
    "start_time": "2025-01-06T16:56:28.260Z"
   },
   {
    "duration": 14,
    "start_time": "2025-01-06T16:56:28.278Z"
   },
   {
    "duration": 38,
    "start_time": "2025-01-06T16:56:28.293Z"
   },
   {
    "duration": 15,
    "start_time": "2025-01-06T16:56:28.332Z"
   },
   {
    "duration": 3,
    "start_time": "2025-01-06T16:56:28.349Z"
   },
   {
    "duration": 3,
    "start_time": "2025-01-06T16:56:28.356Z"
   },
   {
    "duration": 4,
    "start_time": "2025-01-06T16:56:28.360Z"
   },
   {
    "duration": 3,
    "start_time": "2025-01-06T16:56:28.365Z"
   },
   {
    "duration": 9,
    "start_time": "2025-01-06T16:56:28.369Z"
   },
   {
    "duration": 5,
    "start_time": "2025-01-06T16:56:28.380Z"
   },
   {
    "duration": 4,
    "start_time": "2025-01-06T16:56:28.387Z"
   },
   {
    "duration": 76,
    "start_time": "2025-01-06T16:56:28.392Z"
   },
   {
    "duration": 19,
    "start_time": "2025-01-06T16:56:28.469Z"
   },
   {
    "duration": 22,
    "start_time": "2025-01-06T16:56:28.490Z"
   },
   {
    "duration": 32,
    "start_time": "2025-01-06T16:56:28.514Z"
   },
   {
    "duration": 4,
    "start_time": "2025-01-06T16:56:28.547Z"
   },
   {
    "duration": 4,
    "start_time": "2025-01-06T16:56:28.553Z"
   },
   {
    "duration": 4,
    "start_time": "2025-01-06T16:56:28.559Z"
   },
   {
    "duration": 284,
    "start_time": "2025-01-06T16:56:28.564Z"
   },
   {
    "duration": 242,
    "start_time": "2025-01-06T16:56:28.850Z"
   },
   {
    "duration": 278,
    "start_time": "2025-01-06T16:56:29.093Z"
   },
   {
    "duration": 3,
    "start_time": "2025-01-06T16:56:29.373Z"
   },
   {
    "duration": 5,
    "start_time": "2025-01-06T16:56:29.378Z"
   },
   {
    "duration": 7,
    "start_time": "2025-01-06T16:56:29.389Z"
   },
   {
    "duration": 168,
    "start_time": "2025-01-06T16:56:29.398Z"
   },
   {
    "duration": 18,
    "start_time": "2025-01-06T16:56:29.567Z"
   },
   {
    "duration": 158,
    "start_time": "2025-01-06T16:56:29.587Z"
   },
   {
    "duration": 3,
    "start_time": "2025-01-06T16:56:29.747Z"
   },
   {
    "duration": 3,
    "start_time": "2025-01-06T16:56:29.752Z"
   },
   {
    "duration": 5,
    "start_time": "2025-01-06T16:56:29.757Z"
   },
   {
    "duration": 7,
    "start_time": "2025-01-06T16:56:29.764Z"
   },
   {
    "duration": 16,
    "start_time": "2025-01-06T16:56:29.773Z"
   },
   {
    "duration": 39,
    "start_time": "2025-01-06T16:56:29.792Z"
   },
   {
    "duration": 900,
    "start_time": "2025-01-06T16:56:29.833Z"
   },
   {
    "duration": 1003,
    "start_time": "2025-01-06T17:06:35.174Z"
   },
   {
    "duration": 514,
    "start_time": "2025-01-06T17:06:36.179Z"
   },
   {
    "duration": 3,
    "start_time": "2025-01-06T17:06:36.694Z"
   },
   {
    "duration": 47,
    "start_time": "2025-01-06T17:06:36.699Z"
   },
   {
    "duration": 21,
    "start_time": "2025-01-06T17:06:36.748Z"
   },
   {
    "duration": 15,
    "start_time": "2025-01-06T17:06:36.771Z"
   },
   {
    "duration": 14,
    "start_time": "2025-01-06T17:06:36.788Z"
   },
   {
    "duration": 40,
    "start_time": "2025-01-06T17:06:36.804Z"
   },
   {
    "duration": 4,
    "start_time": "2025-01-06T17:06:36.846Z"
   },
   {
    "duration": 4,
    "start_time": "2025-01-06T17:06:36.851Z"
   },
   {
    "duration": 4,
    "start_time": "2025-01-06T17:06:36.856Z"
   },
   {
    "duration": 3,
    "start_time": "2025-01-06T17:06:36.861Z"
   },
   {
    "duration": 3,
    "start_time": "2025-01-06T17:06:36.866Z"
   },
   {
    "duration": 4,
    "start_time": "2025-01-06T17:06:36.872Z"
   },
   {
    "duration": 266,
    "start_time": "2025-01-06T17:06:36.877Z"
   },
   {
    "duration": 0,
    "start_time": "2025-01-06T17:06:37.145Z"
   },
   {
    "duration": 0,
    "start_time": "2025-01-06T17:06:37.146Z"
   },
   {
    "duration": 0,
    "start_time": "2025-01-06T17:06:37.147Z"
   },
   {
    "duration": 1009,
    "start_time": "2025-01-06T17:12:07.660Z"
   },
   {
    "duration": 509,
    "start_time": "2025-01-06T17:12:08.672Z"
   },
   {
    "duration": 3,
    "start_time": "2025-01-06T17:12:09.183Z"
   },
   {
    "duration": 48,
    "start_time": "2025-01-06T17:12:09.188Z"
   },
   {
    "duration": 17,
    "start_time": "2025-01-06T17:12:09.240Z"
   },
   {
    "duration": 15,
    "start_time": "2025-01-06T17:12:09.259Z"
   },
   {
    "duration": 14,
    "start_time": "2025-01-06T17:12:09.275Z"
   },
   {
    "duration": 44,
    "start_time": "2025-01-06T17:12:09.291Z"
   },
   {
    "duration": 5,
    "start_time": "2025-01-06T17:12:09.336Z"
   },
   {
    "duration": 948,
    "start_time": "2025-01-06T17:12:09.342Z"
   },
   {
    "duration": 0,
    "start_time": "2025-01-06T17:12:10.292Z"
   },
   {
    "duration": 0,
    "start_time": "2025-01-06T17:12:10.293Z"
   },
   {
    "duration": 3,
    "start_time": "2025-01-06T17:12:23.879Z"
   },
   {
    "duration": 3,
    "start_time": "2025-01-06T17:12:24.421Z"
   },
   {
    "duration": 14,
    "start_time": "2025-01-06T17:14:14.659Z"
   },
   {
    "duration": 13,
    "start_time": "2025-01-06T17:14:27.182Z"
   },
   {
    "duration": 16,
    "start_time": "2025-01-06T17:14:55.132Z"
   },
   {
    "duration": 13,
    "start_time": "2025-01-06T17:15:57.616Z"
   },
   {
    "duration": 13,
    "start_time": "2025-01-06T17:16:15.018Z"
   },
   {
    "duration": 3,
    "start_time": "2025-01-06T17:16:30.474Z"
   },
   {
    "duration": 15,
    "start_time": "2025-01-06T17:16:34.053Z"
   },
   {
    "duration": 14,
    "start_time": "2025-01-06T17:17:12.178Z"
   },
   {
    "duration": 3,
    "start_time": "2025-01-06T17:17:29.681Z"
   },
   {
    "duration": 15,
    "start_time": "2025-01-06T17:17:31.102Z"
   },
   {
    "duration": 3,
    "start_time": "2025-01-06T17:18:11.454Z"
   },
   {
    "duration": 14,
    "start_time": "2025-01-06T17:18:17.478Z"
   },
   {
    "duration": 3,
    "start_time": "2025-01-06T17:19:00.448Z"
   },
   {
    "duration": 4,
    "start_time": "2025-01-06T17:19:10.642Z"
   },
   {
    "duration": 13,
    "start_time": "2025-01-06T17:20:40.088Z"
   },
   {
    "duration": 35,
    "start_time": "2025-01-06T17:20:55.998Z"
   },
   {
    "duration": 4,
    "start_time": "2025-01-06T17:21:05.473Z"
   },
   {
    "duration": 3,
    "start_time": "2025-01-06T17:21:06.035Z"
   },
   {
    "duration": 5,
    "start_time": "2025-01-06T17:21:06.864Z"
   },
   {
    "duration": 37,
    "start_time": "2025-01-06T17:21:07.818Z"
   },
   {
    "duration": 6,
    "start_time": "2025-01-06T17:21:34.299Z"
   },
   {
    "duration": 1038,
    "start_time": "2025-01-06T17:49:46.765Z"
   },
   {
    "duration": 518,
    "start_time": "2025-01-06T17:49:47.805Z"
   },
   {
    "duration": 6,
    "start_time": "2025-01-06T17:49:48.325Z"
   },
   {
    "duration": 43,
    "start_time": "2025-01-06T17:49:48.333Z"
   },
   {
    "duration": 18,
    "start_time": "2025-01-06T17:49:48.379Z"
   },
   {
    "duration": 13,
    "start_time": "2025-01-06T17:49:48.399Z"
   },
   {
    "duration": 15,
    "start_time": "2025-01-06T17:49:48.432Z"
   },
   {
    "duration": 14,
    "start_time": "2025-01-06T17:49:48.449Z"
   },
   {
    "duration": 4,
    "start_time": "2025-01-06T17:49:48.465Z"
   },
   {
    "duration": 4,
    "start_time": "2025-01-06T17:49:48.470Z"
   },
   {
    "duration": 4,
    "start_time": "2025-01-06T17:49:48.476Z"
   },
   {
    "duration": 4,
    "start_time": "2025-01-06T17:49:48.482Z"
   },
   {
    "duration": 43,
    "start_time": "2025-01-06T17:49:48.489Z"
   },
   {
    "duration": 44,
    "start_time": "2025-01-06T17:52:33.797Z"
   },
   {
    "duration": 18,
    "start_time": "2025-01-06T17:52:34.103Z"
   },
   {
    "duration": 24,
    "start_time": "2025-01-06T17:52:34.694Z"
   },
   {
    "duration": 15,
    "start_time": "2025-01-06T17:52:35.319Z"
   },
   {
    "duration": 4,
    "start_time": "2025-01-06T17:52:36.744Z"
   },
   {
    "duration": 3,
    "start_time": "2025-01-06T17:52:37.251Z"
   },
   {
    "duration": 4,
    "start_time": "2025-01-06T17:52:37.767Z"
   },
   {
    "duration": 276,
    "start_time": "2025-01-06T17:52:38.310Z"
   },
   {
    "duration": 222,
    "start_time": "2025-01-06T17:52:39.960Z"
   },
   {
    "duration": 220,
    "start_time": "2025-01-06T17:52:46.250Z"
   },
   {
    "duration": 3,
    "start_time": "2025-01-06T17:52:50.179Z"
   },
   {
    "duration": 5,
    "start_time": "2025-01-06T17:52:53.897Z"
   },
   {
    "duration": 7,
    "start_time": "2025-01-06T17:52:54.288Z"
   },
   {
    "duration": 142,
    "start_time": "2025-01-06T17:52:54.961Z"
   },
   {
    "duration": 17,
    "start_time": "2025-01-06T17:53:02.107Z"
   },
   {
    "duration": 144,
    "start_time": "2025-01-06T17:53:05.386Z"
   },
   {
    "duration": 3,
    "start_time": "2025-01-06T17:53:13.942Z"
   },
   {
    "duration": 2,
    "start_time": "2025-01-06T17:53:17.284Z"
   },
   {
    "duration": 4,
    "start_time": "2025-01-06T17:53:26.110Z"
   },
   {
    "duration": 6,
    "start_time": "2025-01-06T17:53:26.970Z"
   },
   {
    "duration": 11,
    "start_time": "2025-01-06T17:53:34.127Z"
   },
   {
    "duration": 6,
    "start_time": "2025-01-06T17:53:37.817Z"
   },
   {
    "duration": 873,
    "start_time": "2025-01-06T17:53:43.862Z"
   },
   {
    "duration": 3680399,
    "start_time": "2025-01-06T17:53:56.162Z"
   },
   {
    "duration": 1116858,
    "start_time": "2025-01-06T19:04:23.559Z"
   },
   {
    "duration": 986,
    "start_time": "2025-01-06T19:23:10.934Z"
   },
   {
    "duration": 0,
    "start_time": "2025-01-06T19:23:11.921Z"
   },
   {
    "duration": 5,
    "start_time": "2025-01-06T19:36:47.019Z"
   },
   {
    "duration": 4,
    "start_time": "2025-01-06T19:44:34.145Z"
   },
   {
    "duration": 120,
    "start_time": "2025-01-06T19:48:56.570Z"
   },
   {
    "duration": 89,
    "start_time": "2025-01-06T19:49:23.282Z"
   },
   {
    "duration": 47,
    "start_time": "2025-01-06T19:49:43.127Z"
   },
   {
    "duration": 5,
    "start_time": "2025-01-06T19:50:18.810Z"
   },
   {
    "duration": 4,
    "start_time": "2025-01-06T19:50:30.685Z"
   },
   {
    "duration": 53,
    "start_time": "2025-01-06T19:50:43.192Z"
   },
   {
    "duration": 3,
    "start_time": "2025-01-06T20:07:19.065Z"
   },
   {
    "duration": 4,
    "start_time": "2025-01-06T20:07:19.658Z"
   },
   {
    "duration": 4,
    "start_time": "2025-01-06T20:07:36.587Z"
   },
   {
    "duration": 45,
    "start_time": "2025-01-06T20:08:29.979Z"
   },
   {
    "duration": 14,
    "start_time": "2025-01-06T20:08:53.724Z"
   },
   {
    "duration": 14,
    "start_time": "2025-01-06T20:09:03.995Z"
   },
   {
    "duration": 42,
    "start_time": "2025-01-06T20:09:16.327Z"
   },
   {
    "duration": 4,
    "start_time": "2025-01-06T20:10:06.203Z"
   },
   {
    "duration": 773617,
    "start_time": "2025-01-06T20:10:10.158Z"
   },
   {
    "duration": 252219,
    "start_time": "2025-01-06T20:45:08.698Z"
   },
   {
    "duration": 5,
    "start_time": "2025-01-06T20:56:12.699Z"
   },
   {
    "duration": 250887,
    "start_time": "2025-01-06T20:56:14.273Z"
   },
   {
    "duration": 3,
    "start_time": "2025-01-06T21:05:16.604Z"
   },
   {
    "duration": 2823,
    "start_time": "2025-01-07T00:39:57.077Z"
   },
   {
    "duration": 1109,
    "start_time": "2025-01-07T00:39:59.903Z"
   },
   {
    "duration": 3,
    "start_time": "2025-01-07T00:40:01.014Z"
   },
   {
    "duration": 47,
    "start_time": "2025-01-07T00:40:01.018Z"
   },
   {
    "duration": 16,
    "start_time": "2025-01-07T00:40:01.069Z"
   },
   {
    "duration": 14,
    "start_time": "2025-01-07T00:40:01.086Z"
   },
   {
    "duration": 34,
    "start_time": "2025-01-07T00:40:01.102Z"
   },
   {
    "duration": 14,
    "start_time": "2025-01-07T00:40:01.138Z"
   },
   {
    "duration": 4,
    "start_time": "2025-01-07T00:40:01.153Z"
   },
   {
    "duration": 3,
    "start_time": "2025-01-07T00:40:01.159Z"
   },
   {
    "duration": 5,
    "start_time": "2025-01-07T00:40:01.164Z"
   },
   {
    "duration": 3,
    "start_time": "2025-01-07T00:40:01.170Z"
   },
   {
    "duration": 4,
    "start_time": "2025-01-07T00:40:01.175Z"
   },
   {
    "duration": 4,
    "start_time": "2025-01-07T00:40:01.184Z"
   },
   {
    "duration": 43,
    "start_time": "2025-01-07T00:40:01.190Z"
   },
   {
    "duration": 5,
    "start_time": "2025-01-07T00:40:01.235Z"
   },
   {
    "duration": 4,
    "start_time": "2025-01-07T00:40:01.242Z"
   },
   {
    "duration": 44,
    "start_time": "2025-01-07T00:40:01.248Z"
   },
   {
    "duration": 43,
    "start_time": "2025-01-07T00:40:01.294Z"
   },
   {
    "duration": 24,
    "start_time": "2025-01-07T00:40:01.339Z"
   },
   {
    "duration": 17,
    "start_time": "2025-01-07T00:40:01.364Z"
   },
   {
    "duration": 5,
    "start_time": "2025-01-07T00:40:01.383Z"
   },
   {
    "duration": 4,
    "start_time": "2025-01-07T00:40:01.390Z"
   },
   {
    "duration": 36,
    "start_time": "2025-01-07T00:40:01.396Z"
   },
   {
    "duration": 255,
    "start_time": "2025-01-07T00:40:01.433Z"
   },
   {
    "duration": 272,
    "start_time": "2025-01-07T00:40:01.689Z"
   },
   {
    "duration": 227,
    "start_time": "2025-01-07T00:40:01.964Z"
   },
   {
    "duration": 4,
    "start_time": "2025-01-07T00:40:02.192Z"
   },
   {
    "duration": 6,
    "start_time": "2025-01-07T00:40:02.198Z"
   },
   {
    "duration": 30,
    "start_time": "2025-01-07T00:40:02.205Z"
   },
   {
    "duration": 160,
    "start_time": "2025-01-07T00:40:02.237Z"
   },
   {
    "duration": 18,
    "start_time": "2025-01-07T00:40:02.399Z"
   },
   {
    "duration": 215,
    "start_time": "2025-01-07T00:40:02.419Z"
   },
   {
    "duration": 4,
    "start_time": "2025-01-07T00:40:02.636Z"
   },
   {
    "duration": 4,
    "start_time": "2025-01-07T00:40:02.641Z"
   },
   {
    "duration": 4,
    "start_time": "2025-01-07T00:40:02.647Z"
   },
   {
    "duration": 6,
    "start_time": "2025-01-07T00:40:02.653Z"
   },
   {
    "duration": 10,
    "start_time": "2025-01-07T00:40:02.661Z"
   },
   {
    "duration": 6,
    "start_time": "2025-01-07T00:40:02.672Z"
   },
   {
    "duration": 1057,
    "start_time": "2025-01-07T00:40:02.680Z"
   },
   {
    "duration": 158,
    "start_time": "2025-01-07T03:17:26.193Z"
   },
   {
    "duration": 2861,
    "start_time": "2025-01-07T03:17:42.925Z"
   },
   {
    "duration": 641,
    "start_time": "2025-01-07T03:17:45.789Z"
   },
   {
    "duration": 2,
    "start_time": "2025-01-07T03:17:46.433Z"
   },
   {
    "duration": 40,
    "start_time": "2025-01-07T03:17:46.438Z"
   },
   {
    "duration": 33,
    "start_time": "2025-01-07T03:17:46.481Z"
   },
   {
    "duration": 14,
    "start_time": "2025-01-07T03:17:46.516Z"
   },
   {
    "duration": 14,
    "start_time": "2025-01-07T03:17:46.532Z"
   },
   {
    "duration": 14,
    "start_time": "2025-01-07T03:17:46.548Z"
   },
   {
    "duration": 4,
    "start_time": "2025-01-07T03:17:46.564Z"
   },
   {
    "duration": 4,
    "start_time": "2025-01-07T03:17:46.570Z"
   },
   {
    "duration": 38,
    "start_time": "2025-01-07T03:17:46.575Z"
   },
   {
    "duration": 4,
    "start_time": "2025-01-07T03:17:46.615Z"
   },
   {
    "duration": 4,
    "start_time": "2025-01-07T03:17:46.621Z"
   },
   {
    "duration": 6,
    "start_time": "2025-01-07T03:17:46.628Z"
   },
   {
    "duration": 3,
    "start_time": "2025-01-07T03:17:46.636Z"
   },
   {
    "duration": 5,
    "start_time": "2025-01-07T03:17:46.640Z"
   },
   {
    "duration": 3,
    "start_time": "2025-01-07T03:17:46.647Z"
   },
   {
    "duration": 87,
    "start_time": "2025-01-07T03:17:46.652Z"
   },
   {
    "duration": 20,
    "start_time": "2025-01-07T03:17:46.742Z"
   },
   {
    "duration": 23,
    "start_time": "2025-01-07T03:17:46.764Z"
   },
   {
    "duration": 33,
    "start_time": "2025-01-07T03:17:46.789Z"
   },
   {
    "duration": 5,
    "start_time": "2025-01-07T03:17:46.823Z"
   },
   {
    "duration": 4,
    "start_time": "2025-01-07T03:17:46.830Z"
   },
   {
    "duration": 4,
    "start_time": "2025-01-07T03:17:46.836Z"
   },
   {
    "duration": 287,
    "start_time": "2025-01-07T03:17:46.843Z"
   },
   {
    "duration": 359,
    "start_time": "2025-01-07T03:19:37.961Z"
   },
   {
    "duration": 276,
    "start_time": "2025-01-07T03:31:14.295Z"
   },
   {
    "duration": 252,
    "start_time": "2025-01-07T03:31:26.417Z"
   },
   {
    "duration": 2742,
    "start_time": "2025-01-07T22:39:20.475Z"
   },
   {
    "duration": 596,
    "start_time": "2025-01-07T22:39:23.219Z"
   },
   {
    "duration": 2,
    "start_time": "2025-01-07T22:39:23.819Z"
   },
   {
    "duration": 40,
    "start_time": "2025-01-07T22:39:23.824Z"
   },
   {
    "duration": 21,
    "start_time": "2025-01-07T22:39:23.867Z"
   },
   {
    "duration": 15,
    "start_time": "2025-01-07T22:39:23.890Z"
   },
   {
    "duration": 13,
    "start_time": "2025-01-07T22:39:23.925Z"
   },
   {
    "duration": 15,
    "start_time": "2025-01-07T22:39:23.940Z"
   },
   {
    "duration": 5,
    "start_time": "2025-01-07T22:39:23.957Z"
   },
   {
    "duration": 3,
    "start_time": "2025-01-07T22:39:23.964Z"
   },
   {
    "duration": 4,
    "start_time": "2025-01-07T22:39:23.969Z"
   },
   {
    "duration": 3,
    "start_time": "2025-01-07T22:39:23.976Z"
   },
   {
    "duration": 4,
    "start_time": "2025-01-07T22:39:23.982Z"
   },
   {
    "duration": 5,
    "start_time": "2025-01-07T22:39:24.025Z"
   },
   {
    "duration": 3,
    "start_time": "2025-01-07T22:39:24.032Z"
   },
   {
    "duration": 243,
    "start_time": "2025-01-07T22:39:24.036Z"
   },
   {
    "duration": 6,
    "start_time": "2025-01-07T22:39:42.215Z"
   },
   {
    "duration": 4,
    "start_time": "2025-01-07T22:42:00.016Z"
   },
   {
    "duration": 3,
    "start_time": "2025-01-07T22:42:05.477Z"
   },
   {
    "duration": 43,
    "start_time": "2025-01-07T22:42:23.313Z"
   },
   {
    "duration": 15,
    "start_time": "2025-01-07T22:42:54.846Z"
   },
   {
    "duration": 19,
    "start_time": "2025-01-07T22:43:05.232Z"
   },
   {
    "duration": 24,
    "start_time": "2025-01-07T22:43:18.339Z"
   },
   {
    "duration": 16,
    "start_time": "2025-01-07T22:43:25.664Z"
   },
   {
    "duration": 4,
    "start_time": "2025-01-07T22:43:35.574Z"
   },
   {
    "duration": 4,
    "start_time": "2025-01-07T22:48:09.781Z"
   },
   {
    "duration": 476,
    "start_time": "2025-01-07T22:48:09.787Z"
   },
   {
    "duration": 3,
    "start_time": "2025-01-07T22:48:10.265Z"
   },
   {
    "duration": 37,
    "start_time": "2025-01-07T22:48:10.270Z"
   },
   {
    "duration": 23,
    "start_time": "2025-01-07T22:48:10.309Z"
   },
   {
    "duration": 14,
    "start_time": "2025-01-07T22:48:10.333Z"
   },
   {
    "duration": 15,
    "start_time": "2025-01-07T22:48:10.348Z"
   },
   {
    "duration": 16,
    "start_time": "2025-01-07T22:48:10.364Z"
   },
   {
    "duration": 5,
    "start_time": "2025-01-07T22:48:10.381Z"
   },
   {
    "duration": 3,
    "start_time": "2025-01-07T22:48:10.424Z"
   },
   {
    "duration": 5,
    "start_time": "2025-01-07T22:48:10.428Z"
   },
   {
    "duration": 4,
    "start_time": "2025-01-07T22:48:10.434Z"
   },
   {
    "duration": 3,
    "start_time": "2025-01-07T22:48:10.440Z"
   },
   {
    "duration": 5,
    "start_time": "2025-01-07T22:48:10.445Z"
   },
   {
    "duration": 3,
    "start_time": "2025-01-07T22:48:10.452Z"
   },
   {
    "duration": 5,
    "start_time": "2025-01-07T22:48:10.457Z"
   },
   {
    "duration": 3,
    "start_time": "2025-01-07T22:48:10.464Z"
   },
   {
    "duration": 85,
    "start_time": "2025-01-07T22:48:10.468Z"
   },
   {
    "duration": 18,
    "start_time": "2025-01-07T22:48:10.555Z"
   },
   {
    "duration": 23,
    "start_time": "2025-01-07T22:48:10.575Z"
   },
   {
    "duration": 32,
    "start_time": "2025-01-07T22:48:10.600Z"
   },
   {
    "duration": 4,
    "start_time": "2025-01-07T22:48:10.633Z"
   },
   {
    "duration": 4,
    "start_time": "2025-01-07T22:48:10.638Z"
   },
   {
    "duration": 345,
    "start_time": "2025-01-07T22:48:10.644Z"
   },
   {
    "duration": 5,
    "start_time": "2025-01-07T22:48:41.017Z"
   },
   {
    "duration": 280,
    "start_time": "2025-01-07T22:57:28.699Z"
   },
   {
    "duration": 333,
    "start_time": "2025-01-07T22:57:35.015Z"
   },
   {
    "duration": 240,
    "start_time": "2025-01-07T22:57:37.140Z"
   },
   {
    "duration": 300,
    "start_time": "2025-01-07T22:58:02.200Z"
   },
   {
    "duration": 42,
    "start_time": "2025-01-07T22:58:51.261Z"
   },
   {
    "duration": 280,
    "start_time": "2025-01-07T22:59:02.022Z"
   },
   {
    "duration": 4,
    "start_time": "2025-01-07T22:59:11.097Z"
   },
   {
    "duration": 15,
    "start_time": "2025-01-07T22:59:11.916Z"
   },
   {
    "duration": 6,
    "start_time": "2025-01-07T22:59:23.543Z"
   },
   {
    "duration": 8,
    "start_time": "2025-01-07T22:59:30.202Z"
   },
   {
    "duration": 165,
    "start_time": "2025-01-07T22:59:36.677Z"
   },
   {
    "duration": 294,
    "start_time": "2025-01-07T23:00:06.594Z"
   },
   {
    "duration": 48,
    "start_time": "2025-01-07T23:00:40.344Z"
   },
   {
    "duration": 4,
    "start_time": "2025-01-07T23:02:05.849Z"
   },
   {
    "duration": 2809,
    "start_time": "2025-01-08T03:40:58.851Z"
   },
   {
    "duration": 624,
    "start_time": "2025-01-08T03:41:01.663Z"
   },
   {
    "duration": 3,
    "start_time": "2025-01-08T03:41:02.288Z"
   },
   {
    "duration": 45,
    "start_time": "2025-01-08T03:41:02.293Z"
   },
   {
    "duration": 16,
    "start_time": "2025-01-08T03:41:02.340Z"
   },
   {
    "duration": 14,
    "start_time": "2025-01-08T03:41:02.358Z"
   },
   {
    "duration": 35,
    "start_time": "2025-01-08T03:41:02.374Z"
   },
   {
    "duration": 19,
    "start_time": "2025-01-08T03:41:02.411Z"
   },
   {
    "duration": 4,
    "start_time": "2025-01-08T03:41:02.432Z"
   },
   {
    "duration": 5,
    "start_time": "2025-01-08T03:41:02.440Z"
   },
   {
    "duration": 6,
    "start_time": "2025-01-08T03:41:02.447Z"
   },
   {
    "duration": 4,
    "start_time": "2025-01-08T03:41:02.454Z"
   },
   {
    "duration": 5,
    "start_time": "2025-01-08T03:41:02.459Z"
   },
   {
    "duration": 42,
    "start_time": "2025-01-08T03:41:02.466Z"
   },
   {
    "duration": 3,
    "start_time": "2025-01-08T03:41:02.511Z"
   },
   {
    "duration": 5,
    "start_time": "2025-01-08T03:41:02.516Z"
   },
   {
    "duration": 3,
    "start_time": "2025-01-08T03:41:02.523Z"
   },
   {
    "duration": 42,
    "start_time": "2025-01-08T03:41:02.527Z"
   },
   {
    "duration": 47,
    "start_time": "2025-01-08T03:41:02.571Z"
   },
   {
    "duration": 24,
    "start_time": "2025-01-08T03:41:02.620Z"
   },
   {
    "duration": 17,
    "start_time": "2025-01-08T03:41:02.645Z"
   },
   {
    "duration": 4,
    "start_time": "2025-01-08T03:41:02.663Z"
   },
   {
    "duration": 298,
    "start_time": "2025-01-08T03:41:02.669Z"
   },
   {
    "duration": 274,
    "start_time": "2025-01-08T03:41:02.970Z"
   },
   {
    "duration": 217,
    "start_time": "2025-01-08T03:41:03.247Z"
   },
   {
    "duration": 3,
    "start_time": "2025-01-08T03:41:03.467Z"
   },
   {
    "duration": 6,
    "start_time": "2025-01-08T03:41:03.472Z"
   },
   {
    "duration": 7,
    "start_time": "2025-01-08T03:41:03.504Z"
   },
   {
    "duration": 153,
    "start_time": "2025-01-08T03:41:03.512Z"
   },
   {
    "duration": 676,
    "start_time": "2025-01-08T03:41:03.667Z"
   },
   {
    "duration": 0,
    "start_time": "2025-01-08T03:41:04.346Z"
   },
   {
    "duration": 0,
    "start_time": "2025-01-08T03:41:04.348Z"
   },
   {
    "duration": 0,
    "start_time": "2025-01-08T03:41:04.349Z"
   },
   {
    "duration": 0,
    "start_time": "2025-01-08T03:41:04.351Z"
   },
   {
    "duration": 0,
    "start_time": "2025-01-08T03:41:04.352Z"
   },
   {
    "duration": 0,
    "start_time": "2025-01-08T03:41:04.353Z"
   },
   {
    "duration": 0,
    "start_time": "2025-01-08T03:41:04.354Z"
   },
   {
    "duration": 0,
    "start_time": "2025-01-08T03:41:04.355Z"
   },
   {
    "duration": 0,
    "start_time": "2025-01-08T03:41:04.356Z"
   },
   {
    "duration": 0,
    "start_time": "2025-01-08T03:41:04.358Z"
   },
   {
    "duration": 0,
    "start_time": "2025-01-08T03:41:04.359Z"
   },
   {
    "duration": 0,
    "start_time": "2025-01-08T03:41:04.360Z"
   },
   {
    "duration": 0,
    "start_time": "2025-01-08T03:41:04.361Z"
   },
   {
    "duration": 0,
    "start_time": "2025-01-08T03:41:04.361Z"
   },
   {
    "duration": 0,
    "start_time": "2025-01-08T03:41:04.363Z"
   },
   {
    "duration": 0,
    "start_time": "2025-01-08T03:41:04.364Z"
   },
   {
    "duration": 0,
    "start_time": "2025-01-08T03:41:04.366Z"
   },
   {
    "duration": 0,
    "start_time": "2025-01-08T03:41:04.367Z"
   },
   {
    "duration": 0,
    "start_time": "2025-01-08T03:41:04.405Z"
   },
   {
    "duration": 0,
    "start_time": "2025-01-08T03:41:04.406Z"
   },
   {
    "duration": 0,
    "start_time": "2025-01-08T03:41:04.407Z"
   },
   {
    "duration": 4,
    "start_time": "2025-01-08T03:41:31.941Z"
   },
   {
    "duration": 4,
    "start_time": "2025-01-08T03:42:00.748Z"
   },
   {
    "duration": 57,
    "start_time": "2025-01-08T03:42:58.626Z"
   },
   {
    "duration": 51,
    "start_time": "2025-01-08T03:43:57.075Z"
   },
   {
    "duration": 47,
    "start_time": "2025-01-08T03:44:07.990Z"
   },
   {
    "duration": 20,
    "start_time": "2025-01-08T03:45:01.701Z"
   },
   {
    "duration": 212,
    "start_time": "2025-01-08T03:45:08.046Z"
   },
   {
    "duration": 141,
    "start_time": "2025-01-08T03:45:28.462Z"
   },
   {
    "duration": 677,
    "start_time": "2025-01-08T03:45:44.579Z"
   },
   {
    "duration": 16,
    "start_time": "2025-01-08T03:46:31.995Z"
   },
   {
    "duration": 10,
    "start_time": "2025-01-08T03:46:53.681Z"
   },
   {
    "duration": 3,
    "start_time": "2025-01-08T03:47:02.952Z"
   },
   {
    "duration": 22,
    "start_time": "2025-01-08T03:47:04.118Z"
   },
   {
    "duration": 348,
    "start_time": "2025-01-08T03:47:19.031Z"
   },
   {
    "duration": 5,
    "start_time": "2025-01-08T03:50:38.519Z"
   },
   {
    "duration": 8,
    "start_time": "2025-01-08T03:50:43.816Z"
   },
   {
    "duration": 362,
    "start_time": "2025-01-08T03:53:34.679Z"
   },
   {
    "duration": 5,
    "start_time": "2025-01-08T03:54:30.739Z"
   },
   {
    "duration": 382,
    "start_time": "2025-01-08T03:55:03.609Z"
   },
   {
    "duration": 4,
    "start_time": "2025-01-08T04:01:11.725Z"
   },
   {
    "duration": 315,
    "start_time": "2025-01-08T04:06:09.080Z"
   },
   {
    "duration": 86,
    "start_time": "2025-01-08T04:08:14.630Z"
   },
   {
    "duration": 86,
    "start_time": "2025-01-08T04:10:56.156Z"
   },
   {
    "duration": 43,
    "start_time": "2025-01-08T04:12:41.132Z"
   },
   {
    "duration": 663,
    "start_time": "2025-01-08T04:13:33.495Z"
   },
   {
    "duration": 7,
    "start_time": "2025-01-08T04:17:15.980Z"
   },
   {
    "duration": 8276,
    "start_time": "2025-01-08T04:18:43.439Z"
   },
   {
    "duration": 48,
    "start_time": "2025-01-08T04:29:24.707Z"
   },
   {
    "duration": 54,
    "start_time": "2025-01-08T04:29:40.614Z"
   },
   {
    "duration": 66,
    "start_time": "2025-01-08T04:34:53.773Z"
   },
   {
    "duration": 64,
    "start_time": "2025-01-08T04:35:13.446Z"
   },
   {
    "duration": 4,
    "start_time": "2025-01-08T04:35:36.601Z"
   },
   {
    "duration": 5,
    "start_time": "2025-01-08T04:35:40.017Z"
   },
   {
    "duration": 57,
    "start_time": "2025-01-08T04:36:24.875Z"
   },
   {
    "duration": 84,
    "start_time": "2025-01-08T04:50:05.654Z"
   },
   {
    "duration": 85,
    "start_time": "2025-01-08T04:54:47.143Z"
   },
   {
    "duration": 5,
    "start_time": "2025-01-08T04:58:18.056Z"
   },
   {
    "duration": 76,
    "start_time": "2025-01-08T04:58:45.351Z"
   },
   {
    "duration": 1194,
    "start_time": "2025-01-08T05:07:07.267Z"
   },
   {
    "duration": 162,
    "start_time": "2025-01-08T11:57:36.870Z"
   },
   {
    "duration": 2735,
    "start_time": "2025-01-08T11:57:56.156Z"
   },
   {
    "duration": 602,
    "start_time": "2025-01-08T11:57:58.894Z"
   },
   {
    "duration": 3,
    "start_time": "2025-01-08T11:57:59.497Z"
   },
   {
    "duration": 38,
    "start_time": "2025-01-08T11:57:59.505Z"
   },
   {
    "duration": 17,
    "start_time": "2025-01-08T11:57:59.546Z"
   },
   {
    "duration": 13,
    "start_time": "2025-01-08T11:57:59.565Z"
   },
   {
    "duration": 38,
    "start_time": "2025-01-08T11:57:59.580Z"
   },
   {
    "duration": 15,
    "start_time": "2025-01-08T11:57:59.621Z"
   },
   {
    "duration": 4,
    "start_time": "2025-01-08T11:57:59.638Z"
   },
   {
    "duration": 4,
    "start_time": "2025-01-08T11:57:59.643Z"
   },
   {
    "duration": 4,
    "start_time": "2025-01-08T11:57:59.648Z"
   },
   {
    "duration": 3,
    "start_time": "2025-01-08T11:57:59.654Z"
   },
   {
    "duration": 4,
    "start_time": "2025-01-08T11:57:59.659Z"
   },
   {
    "duration": 6,
    "start_time": "2025-01-08T11:57:59.706Z"
   },
   {
    "duration": 4,
    "start_time": "2025-01-08T11:57:59.713Z"
   },
   {
    "duration": 4,
    "start_time": "2025-01-08T11:57:59.719Z"
   },
   {
    "duration": 2,
    "start_time": "2025-01-08T11:57:59.725Z"
   },
   {
    "duration": 42,
    "start_time": "2025-01-08T11:57:59.729Z"
   },
   {
    "duration": 51,
    "start_time": "2025-01-08T11:57:59.773Z"
   },
   {
    "duration": 22,
    "start_time": "2025-01-08T11:57:59.826Z"
   },
   {
    "duration": 15,
    "start_time": "2025-01-08T11:57:59.850Z"
   },
   {
    "duration": 3,
    "start_time": "2025-01-08T11:57:59.869Z"
   },
   {
    "duration": 1419,
    "start_time": "2025-01-08T11:57:59.874Z"
   },
   {
    "duration": 262,
    "start_time": "2025-01-08T11:58:01.295Z"
   },
   {
    "duration": 249,
    "start_time": "2025-01-08T11:58:01.559Z"
   },
   {
    "duration": 3,
    "start_time": "2025-01-08T11:58:01.810Z"
   },
   {
    "duration": 8,
    "start_time": "2025-01-08T11:58:01.815Z"
   },
   {
    "duration": 7,
    "start_time": "2025-01-08T11:58:01.825Z"
   },
   {
    "duration": 7915,
    "start_time": "2025-01-08T11:58:01.834Z"
   },
   {
    "duration": 18,
    "start_time": "2025-01-08T11:58:09.751Z"
   },
   {
    "duration": 12,
    "start_time": "2025-01-08T11:58:17.816Z"
   },
   {
    "duration": 715,
    "start_time": "2025-01-08T11:58:19.755Z"
   },
   {
    "duration": 6,
    "start_time": "2025-01-08T11:58:45.705Z"
   },
   {
    "duration": 7,
    "start_time": "2025-01-08T11:58:46.842Z"
   },
   {
    "duration": 4,
    "start_time": "2025-01-08T11:58:51.947Z"
   },
   {
    "duration": 1303,
    "start_time": "2025-01-08T11:58:52.768Z"
   },
   {
    "duration": 281,
    "start_time": "2025-01-08T12:01:41.591Z"
   },
   {
    "duration": 4,
    "start_time": "2025-01-08T12:02:53.219Z"
   },
   {
    "duration": 22,
    "start_time": "2025-01-08T12:04:49.622Z"
   },
   {
    "duration": 2,
    "start_time": "2025-01-08T12:05:21.922Z"
   },
   {
    "duration": 11,
    "start_time": "2025-01-08T12:05:30.808Z"
   },
   {
    "duration": 292,
    "start_time": "2025-01-08T12:05:57.492Z"
   },
   {
    "duration": 5,
    "start_time": "2025-01-08T12:08:49.012Z"
   },
   {
    "duration": 107,
    "start_time": "2025-01-08T12:09:00.036Z"
   },
   {
    "duration": 5,
    "start_time": "2025-01-08T12:09:19.399Z"
   },
   {
    "duration": 4,
    "start_time": "2025-01-08T12:12:41.163Z"
   },
   {
    "duration": 5,
    "start_time": "2025-01-08T12:12:48.716Z"
   },
   {
    "duration": 3,
    "start_time": "2025-01-08T12:13:10.376Z"
   },
   {
    "duration": 346,
    "start_time": "2025-01-08T12:13:11.229Z"
   },
   {
    "duration": 4,
    "start_time": "2025-01-08T12:14:04.757Z"
   },
   {
    "duration": 352,
    "start_time": "2025-01-08T12:19:12.256Z"
   },
   {
    "duration": 769,
    "start_time": "2025-01-08T12:26:24.665Z"
   },
   {
    "duration": 2,
    "start_time": "2025-01-08T12:32:49.566Z"
   },
   {
    "duration": 7,
    "start_time": "2025-01-08T12:32:50.670Z"
   },
   {
    "duration": 850,
    "start_time": "2025-01-08T12:33:32.266Z"
   },
   {
    "duration": 1867,
    "start_time": "2025-01-08T12:36:30.698Z"
   },
   {
    "duration": 27,
    "start_time": "2025-01-08T12:43:41.514Z"
   },
   {
    "duration": 56,
    "start_time": "2025-01-08T12:45:12.989Z"
   },
   {
    "duration": 280,
    "start_time": "2025-01-08T12:45:40.274Z"
   },
   {
    "duration": 978,
    "start_time": "2025-01-08T12:52:01.587Z"
   },
   {
    "duration": 487,
    "start_time": "2025-01-08T12:52:02.567Z"
   },
   {
    "duration": 2,
    "start_time": "2025-01-08T12:52:03.056Z"
   },
   {
    "duration": 46,
    "start_time": "2025-01-08T12:52:03.060Z"
   },
   {
    "duration": 17,
    "start_time": "2025-01-08T12:52:03.109Z"
   },
   {
    "duration": 15,
    "start_time": "2025-01-08T12:52:03.128Z"
   },
   {
    "duration": 14,
    "start_time": "2025-01-08T12:52:03.144Z"
   },
   {
    "duration": 12,
    "start_time": "2025-01-08T12:52:03.160Z"
   },
   {
    "duration": 34,
    "start_time": "2025-01-08T12:52:03.174Z"
   },
   {
    "duration": 3,
    "start_time": "2025-01-08T12:52:03.210Z"
   },
   {
    "duration": 6,
    "start_time": "2025-01-08T12:52:03.215Z"
   },
   {
    "duration": 5,
    "start_time": "2025-01-08T12:52:03.222Z"
   },
   {
    "duration": 5,
    "start_time": "2025-01-08T12:52:03.228Z"
   },
   {
    "duration": 5,
    "start_time": "2025-01-08T12:52:03.237Z"
   },
   {
    "duration": 3,
    "start_time": "2025-01-08T12:52:03.244Z"
   },
   {
    "duration": 5,
    "start_time": "2025-01-08T12:52:03.248Z"
   },
   {
    "duration": 3,
    "start_time": "2025-01-08T12:52:03.255Z"
   },
   {
    "duration": 86,
    "start_time": "2025-01-08T12:52:03.260Z"
   },
   {
    "duration": 18,
    "start_time": "2025-01-08T12:52:03.348Z"
   },
   {
    "duration": 39,
    "start_time": "2025-01-08T12:52:03.367Z"
   },
   {
    "duration": 17,
    "start_time": "2025-01-08T12:52:03.408Z"
   },
   {
    "duration": 249,
    "start_time": "2025-01-08T12:52:03.427Z"
   },
   {
    "duration": 264,
    "start_time": "2025-01-08T12:52:03.678Z"
   },
   {
    "duration": 317,
    "start_time": "2025-01-08T12:52:03.944Z"
   },
   {
    "duration": 3,
    "start_time": "2025-01-08T12:52:04.263Z"
   },
   {
    "duration": 6,
    "start_time": "2025-01-08T12:52:04.268Z"
   },
   {
    "duration": 7,
    "start_time": "2025-01-08T12:52:04.276Z"
   },
   {
    "duration": 7616,
    "start_time": "2025-01-08T12:52:04.305Z"
   },
   {
    "duration": 19,
    "start_time": "2025-01-08T12:52:11.923Z"
   },
   {
    "duration": 1229,
    "start_time": "2025-01-08T12:52:11.944Z"
   },
   {
    "duration": 5,
    "start_time": "2025-01-08T12:52:13.176Z"
   },
   {
    "duration": 3,
    "start_time": "2025-01-08T12:52:13.182Z"
   },
   {
    "duration": 914,
    "start_time": "2025-01-08T12:52:13.187Z"
   },
   {
    "duration": 762,
    "start_time": "2025-01-08T12:52:14.103Z"
   },
   {
    "duration": 838,
    "start_time": "2025-01-08T12:52:14.867Z"
   },
   {
    "duration": 238,
    "start_time": "2025-01-08T12:53:35.015Z"
   },
   {
    "duration": 208,
    "start_time": "2025-01-08T12:53:51.956Z"
   },
   {
    "duration": 203,
    "start_time": "2025-01-08T12:54:04.263Z"
   },
   {
    "duration": 293,
    "start_time": "2025-01-08T12:54:45.593Z"
   },
   {
    "duration": 830,
    "start_time": "2025-01-08T12:55:24.638Z"
   },
   {
    "duration": 201,
    "start_time": "2025-01-08T12:55:39.482Z"
   },
   {
    "duration": 179,
    "start_time": "2025-01-08T12:55:59.897Z"
   },
   {
    "duration": 175,
    "start_time": "2025-01-08T12:56:31.223Z"
   },
   {
    "duration": 147,
    "start_time": "2025-01-08T12:57:17.811Z"
   },
   {
    "duration": 171,
    "start_time": "2025-01-08T12:57:37.260Z"
   },
   {
    "duration": 171,
    "start_time": "2025-01-08T12:59:16.421Z"
   },
   {
    "duration": 3,
    "start_time": "2025-01-08T13:00:35.704Z"
   },
   {
    "duration": 521,
    "start_time": "2025-01-08T13:00:35.709Z"
   },
   {
    "duration": 3,
    "start_time": "2025-01-08T13:00:36.231Z"
   },
   {
    "duration": 38,
    "start_time": "2025-01-08T13:00:36.236Z"
   },
   {
    "duration": 14,
    "start_time": "2025-01-08T13:00:36.276Z"
   },
   {
    "duration": 27,
    "start_time": "2025-01-08T13:00:36.291Z"
   },
   {
    "duration": 13,
    "start_time": "2025-01-08T13:00:36.320Z"
   },
   {
    "duration": 10,
    "start_time": "2025-01-08T13:00:36.335Z"
   },
   {
    "duration": 3,
    "start_time": "2025-01-08T13:00:36.347Z"
   },
   {
    "duration": 3,
    "start_time": "2025-01-08T13:00:36.352Z"
   },
   {
    "duration": 5,
    "start_time": "2025-01-08T13:00:36.357Z"
   },
   {
    "duration": 3,
    "start_time": "2025-01-08T13:00:36.363Z"
   },
   {
    "duration": 31,
    "start_time": "2025-01-08T13:00:36.406Z"
   },
   {
    "duration": 40,
    "start_time": "2025-01-08T13:00:36.438Z"
   },
   {
    "duration": 3,
    "start_time": "2025-01-08T13:00:36.480Z"
   },
   {
    "duration": 6,
    "start_time": "2025-01-08T13:00:36.484Z"
   },
   {
    "duration": 5,
    "start_time": "2025-01-08T13:00:36.492Z"
   },
   {
    "duration": 45,
    "start_time": "2025-01-08T13:00:36.498Z"
   },
   {
    "duration": 17,
    "start_time": "2025-01-08T13:00:36.545Z"
   },
   {
    "duration": 22,
    "start_time": "2025-01-08T13:00:36.564Z"
   },
   {
    "duration": 31,
    "start_time": "2025-01-08T13:00:36.588Z"
   },
   {
    "duration": 242,
    "start_time": "2025-01-08T13:00:36.621Z"
   },
   {
    "duration": 246,
    "start_time": "2025-01-08T13:00:36.866Z"
   },
   {
    "duration": 275,
    "start_time": "2025-01-08T13:00:37.113Z"
   },
   {
    "duration": 3,
    "start_time": "2025-01-08T13:00:37.390Z"
   },
   {
    "duration": 6,
    "start_time": "2025-01-08T13:00:37.405Z"
   },
   {
    "duration": 8,
    "start_time": "2025-01-08T13:00:37.413Z"
   },
   {
    "duration": 184,
    "start_time": "2025-01-08T13:00:37.423Z"
   },
   {
    "duration": 17,
    "start_time": "2025-01-08T13:00:37.609Z"
   },
   {
    "duration": 730,
    "start_time": "2025-01-08T13:00:37.628Z"
   },
   {
    "duration": 6,
    "start_time": "2025-01-08T13:00:38.360Z"
   },
   {
    "duration": 3,
    "start_time": "2025-01-08T13:00:38.367Z"
   },
   {
    "duration": 937,
    "start_time": "2025-01-08T13:00:38.372Z"
   },
   {
    "duration": 864,
    "start_time": "2025-01-08T13:00:39.311Z"
   },
   {
    "duration": 816,
    "start_time": "2025-01-08T13:00:40.177Z"
   },
   {
    "duration": 1016,
    "start_time": "2025-01-08T13:01:31.645Z"
   },
   {
    "duration": 497,
    "start_time": "2025-01-08T13:01:32.663Z"
   },
   {
    "duration": 2,
    "start_time": "2025-01-08T13:01:33.162Z"
   },
   {
    "duration": 47,
    "start_time": "2025-01-08T13:01:33.166Z"
   },
   {
    "duration": 17,
    "start_time": "2025-01-08T13:01:33.215Z"
   },
   {
    "duration": 13,
    "start_time": "2025-01-08T13:01:33.233Z"
   },
   {
    "duration": 12,
    "start_time": "2025-01-08T13:01:33.248Z"
   },
   {
    "duration": 13,
    "start_time": "2025-01-08T13:01:33.262Z"
   },
   {
    "duration": 31,
    "start_time": "2025-01-08T13:01:33.276Z"
   },
   {
    "duration": 2,
    "start_time": "2025-01-08T13:01:33.309Z"
   },
   {
    "duration": 5,
    "start_time": "2025-01-08T13:01:33.313Z"
   },
   {
    "duration": 3,
    "start_time": "2025-01-08T13:01:33.319Z"
   },
   {
    "duration": 5,
    "start_time": "2025-01-08T13:01:33.324Z"
   },
   {
    "duration": 5,
    "start_time": "2025-01-08T13:01:33.333Z"
   },
   {
    "duration": 3,
    "start_time": "2025-01-08T13:01:33.340Z"
   },
   {
    "duration": 4,
    "start_time": "2025-01-08T13:01:33.345Z"
   },
   {
    "duration": 4,
    "start_time": "2025-01-08T13:01:33.350Z"
   },
   {
    "duration": 92,
    "start_time": "2025-01-08T13:01:33.355Z"
   },
   {
    "duration": 18,
    "start_time": "2025-01-08T13:01:33.449Z"
   },
   {
    "duration": 39,
    "start_time": "2025-01-08T13:01:33.468Z"
   },
   {
    "duration": 16,
    "start_time": "2025-01-08T13:01:33.509Z"
   },
   {
    "duration": 238,
    "start_time": "2025-01-08T13:01:33.526Z"
   },
   {
    "duration": 246,
    "start_time": "2025-01-08T13:01:33.766Z"
   },
   {
    "duration": 271,
    "start_time": "2025-01-08T13:01:34.014Z"
   },
   {
    "duration": 4,
    "start_time": "2025-01-08T13:01:34.287Z"
   },
   {
    "duration": 18,
    "start_time": "2025-01-08T13:01:34.292Z"
   },
   {
    "duration": 9,
    "start_time": "2025-01-08T13:01:34.311Z"
   },
   {
    "duration": 199,
    "start_time": "2025-01-08T13:01:34.322Z"
   },
   {
    "duration": 18,
    "start_time": "2025-01-08T13:01:34.523Z"
   },
   {
    "duration": 728,
    "start_time": "2025-01-08T13:01:34.543Z"
   },
   {
    "duration": 6,
    "start_time": "2025-01-08T13:01:35.273Z"
   },
   {
    "duration": 3,
    "start_time": "2025-01-08T13:01:35.280Z"
   },
   {
    "duration": 941,
    "start_time": "2025-01-08T13:01:35.285Z"
   },
   {
    "duration": 841,
    "start_time": "2025-01-08T13:01:36.228Z"
   },
   {
    "duration": 929,
    "start_time": "2025-01-08T13:01:37.071Z"
   },
   {
    "duration": 4,
    "start_time": "2025-01-08T13:01:38.005Z"
   },
   {
    "duration": 3,
    "start_time": "2025-01-08T13:01:38.011Z"
   },
   {
    "duration": 6,
    "start_time": "2025-01-08T13:01:38.015Z"
   },
   {
    "duration": 5,
    "start_time": "2025-01-08T13:01:38.022Z"
   },
   {
    "duration": 10,
    "start_time": "2025-01-08T13:01:38.029Z"
   },
   {
    "duration": 4,
    "start_time": "2025-01-08T13:01:38.043Z"
   },
   {
    "duration": 678,
    "start_time": "2025-01-08T13:01:38.049Z"
   },
   {
    "duration": 1004,
    "start_time": "2025-01-08T13:11:19.826Z"
   },
   {
    "duration": 478,
    "start_time": "2025-01-08T13:11:20.832Z"
   },
   {
    "duration": 3,
    "start_time": "2025-01-08T13:11:21.311Z"
   },
   {
    "duration": 38,
    "start_time": "2025-01-08T13:11:21.315Z"
   },
   {
    "duration": 16,
    "start_time": "2025-01-08T13:11:21.356Z"
   },
   {
    "duration": 39,
    "start_time": "2025-01-08T13:11:21.373Z"
   },
   {
    "duration": 14,
    "start_time": "2025-01-08T13:11:21.414Z"
   },
   {
    "duration": 13,
    "start_time": "2025-01-08T13:11:21.429Z"
   },
   {
    "duration": 3,
    "start_time": "2025-01-08T13:11:21.444Z"
   },
   {
    "duration": 5,
    "start_time": "2025-01-08T13:11:21.449Z"
   },
   {
    "duration": 4,
    "start_time": "2025-01-08T13:11:21.455Z"
   },
   {
    "duration": 3,
    "start_time": "2025-01-08T13:11:21.461Z"
   },
   {
    "duration": 41,
    "start_time": "2025-01-08T13:11:21.465Z"
   },
   {
    "duration": 6,
    "start_time": "2025-01-08T13:11:21.510Z"
   },
   {
    "duration": 4,
    "start_time": "2025-01-08T13:11:21.518Z"
   },
   {
    "duration": 6,
    "start_time": "2025-01-08T13:11:21.524Z"
   },
   {
    "duration": 3,
    "start_time": "2025-01-08T13:11:21.532Z"
   },
   {
    "duration": 75,
    "start_time": "2025-01-08T13:11:21.537Z"
   },
   {
    "duration": 23,
    "start_time": "2025-01-08T13:11:21.614Z"
   },
   {
    "duration": 23,
    "start_time": "2025-01-08T13:11:21.639Z"
   },
   {
    "duration": 16,
    "start_time": "2025-01-08T13:11:21.663Z"
   },
   {
    "duration": 279,
    "start_time": "2025-01-08T13:11:21.681Z"
   },
   {
    "duration": 206,
    "start_time": "2025-01-08T13:11:21.963Z"
   },
   {
    "duration": 288,
    "start_time": "2025-01-08T13:11:22.205Z"
   },
   {
    "duration": 4,
    "start_time": "2025-01-08T13:11:22.494Z"
   },
   {
    "duration": 8,
    "start_time": "2025-01-08T13:11:22.505Z"
   },
   {
    "duration": 9,
    "start_time": "2025-01-08T13:11:22.515Z"
   },
   {
    "duration": 191,
    "start_time": "2025-01-08T13:11:22.526Z"
   },
   {
    "duration": 18,
    "start_time": "2025-01-08T13:11:22.719Z"
   },
   {
    "duration": 696,
    "start_time": "2025-01-08T13:11:22.739Z"
   },
   {
    "duration": 5,
    "start_time": "2025-01-08T13:11:23.437Z"
   },
   {
    "duration": 3,
    "start_time": "2025-01-08T13:11:23.444Z"
   },
   {
    "duration": 866,
    "start_time": "2025-01-08T13:11:23.448Z"
   },
   {
    "duration": 856,
    "start_time": "2025-01-08T13:11:24.316Z"
   },
   {
    "duration": 934,
    "start_time": "2025-01-08T13:11:25.174Z"
   },
   {
    "duration": 3,
    "start_time": "2025-01-08T13:11:26.110Z"
   },
   {
    "duration": 2,
    "start_time": "2025-01-08T13:11:26.115Z"
   },
   {
    "duration": 5,
    "start_time": "2025-01-08T13:11:26.119Z"
   },
   {
    "duration": 4,
    "start_time": "2025-01-08T13:11:26.126Z"
   },
   {
    "duration": 9,
    "start_time": "2025-01-08T13:11:26.132Z"
   },
   {
    "duration": 4,
    "start_time": "2025-01-08T13:11:26.146Z"
   },
   {
    "duration": 673,
    "start_time": "2025-01-08T13:11:26.151Z"
   },
   {
    "duration": 2850,
    "start_time": "2025-01-08T15:11:31.965Z"
   },
   {
    "duration": 713,
    "start_time": "2025-01-08T15:11:34.818Z"
   },
   {
    "duration": 3,
    "start_time": "2025-01-08T15:11:35.532Z"
   },
   {
    "duration": 39,
    "start_time": "2025-01-08T15:11:35.537Z"
   },
   {
    "duration": 32,
    "start_time": "2025-01-08T15:11:35.579Z"
   },
   {
    "duration": 14,
    "start_time": "2025-01-08T15:11:35.613Z"
   },
   {
    "duration": 16,
    "start_time": "2025-01-08T15:11:35.629Z"
   },
   {
    "duration": 14,
    "start_time": "2025-01-08T15:11:35.647Z"
   },
   {
    "duration": 5,
    "start_time": "2025-01-08T15:11:35.662Z"
   },
   {
    "duration": 3,
    "start_time": "2025-01-08T15:11:35.669Z"
   },
   {
    "duration": 34,
    "start_time": "2025-01-08T15:11:35.674Z"
   },
   {
    "duration": 3,
    "start_time": "2025-01-08T15:11:35.710Z"
   },
   {
    "duration": 4,
    "start_time": "2025-01-08T15:11:35.715Z"
   },
   {
    "duration": 6,
    "start_time": "2025-01-08T15:11:35.724Z"
   },
   {
    "duration": 3,
    "start_time": "2025-01-08T15:11:35.731Z"
   },
   {
    "duration": 4,
    "start_time": "2025-01-08T15:11:35.736Z"
   },
   {
    "duration": 2,
    "start_time": "2025-01-08T15:11:35.742Z"
   },
   {
    "duration": 83,
    "start_time": "2025-01-08T15:11:35.746Z"
   },
   {
    "duration": 25,
    "start_time": "2025-01-08T15:11:35.831Z"
   },
   {
    "duration": 23,
    "start_time": "2025-01-08T15:11:35.858Z"
   },
   {
    "duration": 36,
    "start_time": "2025-01-08T15:11:35.883Z"
   },
   {
    "duration": 256,
    "start_time": "2025-01-08T15:11:35.921Z"
   },
   {
    "duration": 266,
    "start_time": "2025-01-08T15:11:36.179Z"
   },
   {
    "duration": 312,
    "start_time": "2025-01-08T15:11:36.448Z"
   },
   {
    "duration": 4,
    "start_time": "2025-01-08T15:11:36.762Z"
   },
   {
    "duration": 6,
    "start_time": "2025-01-08T15:11:36.768Z"
   },
   {
    "duration": 8,
    "start_time": "2025-01-08T15:11:36.776Z"
   },
   {
    "duration": 199,
    "start_time": "2025-01-08T15:11:36.785Z"
   },
   {
    "duration": 22,
    "start_time": "2025-01-08T15:11:36.987Z"
   },
   {
    "duration": 755,
    "start_time": "2025-01-08T15:11:37.011Z"
   },
   {
    "duration": 4,
    "start_time": "2025-01-08T15:11:37.768Z"
   },
   {
    "duration": 3,
    "start_time": "2025-01-08T15:11:37.775Z"
   },
   {
    "duration": 949,
    "start_time": "2025-01-08T15:11:37.780Z"
   },
   {
    "duration": 768,
    "start_time": "2025-01-08T15:11:38.731Z"
   },
   {
    "duration": 804,
    "start_time": "2025-01-08T15:11:39.505Z"
   },
   {
    "duration": 5,
    "start_time": "2025-01-08T15:11:40.311Z"
   },
   {
    "duration": 0,
    "start_time": "2025-01-08T15:11:40.318Z"
   },
   {
    "duration": 0,
    "start_time": "2025-01-08T15:11:40.319Z"
   },
   {
    "duration": 0,
    "start_time": "2025-01-08T15:11:40.320Z"
   },
   {
    "duration": 0,
    "start_time": "2025-01-08T15:11:40.322Z"
   },
   {
    "duration": 0,
    "start_time": "2025-01-08T15:11:40.323Z"
   },
   {
    "duration": 0,
    "start_time": "2025-01-08T15:11:40.324Z"
   },
   {
    "duration": 0,
    "start_time": "2025-01-08T15:11:40.325Z"
   },
   {
    "duration": 0,
    "start_time": "2025-01-08T15:11:40.325Z"
   },
   {
    "duration": 0,
    "start_time": "2025-01-08T15:11:40.326Z"
   },
   {
    "duration": 0,
    "start_time": "2025-01-08T15:11:40.327Z"
   },
   {
    "duration": 0,
    "start_time": "2025-01-08T15:11:40.328Z"
   },
   {
    "duration": 0,
    "start_time": "2025-01-08T15:11:40.329Z"
   },
   {
    "duration": 0,
    "start_time": "2025-01-08T15:11:40.330Z"
   },
   {
    "duration": 3,
    "start_time": "2025-01-08T15:12:26.899Z"
   },
   {
    "duration": 3,
    "start_time": "2025-01-08T15:12:38.688Z"
   },
   {
    "duration": 5,
    "start_time": "2025-01-08T15:13:20.418Z"
   },
   {
    "duration": 4,
    "start_time": "2025-01-08T15:13:25.456Z"
   },
   {
    "duration": 1001,
    "start_time": "2025-01-08T15:14:24.985Z"
   },
   {
    "duration": 471,
    "start_time": "2025-01-08T15:14:25.988Z"
   },
   {
    "duration": 2,
    "start_time": "2025-01-08T15:14:26.461Z"
   },
   {
    "duration": 52,
    "start_time": "2025-01-08T15:14:26.465Z"
   },
   {
    "duration": 16,
    "start_time": "2025-01-08T15:14:26.519Z"
   },
   {
    "duration": 14,
    "start_time": "2025-01-08T15:14:26.536Z"
   },
   {
    "duration": 13,
    "start_time": "2025-01-08T15:14:26.552Z"
   },
   {
    "duration": 37,
    "start_time": "2025-01-08T15:14:26.568Z"
   },
   {
    "duration": 4,
    "start_time": "2025-01-08T15:14:26.607Z"
   },
   {
    "duration": 4,
    "start_time": "2025-01-08T15:14:26.612Z"
   },
   {
    "duration": 4,
    "start_time": "2025-01-08T15:14:26.618Z"
   },
   {
    "duration": 4,
    "start_time": "2025-01-08T15:14:26.623Z"
   },
   {
    "duration": 5,
    "start_time": "2025-01-08T15:14:26.628Z"
   },
   {
    "duration": 6,
    "start_time": "2025-01-08T15:14:26.637Z"
   },
   {
    "duration": 3,
    "start_time": "2025-01-08T15:14:26.644Z"
   },
   {
    "duration": 5,
    "start_time": "2025-01-08T15:14:26.649Z"
   },
   {
    "duration": 3,
    "start_time": "2025-01-08T15:14:26.656Z"
   },
   {
    "duration": 44,
    "start_time": "2025-01-08T15:14:26.706Z"
   },
   {
    "duration": 17,
    "start_time": "2025-01-08T15:14:26.752Z"
   },
   {
    "duration": 49,
    "start_time": "2025-01-08T15:14:26.771Z"
   },
   {
    "duration": 17,
    "start_time": "2025-01-08T15:14:26.822Z"
   },
   {
    "duration": 236,
    "start_time": "2025-01-08T15:14:26.841Z"
   },
   {
    "duration": 301,
    "start_time": "2025-01-08T15:14:27.079Z"
   },
   {
    "duration": 330,
    "start_time": "2025-01-08T15:14:27.384Z"
   },
   {
    "duration": 3,
    "start_time": "2025-01-08T15:14:27.716Z"
   },
   {
    "duration": 7,
    "start_time": "2025-01-08T15:14:27.721Z"
   },
   {
    "duration": 10,
    "start_time": "2025-01-08T15:14:27.730Z"
   },
   {
    "duration": 209,
    "start_time": "2025-01-08T15:14:27.743Z"
   },
   {
    "duration": 18,
    "start_time": "2025-01-08T15:14:27.953Z"
   },
   {
    "duration": 695,
    "start_time": "2025-01-08T15:14:27.973Z"
   },
   {
    "duration": 5,
    "start_time": "2025-01-08T15:14:28.670Z"
   },
   {
    "duration": 2,
    "start_time": "2025-01-08T15:14:28.677Z"
   },
   {
    "duration": 1013,
    "start_time": "2025-01-08T15:14:28.681Z"
   },
   {
    "duration": 871,
    "start_time": "2025-01-08T15:14:29.697Z"
   },
   {
    "duration": 927,
    "start_time": "2025-01-08T15:14:30.570Z"
   },
   {
    "duration": 8,
    "start_time": "2025-01-08T15:14:31.499Z"
   },
   {
    "duration": 3,
    "start_time": "2025-01-08T15:14:31.509Z"
   },
   {
    "duration": 4,
    "start_time": "2025-01-08T15:14:31.514Z"
   },
   {
    "duration": 4,
    "start_time": "2025-01-08T15:14:31.520Z"
   },
   {
    "duration": 8,
    "start_time": "2025-01-08T15:14:31.526Z"
   },
   {
    "duration": 5,
    "start_time": "2025-01-08T15:14:31.539Z"
   },
   {
    "duration": 772,
    "start_time": "2025-01-08T15:14:31.545Z"
   },
   {
    "duration": 809025,
    "start_time": "2025-01-08T15:14:32.320Z"
   },
   {
    "duration": 4,
    "start_time": "2025-01-08T15:28:01.347Z"
   },
   {
    "duration": 251120,
    "start_time": "2025-01-08T15:28:01.353Z"
   },
   {
    "duration": 4,
    "start_time": "2025-01-08T15:32:12.475Z"
   },
   {
    "duration": 253039,
    "start_time": "2025-01-08T15:32:12.481Z"
   },
   {
    "duration": 3,
    "start_time": "2025-01-08T15:36:25.523Z"
   },
   {
    "duration": 159,
    "start_time": "2025-01-09T16:38:44.341Z"
   },
   {
    "duration": 2694,
    "start_time": "2025-01-09T16:38:54.274Z"
   },
   {
    "duration": 580,
    "start_time": "2025-01-09T16:38:56.971Z"
   },
   {
    "duration": 3,
    "start_time": "2025-01-09T16:38:57.553Z"
   },
   {
    "duration": 40,
    "start_time": "2025-01-09T16:38:57.557Z"
   },
   {
    "duration": 106,
    "start_time": "2025-01-09T16:38:57.600Z"
   },
   {
    "duration": 14,
    "start_time": "2025-01-09T16:38:57.708Z"
   },
   {
    "duration": 17,
    "start_time": "2025-01-09T16:38:57.732Z"
   },
   {
    "duration": 14,
    "start_time": "2025-01-09T16:38:57.751Z"
   },
   {
    "duration": 4,
    "start_time": "2025-01-09T16:38:57.767Z"
   },
   {
    "duration": 3,
    "start_time": "2025-01-09T16:38:57.772Z"
   },
   {
    "duration": 4,
    "start_time": "2025-01-09T16:38:57.777Z"
   },
   {
    "duration": 3,
    "start_time": "2025-01-09T16:38:57.783Z"
   },
   {
    "duration": 5,
    "start_time": "2025-01-09T16:38:57.788Z"
   },
   {
    "duration": 6,
    "start_time": "2025-01-09T16:38:57.835Z"
   },
   {
    "duration": 2,
    "start_time": "2025-01-09T16:38:57.843Z"
   },
   {
    "duration": 5,
    "start_time": "2025-01-09T16:38:57.847Z"
   },
   {
    "duration": 3,
    "start_time": "2025-01-09T16:38:57.854Z"
   },
   {
    "duration": 43,
    "start_time": "2025-01-09T16:38:57.858Z"
   },
   {
    "duration": 21,
    "start_time": "2025-01-09T16:38:57.931Z"
   },
   {
    "duration": 24,
    "start_time": "2025-01-09T16:38:57.953Z"
   },
   {
    "duration": 16,
    "start_time": "2025-01-09T16:38:57.978Z"
   },
   {
    "duration": 309,
    "start_time": "2025-01-09T16:38:57.996Z"
   },
   {
    "duration": 269,
    "start_time": "2025-01-09T16:38:58.307Z"
   },
   {
    "duration": 305,
    "start_time": "2025-01-09T16:38:58.578Z"
   },
   {
    "duration": 3,
    "start_time": "2025-01-09T16:38:58.885Z"
   },
   {
    "duration": 7,
    "start_time": "2025-01-09T16:38:58.890Z"
   },
   {
    "duration": 9,
    "start_time": "2025-01-09T16:38:58.899Z"
   },
   {
    "duration": 204,
    "start_time": "2025-01-09T16:38:58.909Z"
   },
   {
    "duration": 23,
    "start_time": "2025-01-09T16:38:59.115Z"
   },
   {
    "duration": 738,
    "start_time": "2025-01-09T16:38:59.140Z"
   },
   {
    "duration": 5,
    "start_time": "2025-01-09T16:38:59.881Z"
   },
   {
    "duration": 3,
    "start_time": "2025-01-09T16:38:59.888Z"
   },
   {
    "duration": 851,
    "start_time": "2025-01-09T16:38:59.893Z"
   },
   {
    "duration": 1095,
    "start_time": "2025-01-09T16:39:00.746Z"
   },
   {
    "duration": 992,
    "start_time": "2025-01-09T16:39:01.843Z"
   },
   {
    "duration": 3,
    "start_time": "2025-01-09T16:39:02.837Z"
   },
   {
    "duration": 3,
    "start_time": "2025-01-09T16:39:02.842Z"
   },
   {
    "duration": 5,
    "start_time": "2025-01-09T16:39:02.847Z"
   },
   {
    "duration": 6,
    "start_time": "2025-01-09T16:39:02.853Z"
   },
   {
    "duration": 9,
    "start_time": "2025-01-09T16:39:02.860Z"
   },
   {
    "duration": 5,
    "start_time": "2025-01-09T16:39:02.873Z"
   },
   {
    "duration": 853,
    "start_time": "2025-01-09T16:39:02.880Z"
   },
   {
    "duration": 36568,
    "start_time": "2025-01-09T16:39:03.737Z"
   },
   {
    "duration": 0,
    "start_time": "2025-01-09T16:39:40.307Z"
   },
   {
    "duration": 0,
    "start_time": "2025-01-09T16:39:40.308Z"
   },
   {
    "duration": 0,
    "start_time": "2025-01-09T16:39:40.309Z"
   },
   {
    "duration": 0,
    "start_time": "2025-01-09T16:39:40.310Z"
   },
   {
    "duration": 0,
    "start_time": "2025-01-09T16:39:40.310Z"
   },
   {
    "duration": 0,
    "start_time": "2025-01-09T16:39:40.311Z"
   },
   {
    "duration": 170,
    "start_time": "2025-01-09T16:39:41.951Z"
   },
   {
    "duration": 249,
    "start_time": "2025-01-09T16:40:06.056Z"
   },
   {
    "duration": 354,
    "start_time": "2025-01-09T16:40:24.695Z"
   },
   {
    "duration": 250,
    "start_time": "2025-01-09T16:40:34.145Z"
   },
   {
    "duration": 171,
    "start_time": "2025-01-09T16:40:44.414Z"
   },
   {
    "duration": 177,
    "start_time": "2025-01-09T16:40:59.620Z"
   },
   {
    "duration": 485,
    "start_time": "2025-01-09T16:41:56.371Z"
   },
   {
    "duration": 963,
    "start_time": "2025-01-09T16:42:16.041Z"
   },
   {
    "duration": 4217,
    "start_time": "2025-01-09T16:44:28.487Z"
   },
   {
    "duration": 1024,
    "start_time": "2025-01-09T16:44:56.990Z"
   },
   {
    "duration": 426,
    "start_time": "2025-01-09T16:45:16.936Z"
   },
   {
    "duration": 175,
    "start_time": "2025-01-09T16:45:37.333Z"
   },
   {
    "duration": 196,
    "start_time": "2025-01-09T16:47:05.135Z"
   },
   {
    "duration": 188,
    "start_time": "2025-01-09T16:47:40.350Z"
   },
   {
    "duration": 181,
    "start_time": "2025-01-09T16:48:01.013Z"
   },
   {
    "duration": 20,
    "start_time": "2025-01-09T16:51:13.889Z"
   },
   {
    "duration": 4,
    "start_time": "2025-01-09T17:07:05.122Z"
   },
   {
    "duration": 4,
    "start_time": "2025-01-09T17:07:36.624Z"
   },
   {
    "duration": 4,
    "start_time": "2025-01-09T17:08:17.200Z"
   },
   {
    "duration": 4,
    "start_time": "2025-01-09T17:08:22.097Z"
   },
   {
    "duration": 4,
    "start_time": "2025-01-09T17:09:00.158Z"
   },
   {
    "duration": 5,
    "start_time": "2025-01-09T17:09:26.982Z"
   },
   {
    "duration": 4,
    "start_time": "2025-01-09T17:11:14.516Z"
   },
   {
    "duration": 4,
    "start_time": "2025-01-09T17:11:32.902Z"
   },
   {
    "duration": 6,
    "start_time": "2025-01-09T17:16:06.876Z"
   },
   {
    "duration": 3,
    "start_time": "2025-01-09T17:16:39.260Z"
   },
   {
    "duration": 6,
    "start_time": "2025-01-09T17:20:05.412Z"
   },
   {
    "duration": 10,
    "start_time": "2025-01-09T17:20:06.013Z"
   },
   {
    "duration": 20,
    "start_time": "2025-01-09T17:20:43.741Z"
   },
   {
    "duration": 1004,
    "start_time": "2025-01-09T17:30:33.611Z"
   },
   {
    "duration": 498,
    "start_time": "2025-01-09T17:30:34.618Z"
   },
   {
    "duration": 3,
    "start_time": "2025-01-09T17:30:35.118Z"
   },
   {
    "duration": 47,
    "start_time": "2025-01-09T17:30:35.122Z"
   },
   {
    "duration": 17,
    "start_time": "2025-01-09T17:30:35.171Z"
   },
   {
    "duration": 14,
    "start_time": "2025-01-09T17:30:35.189Z"
   },
   {
    "duration": 35,
    "start_time": "2025-01-09T17:30:35.204Z"
   },
   {
    "duration": 14,
    "start_time": "2025-01-09T17:30:35.241Z"
   },
   {
    "duration": 4,
    "start_time": "2025-01-09T17:30:35.256Z"
   },
   {
    "duration": 3,
    "start_time": "2025-01-09T17:30:35.262Z"
   },
   {
    "duration": 5,
    "start_time": "2025-01-09T17:30:35.266Z"
   },
   {
    "duration": 3,
    "start_time": "2025-01-09T17:30:35.273Z"
   },
   {
    "duration": 4,
    "start_time": "2025-01-09T17:30:35.277Z"
   },
   {
    "duration": 5,
    "start_time": "2025-01-09T17:30:35.285Z"
   },
   {
    "duration": 3,
    "start_time": "2025-01-09T17:30:35.331Z"
   },
   {
    "duration": 5,
    "start_time": "2025-01-09T17:30:35.336Z"
   },
   {
    "duration": 3,
    "start_time": "2025-01-09T17:30:35.343Z"
   },
   {
    "duration": 42,
    "start_time": "2025-01-09T17:30:35.348Z"
   },
   {
    "duration": 42,
    "start_time": "2025-01-09T17:30:35.391Z"
   },
   {
    "duration": 23,
    "start_time": "2025-01-09T17:30:35.435Z"
   },
   {
    "duration": 15,
    "start_time": "2025-01-09T17:30:35.460Z"
   },
   {
    "duration": 308,
    "start_time": "2025-01-09T17:30:35.477Z"
   },
   {
    "duration": 210,
    "start_time": "2025-01-09T17:30:35.787Z"
   },
   {
    "duration": 276,
    "start_time": "2025-01-09T17:30:36.032Z"
   },
   {
    "duration": 4,
    "start_time": "2025-01-09T17:30:36.309Z"
   },
   {
    "duration": 20,
    "start_time": "2025-01-09T17:30:36.314Z"
   },
   {
    "duration": 9,
    "start_time": "2025-01-09T17:30:36.335Z"
   },
   {
    "duration": 197,
    "start_time": "2025-01-09T17:30:36.347Z"
   },
   {
    "duration": 20,
    "start_time": "2025-01-09T17:30:36.546Z"
   },
   {
    "duration": 684,
    "start_time": "2025-01-09T17:30:36.567Z"
   },
   {
    "duration": 5,
    "start_time": "2025-01-09T17:30:37.253Z"
   },
   {
    "duration": 3,
    "start_time": "2025-01-09T17:30:37.260Z"
   },
   {
    "duration": 896,
    "start_time": "2025-01-09T17:30:37.264Z"
   },
   {
    "duration": 780,
    "start_time": "2025-01-09T17:30:38.161Z"
   },
   {
    "duration": 970,
    "start_time": "2025-01-09T17:30:38.943Z"
   },
   {
    "duration": 4,
    "start_time": "2025-01-09T17:30:39.915Z"
   },
   {
    "duration": 4,
    "start_time": "2025-01-09T17:30:39.930Z"
   },
   {
    "duration": 7,
    "start_time": "2025-01-09T17:30:39.935Z"
   },
   {
    "duration": 11,
    "start_time": "2025-01-09T17:30:39.943Z"
   },
   {
    "duration": 252,
    "start_time": "2025-01-09T17:30:39.956Z"
   },
   {
    "duration": 0,
    "start_time": "2025-01-09T17:30:40.210Z"
   },
   {
    "duration": 0,
    "start_time": "2025-01-09T17:30:40.211Z"
   },
   {
    "duration": 0,
    "start_time": "2025-01-09T17:30:40.213Z"
   },
   {
    "duration": 0,
    "start_time": "2025-01-09T17:30:40.214Z"
   },
   {
    "duration": 0,
    "start_time": "2025-01-09T17:30:40.231Z"
   },
   {
    "duration": 0,
    "start_time": "2025-01-09T17:30:40.232Z"
   },
   {
    "duration": 0,
    "start_time": "2025-01-09T17:30:40.233Z"
   },
   {
    "duration": 0,
    "start_time": "2025-01-09T17:30:40.235Z"
   },
   {
    "duration": 0,
    "start_time": "2025-01-09T17:30:40.236Z"
   },
   {
    "duration": 0,
    "start_time": "2025-01-09T17:30:40.238Z"
   },
   {
    "duration": 0,
    "start_time": "2025-01-09T17:30:40.239Z"
   },
   {
    "duration": 0,
    "start_time": "2025-01-09T17:30:40.241Z"
   },
   {
    "duration": 0,
    "start_time": "2025-01-09T17:30:40.242Z"
   },
   {
    "duration": 0,
    "start_time": "2025-01-09T17:30:40.243Z"
   },
   {
    "duration": 38,
    "start_time": "2025-01-09T17:31:02.903Z"
   },
   {
    "duration": 6,
    "start_time": "2025-01-09T17:31:03.693Z"
   },
   {
    "duration": 4,
    "start_time": "2025-01-09T17:31:04.380Z"
   },
   {
    "duration": 8,
    "start_time": "2025-01-09T17:31:10.488Z"
   },
   {
    "duration": 22,
    "start_time": "2025-01-09T17:31:11.738Z"
   },
   {
    "duration": 1053,
    "start_time": "2025-01-09T17:31:17.287Z"
   },
   {
    "duration": 4403198,
    "start_time": "2025-01-09T17:31:22.815Z"
   },
   {
    "duration": 2674,
    "start_time": "2025-01-09T22:12:44.143Z"
   },
   {
    "duration": 636,
    "start_time": "2025-01-09T22:12:46.819Z"
   },
   {
    "duration": 4,
    "start_time": "2025-01-09T22:12:47.456Z"
   },
   {
    "duration": 49,
    "start_time": "2025-01-09T22:12:47.463Z"
   },
   {
    "duration": 65,
    "start_time": "2025-01-09T22:12:47.513Z"
   },
   {
    "duration": 14,
    "start_time": "2025-01-09T22:12:47.579Z"
   },
   {
    "duration": 16,
    "start_time": "2025-01-09T22:12:47.611Z"
   },
   {
    "duration": 14,
    "start_time": "2025-01-09T22:12:47.628Z"
   },
   {
    "duration": 4,
    "start_time": "2025-01-09T22:12:47.643Z"
   },
   {
    "duration": 2,
    "start_time": "2025-01-09T22:12:47.651Z"
   },
   {
    "duration": 6,
    "start_time": "2025-01-09T22:12:47.654Z"
   },
   {
    "duration": 3,
    "start_time": "2025-01-09T22:12:47.661Z"
   },
   {
    "duration": 4,
    "start_time": "2025-01-09T22:12:47.666Z"
   },
   {
    "duration": 4,
    "start_time": "2025-01-09T22:12:47.712Z"
   },
   {
    "duration": 3,
    "start_time": "2025-01-09T22:12:47.718Z"
   },
   {
    "duration": 4,
    "start_time": "2025-01-09T22:12:47.723Z"
   },
   {
    "duration": 4,
    "start_time": "2025-01-09T22:12:47.729Z"
   },
   {
    "duration": 42,
    "start_time": "2025-01-09T22:12:47.734Z"
   },
   {
    "duration": 46,
    "start_time": "2025-01-09T22:12:47.778Z"
   },
   {
    "duration": 25,
    "start_time": "2025-01-09T22:12:47.825Z"
   },
   {
    "duration": 15,
    "start_time": "2025-01-09T22:12:47.852Z"
   },
   {
    "duration": 303,
    "start_time": "2025-01-09T22:12:47.868Z"
   },
   {
    "duration": 252,
    "start_time": "2025-01-09T22:12:48.173Z"
   },
   {
    "duration": 258,
    "start_time": "2025-01-09T22:12:48.427Z"
   },
   {
    "duration": 3,
    "start_time": "2025-01-09T22:12:48.687Z"
   },
   {
    "duration": 22,
    "start_time": "2025-01-09T22:12:48.692Z"
   },
   {
    "duration": 8,
    "start_time": "2025-01-09T22:12:48.716Z"
   },
   {
    "duration": 187,
    "start_time": "2025-01-09T22:12:48.728Z"
   },
   {
    "duration": 18,
    "start_time": "2025-01-09T22:12:48.917Z"
   },
   {
    "duration": 715,
    "start_time": "2025-01-09T22:12:48.937Z"
   },
   {
    "duration": 5,
    "start_time": "2025-01-09T22:12:49.654Z"
   },
   {
    "duration": 3,
    "start_time": "2025-01-09T22:12:49.661Z"
   },
   {
    "duration": 849,
    "start_time": "2025-01-09T22:12:49.665Z"
   },
   {
    "duration": 779,
    "start_time": "2025-01-09T22:12:50.516Z"
   },
   {
    "duration": 919,
    "start_time": "2025-01-09T22:12:51.296Z"
   },
   {
    "duration": 3,
    "start_time": "2025-01-09T22:12:52.217Z"
   },
   {
    "duration": 3,
    "start_time": "2025-01-09T22:12:52.222Z"
   },
   {
    "duration": 7,
    "start_time": "2025-01-09T22:12:52.227Z"
   },
   {
    "duration": 10,
    "start_time": "2025-01-09T22:12:52.235Z"
   },
   {
    "duration": 35,
    "start_time": "2025-01-09T22:12:52.247Z"
   },
   {
    "duration": 28,
    "start_time": "2025-01-09T22:12:52.284Z"
   },
   {
    "duration": 4,
    "start_time": "2025-01-09T22:12:52.314Z"
   },
   {
    "duration": 9,
    "start_time": "2025-01-09T22:12:52.320Z"
   },
   {
    "duration": 20,
    "start_time": "2025-01-09T22:12:52.330Z"
   },
   {
    "duration": 1077,
    "start_time": "2025-01-09T22:12:52.352Z"
   },
   {
    "duration": 1266957,
    "start_time": "2025-01-09T22:12:53.431Z"
   },
   {
    "duration": 808848,
    "start_time": "2025-01-09T22:34:00.390Z"
   },
   {
    "duration": 770108,
    "start_time": "2025-01-09T22:47:29.240Z"
   },
   {
    "duration": 251735,
    "start_time": "2025-01-09T23:00:19.350Z"
   },
   {
    "duration": 0,
    "start_time": "2025-01-09T23:04:31.086Z"
   },
   {
    "duration": 0,
    "start_time": "2025-01-09T23:04:31.089Z"
   },
   {
    "duration": 0,
    "start_time": "2025-01-09T23:04:31.090Z"
   },
   {
    "duration": 0,
    "start_time": "2025-01-09T23:04:31.091Z"
   },
   {
    "duration": 250533,
    "start_time": "2025-01-09T23:06:39.523Z"
   },
   {
    "duration": 4,
    "start_time": "2025-01-09T23:12:41.784Z"
   },
   {
    "duration": 251104,
    "start_time": "2025-01-09T23:12:42.932Z"
   },
   {
    "duration": 4,
    "start_time": "2025-01-09T23:17:02.701Z"
   },
   {
    "duration": 7,
    "start_time": "2025-01-09T23:17:06.372Z"
   },
   {
    "duration": 8,
    "start_time": "2025-01-10T03:45:35.623Z"
   },
   {
    "duration": 156,
    "start_time": "2025-01-10T03:50:15.037Z"
   },
   {
    "duration": 2750,
    "start_time": "2025-01-10T03:50:27.835Z"
   },
   {
    "duration": 698,
    "start_time": "2025-01-10T03:50:30.587Z"
   },
   {
    "duration": 3,
    "start_time": "2025-01-10T03:50:31.290Z"
   },
   {
    "duration": 40,
    "start_time": "2025-01-10T03:50:31.295Z"
   },
   {
    "duration": 34,
    "start_time": "2025-01-10T03:50:31.337Z"
   },
   {
    "duration": 20,
    "start_time": "2025-01-10T03:50:31.372Z"
   },
   {
    "duration": 15,
    "start_time": "2025-01-10T03:50:31.394Z"
   },
   {
    "duration": 15,
    "start_time": "2025-01-10T03:50:31.411Z"
   },
   {
    "duration": 4,
    "start_time": "2025-01-10T03:50:31.429Z"
   },
   {
    "duration": 3,
    "start_time": "2025-01-10T03:50:31.435Z"
   },
   {
    "duration": 4,
    "start_time": "2025-01-10T03:50:31.469Z"
   },
   {
    "duration": 4,
    "start_time": "2025-01-10T03:50:31.474Z"
   },
   {
    "duration": 4,
    "start_time": "2025-01-10T03:50:31.479Z"
   },
   {
    "duration": 4,
    "start_time": "2025-01-10T03:50:31.485Z"
   },
   {
    "duration": 3,
    "start_time": "2025-01-10T03:50:31.491Z"
   },
   {
    "duration": 4,
    "start_time": "2025-01-10T03:50:31.496Z"
   },
   {
    "duration": 2,
    "start_time": "2025-01-10T03:50:31.502Z"
   },
   {
    "duration": 79,
    "start_time": "2025-01-10T03:50:31.506Z"
   },
   {
    "duration": 18,
    "start_time": "2025-01-10T03:50:31.587Z"
   },
   {
    "duration": 23,
    "start_time": "2025-01-10T03:50:31.606Z"
   },
   {
    "duration": 17,
    "start_time": "2025-01-10T03:50:31.630Z"
   },
   {
    "duration": 351,
    "start_time": "2025-01-10T03:50:31.648Z"
   },
   {
    "duration": 233,
    "start_time": "2025-01-10T03:50:32.001Z"
   },
   {
    "duration": 312,
    "start_time": "2025-01-10T03:50:32.236Z"
   },
   {
    "duration": 3,
    "start_time": "2025-01-10T03:50:32.551Z"
   },
   {
    "duration": 7,
    "start_time": "2025-01-10T03:50:32.570Z"
   },
   {
    "duration": 12,
    "start_time": "2025-01-10T03:50:32.581Z"
   },
   {
    "duration": 209,
    "start_time": "2025-01-10T03:50:32.595Z"
   },
   {
    "duration": 24,
    "start_time": "2025-01-10T03:50:32.806Z"
   },
   {
    "duration": 823,
    "start_time": "2025-01-10T03:50:32.832Z"
   },
   {
    "duration": 13,
    "start_time": "2025-01-10T03:50:33.657Z"
   },
   {
    "duration": 3,
    "start_time": "2025-01-10T03:50:33.672Z"
   },
   {
    "duration": 926,
    "start_time": "2025-01-10T03:50:33.676Z"
   },
   {
    "duration": 795,
    "start_time": "2025-01-10T03:50:34.604Z"
   },
   {
    "duration": 865,
    "start_time": "2025-01-10T03:50:35.401Z"
   },
   {
    "duration": 3,
    "start_time": "2025-01-10T03:50:36.271Z"
   },
   {
    "duration": 4,
    "start_time": "2025-01-10T03:50:36.276Z"
   },
   {
    "duration": 6,
    "start_time": "2025-01-10T03:50:36.281Z"
   },
   {
    "duration": 10,
    "start_time": "2025-01-10T03:50:36.289Z"
   },
   {
    "duration": 334,
    "start_time": "2025-01-10T03:50:36.301Z"
   },
   {
    "duration": 0,
    "start_time": "2025-01-10T03:50:36.637Z"
   },
   {
    "duration": 0,
    "start_time": "2025-01-10T03:50:36.638Z"
   },
   {
    "duration": 0,
    "start_time": "2025-01-10T03:50:36.640Z"
   },
   {
    "duration": 0,
    "start_time": "2025-01-10T03:50:36.641Z"
   },
   {
    "duration": 0,
    "start_time": "2025-01-10T03:50:36.643Z"
   },
   {
    "duration": 0,
    "start_time": "2025-01-10T03:50:36.644Z"
   },
   {
    "duration": 0,
    "start_time": "2025-01-10T03:50:36.646Z"
   },
   {
    "duration": 0,
    "start_time": "2025-01-10T03:50:36.647Z"
   },
   {
    "duration": 0,
    "start_time": "2025-01-10T03:50:36.649Z"
   },
   {
    "duration": 0,
    "start_time": "2025-01-10T03:50:36.670Z"
   },
   {
    "duration": 0,
    "start_time": "2025-01-10T03:50:36.672Z"
   },
   {
    "duration": 0,
    "start_time": "2025-01-10T03:50:36.673Z"
   },
   {
    "duration": 0,
    "start_time": "2025-01-10T03:50:36.674Z"
   },
   {
    "duration": 37,
    "start_time": "2025-01-10T03:50:54.164Z"
   },
   {
    "duration": 5,
    "start_time": "2025-01-10T03:50:55.158Z"
   },
   {
    "duration": 4,
    "start_time": "2025-01-10T03:50:55.850Z"
   },
   {
    "duration": 20,
    "start_time": "2025-01-10T03:51:08.547Z"
   },
   {
    "duration": 9,
    "start_time": "2025-01-10T03:51:09.711Z"
   },
   {
    "duration": 7,
    "start_time": "2025-01-10T03:51:25.787Z"
   },
   {
    "duration": 718,
    "start_time": "2025-01-10T03:51:59.968Z"
   },
   {
    "duration": 809493,
    "start_time": "2025-01-10T03:52:16.898Z"
   },
   {
    "duration": 808281,
    "start_time": "2025-01-10T04:06:07.547Z"
   },
   {
    "duration": 2393708,
    "start_time": "2025-01-10T05:56:15.362Z"
   },
   {
    "duration": 3,
    "start_time": "2025-01-10T06:36:09.071Z"
   },
   {
    "duration": 250210,
    "start_time": "2025-01-10T06:36:09.075Z"
   },
   {
    "duration": 250107,
    "start_time": "2025-01-10T06:40:19.286Z"
   },
   {
    "duration": 3,
    "start_time": "2025-01-10T06:44:29.394Z"
   },
   {
    "duration": 822,
    "start_time": "2025-01-10T17:16:03.641Z"
   },
   {
    "duration": 15,
    "start_time": "2025-01-10T17:16:10.037Z"
   },
   {
    "duration": 2680,
    "start_time": "2025-01-10T17:16:49.661Z"
   },
   {
    "duration": 590,
    "start_time": "2025-01-10T17:16:52.343Z"
   },
   {
    "duration": 2,
    "start_time": "2025-01-10T17:16:52.935Z"
   },
   {
    "duration": 40,
    "start_time": "2025-01-10T17:16:52.939Z"
   },
   {
    "duration": 36,
    "start_time": "2025-01-10T17:16:52.980Z"
   },
   {
    "duration": 14,
    "start_time": "2025-01-10T17:16:53.017Z"
   },
   {
    "duration": 14,
    "start_time": "2025-01-10T17:16:53.033Z"
   },
   {
    "duration": 13,
    "start_time": "2025-01-10T17:16:53.048Z"
   },
   {
    "duration": 4,
    "start_time": "2025-01-10T17:16:53.063Z"
   },
   {
    "duration": 4,
    "start_time": "2025-01-10T17:16:53.070Z"
   },
   {
    "duration": 35,
    "start_time": "2025-01-10T17:16:53.075Z"
   },
   {
    "duration": 3,
    "start_time": "2025-01-10T17:16:53.111Z"
   },
   {
    "duration": 5,
    "start_time": "2025-01-10T17:16:53.115Z"
   },
   {
    "duration": 6,
    "start_time": "2025-01-10T17:16:53.121Z"
   },
   {
    "duration": 3,
    "start_time": "2025-01-10T17:16:53.128Z"
   },
   {
    "duration": 5,
    "start_time": "2025-01-10T17:16:53.132Z"
   },
   {
    "duration": 4,
    "start_time": "2025-01-10T17:16:53.138Z"
   },
   {
    "duration": 76,
    "start_time": "2025-01-10T17:16:53.143Z"
   },
   {
    "duration": 19,
    "start_time": "2025-01-10T17:16:53.221Z"
   },
   {
    "duration": 22,
    "start_time": "2025-01-10T17:16:53.242Z"
   },
   {
    "duration": 16,
    "start_time": "2025-01-10T17:16:53.266Z"
   },
   {
    "duration": 267,
    "start_time": "2025-01-10T17:16:53.308Z"
   },
   {
    "duration": 284,
    "start_time": "2025-01-10T17:16:53.578Z"
   },
   {
    "duration": 301,
    "start_time": "2025-01-10T17:16:53.864Z"
   },
   {
    "duration": 4,
    "start_time": "2025-01-10T17:16:54.167Z"
   },
   {
    "duration": 6,
    "start_time": "2025-01-10T17:16:54.173Z"
   },
   {
    "duration": 30,
    "start_time": "2025-01-10T17:16:54.180Z"
   },
   {
    "duration": 183,
    "start_time": "2025-01-10T17:16:54.214Z"
   },
   {
    "duration": 26,
    "start_time": "2025-01-10T17:16:54.399Z"
   },
   {
    "duration": 717,
    "start_time": "2025-01-10T17:16:54.428Z"
   },
   {
    "duration": 5,
    "start_time": "2025-01-10T17:16:55.147Z"
   },
   {
    "duration": 4,
    "start_time": "2025-01-10T17:16:55.153Z"
   },
   {
    "duration": 848,
    "start_time": "2025-01-10T17:16:55.158Z"
   },
   {
    "duration": 852,
    "start_time": "2025-01-10T17:16:56.008Z"
   },
   {
    "duration": 853,
    "start_time": "2025-01-10T17:16:56.861Z"
   },
   {
    "duration": 4,
    "start_time": "2025-01-10T17:16:57.716Z"
   },
   {
    "duration": 3,
    "start_time": "2025-01-10T17:16:57.723Z"
   },
   {
    "duration": 7,
    "start_time": "2025-01-10T17:16:57.727Z"
   },
   {
    "duration": 12,
    "start_time": "2025-01-10T17:16:57.735Z"
   },
   {
    "duration": 63,
    "start_time": "2025-01-10T17:16:57.749Z"
   },
   {
    "duration": 4,
    "start_time": "2025-01-10T17:16:57.814Z"
   },
   {
    "duration": 5,
    "start_time": "2025-01-10T17:16:57.820Z"
   },
   {
    "duration": 21,
    "start_time": "2025-01-10T17:16:57.826Z"
   },
   {
    "duration": 8,
    "start_time": "2025-01-10T17:16:57.849Z"
   },
   {
    "duration": 7,
    "start_time": "2025-01-10T17:16:57.859Z"
   },
   {
    "duration": 557,
    "start_time": "2025-01-10T17:16:57.868Z"
   },
   {
    "duration": 810184,
    "start_time": "2025-01-10T17:16:58.426Z"
   },
   {
    "duration": 448997,
    "start_time": "2025-01-10T17:30:28.612Z"
   },
   {
    "duration": 5,
    "start_time": "2025-01-10T17:37:57.611Z"
   },
   {
    "duration": 115672,
    "start_time": "2025-01-10T17:37:57.617Z"
   },
   {
    "duration": 3,
    "start_time": "2025-01-10T17:39:53.291Z"
   },
   {
    "duration": 3,
    "start_time": "2025-01-10T17:53:22.135Z"
   },
   {
    "duration": 1016,
    "start_time": "2025-01-10T17:55:17.705Z"
   },
   {
    "duration": 500,
    "start_time": "2025-01-10T17:55:18.723Z"
   },
   {
    "duration": 2,
    "start_time": "2025-01-10T17:55:19.225Z"
   },
   {
    "duration": 38,
    "start_time": "2025-01-10T17:55:19.230Z"
   },
   {
    "duration": 17,
    "start_time": "2025-01-10T17:55:19.270Z"
   },
   {
    "duration": 34,
    "start_time": "2025-01-10T17:55:19.288Z"
   },
   {
    "duration": 15,
    "start_time": "2025-01-10T17:55:19.323Z"
   },
   {
    "duration": 14,
    "start_time": "2025-01-10T17:55:19.340Z"
   },
   {
    "duration": 4,
    "start_time": "2025-01-10T17:55:19.356Z"
   },
   {
    "duration": 6,
    "start_time": "2025-01-10T17:55:19.364Z"
   },
   {
    "duration": 5,
    "start_time": "2025-01-10T17:55:19.371Z"
   },
   {
    "duration": 3,
    "start_time": "2025-01-10T17:55:19.409Z"
   },
   {
    "duration": 4,
    "start_time": "2025-01-10T17:55:19.414Z"
   },
   {
    "duration": 6,
    "start_time": "2025-01-10T17:55:19.420Z"
   },
   {
    "duration": 3,
    "start_time": "2025-01-10T17:55:19.428Z"
   },
   {
    "duration": 4,
    "start_time": "2025-01-10T17:55:19.433Z"
   },
   {
    "duration": 3,
    "start_time": "2025-01-10T17:55:19.439Z"
   },
   {
    "duration": 78,
    "start_time": "2025-01-10T17:55:19.443Z"
   },
   {
    "duration": 17,
    "start_time": "2025-01-10T17:55:19.524Z"
   },
   {
    "duration": 23,
    "start_time": "2025-01-10T17:55:19.543Z"
   },
   {
    "duration": 16,
    "start_time": "2025-01-10T17:55:19.568Z"
   },
   {
    "duration": 250,
    "start_time": "2025-01-10T17:55:19.608Z"
   },
   {
    "duration": 251,
    "start_time": "2025-01-10T17:55:19.860Z"
   },
   {
    "duration": 309,
    "start_time": "2025-01-10T17:55:20.114Z"
   },
   {
    "duration": 4,
    "start_time": "2025-01-10T17:55:20.425Z"
   },
   {
    "duration": 8,
    "start_time": "2025-01-10T17:55:20.431Z"
   },
   {
    "duration": 10,
    "start_time": "2025-01-10T17:55:20.441Z"
   },
   {
    "duration": 211,
    "start_time": "2025-01-10T17:55:20.456Z"
   },
   {
    "duration": 18,
    "start_time": "2025-01-10T17:55:20.669Z"
   },
   {
    "duration": 768,
    "start_time": "2025-01-10T17:55:20.689Z"
   },
   {
    "duration": 6,
    "start_time": "2025-01-10T17:55:21.459Z"
   },
   {
    "duration": 2,
    "start_time": "2025-01-10T17:55:21.468Z"
   },
   {
    "duration": 989,
    "start_time": "2025-01-10T17:55:21.472Z"
   },
   {
    "duration": 825,
    "start_time": "2025-01-10T17:55:22.463Z"
   },
   {
    "duration": 941,
    "start_time": "2025-01-10T17:55:23.290Z"
   },
   {
    "duration": 5,
    "start_time": "2025-01-10T17:55:24.237Z"
   },
   {
    "duration": 6,
    "start_time": "2025-01-10T17:55:24.247Z"
   },
   {
    "duration": 8,
    "start_time": "2025-01-10T17:55:24.259Z"
   },
   {
    "duration": 17,
    "start_time": "2025-01-10T17:55:24.272Z"
   },
   {
    "duration": 48,
    "start_time": "2025-01-10T17:55:24.294Z"
   },
   {
    "duration": 5,
    "start_time": "2025-01-10T17:55:24.348Z"
   },
   {
    "duration": 9,
    "start_time": "2025-01-10T17:55:24.357Z"
   },
   {
    "duration": 28,
    "start_time": "2025-01-10T17:55:24.368Z"
   },
   {
    "duration": 17,
    "start_time": "2025-01-10T17:55:24.399Z"
   },
   {
    "duration": 10,
    "start_time": "2025-01-10T17:55:24.421Z"
   },
   {
    "duration": 986,
    "start_time": "2025-01-10T17:55:24.433Z"
   },
   {
    "duration": 810065,
    "start_time": "2025-01-10T17:55:25.430Z"
   },
   {
    "duration": 2405597,
    "start_time": "2025-01-10T18:08:55.496Z"
   },
   {
    "duration": 450367,
    "start_time": "2025-01-10T18:49:01.095Z"
   },
   {
    "duration": 2,
    "start_time": "2025-01-10T18:56:31.465Z"
   },
   {
    "duration": 115678,
    "start_time": "2025-01-10T18:56:31.469Z"
   },
   {
    "duration": 3,
    "start_time": "2025-01-10T18:58:27.149Z"
   },
   {
    "duration": 180,
    "start_time": "2025-01-11T10:48:27.181Z"
   },
   {
    "duration": 2745,
    "start_time": "2025-01-11T10:52:53.121Z"
   },
   {
    "duration": 632,
    "start_time": "2025-01-11T10:52:55.868Z"
   },
   {
    "duration": 2,
    "start_time": "2025-01-11T10:52:56.502Z"
   },
   {
    "duration": 39,
    "start_time": "2025-01-11T10:52:56.510Z"
   },
   {
    "duration": 17,
    "start_time": "2025-01-11T10:52:56.551Z"
   },
   {
    "duration": 14,
    "start_time": "2025-01-11T10:52:56.570Z"
   },
   {
    "duration": 15,
    "start_time": "2025-01-11T10:52:56.609Z"
   },
   {
    "duration": 14,
    "start_time": "2025-01-11T10:52:56.626Z"
   },
   {
    "duration": 5,
    "start_time": "2025-01-11T10:52:56.641Z"
   },
   {
    "duration": 3,
    "start_time": "2025-01-11T10:52:56.649Z"
   },
   {
    "duration": 5,
    "start_time": "2025-01-11T10:52:56.653Z"
   },
   {
    "duration": 4,
    "start_time": "2025-01-11T10:52:56.659Z"
   },
   {
    "duration": 44,
    "start_time": "2025-01-11T10:52:56.665Z"
   },
   {
    "duration": 6,
    "start_time": "2025-01-11T10:52:56.711Z"
   },
   {
    "duration": 3,
    "start_time": "2025-01-11T10:52:56.719Z"
   },
   {
    "duration": 5,
    "start_time": "2025-01-11T10:52:56.723Z"
   },
   {
    "duration": 2,
    "start_time": "2025-01-11T10:52:56.730Z"
   },
   {
    "duration": 44,
    "start_time": "2025-01-11T10:52:56.734Z"
   },
   {
    "duration": 44,
    "start_time": "2025-01-11T10:52:56.780Z"
   },
   {
    "duration": 23,
    "start_time": "2025-01-11T10:52:56.826Z"
   },
   {
    "duration": 16,
    "start_time": "2025-01-11T10:52:56.851Z"
   },
   {
    "duration": 305,
    "start_time": "2025-01-11T10:52:56.869Z"
   },
   {
    "duration": 279,
    "start_time": "2025-01-11T10:52:57.176Z"
   },
   {
    "duration": 374,
    "start_time": "2025-01-11T10:52:57.457Z"
   },
   {
    "duration": 3,
    "start_time": "2025-01-11T10:52:57.833Z"
   },
   {
    "duration": 7,
    "start_time": "2025-01-11T10:52:57.838Z"
   },
   {
    "duration": 8,
    "start_time": "2025-01-11T10:52:57.846Z"
   },
   {
    "duration": 204,
    "start_time": "2025-01-11T10:52:57.859Z"
   },
   {
    "duration": 18,
    "start_time": "2025-01-11T10:52:58.065Z"
   },
   {
    "duration": 773,
    "start_time": "2025-01-11T10:52:58.085Z"
   },
   {
    "duration": 6,
    "start_time": "2025-01-11T10:52:58.860Z"
   },
   {
    "duration": 3,
    "start_time": "2025-01-11T10:52:58.867Z"
   },
   {
    "duration": 862,
    "start_time": "2025-01-11T10:52:58.871Z"
   },
   {
    "duration": 833,
    "start_time": "2025-01-11T10:52:59.735Z"
   },
   {
    "duration": 944,
    "start_time": "2025-01-11T10:53:00.570Z"
   },
   {
    "duration": 4,
    "start_time": "2025-01-11T10:53:01.516Z"
   },
   {
    "duration": 3,
    "start_time": "2025-01-11T10:53:01.522Z"
   },
   {
    "duration": 7,
    "start_time": "2025-01-11T10:53:01.526Z"
   },
   {
    "duration": 11,
    "start_time": "2025-01-11T10:53:01.534Z"
   },
   {
    "duration": 63,
    "start_time": "2025-01-11T10:53:01.547Z"
   },
   {
    "duration": 4,
    "start_time": "2025-01-11T10:53:01.612Z"
   },
   {
    "duration": 5,
    "start_time": "2025-01-11T10:53:01.619Z"
   },
   {
    "duration": 20,
    "start_time": "2025-01-11T10:53:01.626Z"
   },
   {
    "duration": 8,
    "start_time": "2025-01-11T10:53:01.648Z"
   },
   {
    "duration": 6,
    "start_time": "2025-01-11T10:53:01.658Z"
   },
   {
    "duration": 560,
    "start_time": "2025-01-11T10:53:01.666Z"
   },
   {
    "duration": 810363,
    "start_time": "2025-01-11T10:53:02.228Z"
   },
   {
    "duration": 2405637,
    "start_time": "2025-01-11T11:06:32.592Z"
   },
   {
    "duration": 225080,
    "start_time": "2025-01-11T11:46:38.232Z"
   },
   {
    "duration": 2,
    "start_time": "2025-01-11T11:50:23.314Z"
   },
   {
    "duration": 57791,
    "start_time": "2025-01-11T11:50:23.318Z"
   },
   {
    "duration": 4,
    "start_time": "2025-01-11T11:51:21.110Z"
   }
  ],
  "kernelspec": {
   "display_name": "Python 3 (ipykernel)",
   "language": "python",
   "name": "python3"
  },
  "language_info": {
   "codemirror_mode": {
    "name": "ipython",
    "version": 3
   },
   "file_extension": ".py",
   "mimetype": "text/x-python",
   "name": "python",
   "nbconvert_exporter": "python",
   "pygments_lexer": "ipython3",
   "version": "3.9.19"
  },
  "toc": {
   "base_numbering": 1,
   "nav_menu": {},
   "number_sections": true,
   "sideBar": true,
   "skip_h1_title": true,
   "title_cell": "Table of Contents",
   "title_sidebar": "Contents",
   "toc_cell": false,
   "toc_position": {
    "height": "calc(100% - 180px)",
    "left": "10px",
    "top": "150px",
    "width": "221.592px"
   },
   "toc_section_display": true,
   "toc_window_display": true
  }
 },
 "nbformat": 4,
 "nbformat_minor": 2
}
